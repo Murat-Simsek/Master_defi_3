{
 "cells": [
  {
   "cell_type": "code",
   "execution_count": 1,
   "id": "70c9129d-3431-4c12-bc12-9056a859e0bc",
   "metadata": {},
   "outputs": [],
   "source": [
    "import pandas as pd\n",
    "import numpy as np\n",
    "import re\n",
    "# --------------------\n",
    "from sklearn.feature_extraction.text import  TfidfTransformer\n",
    "from sklearn.pipeline import Pipeline\n",
    "from sklearn.feature_extraction.text import CountVectorizer\n",
    "from sklearn.model_selection import train_test_split\n",
    "from sklearn.naive_bayes import MultinomialNB\n",
    "from sklearn.metrics import confusion_matrix,classification_report\n",
    "import math\n",
    "import unidecode "
   ]
  },
  {
   "cell_type": "code",
   "execution_count": 2,
   "id": "50babe46-219e-4818-97b3-0db0dade1886",
   "metadata": {},
   "outputs": [],
   "source": [
    "df = pd.read_csv('data_defi3.csv.gz',compression=\"gzip\", sep=\";\")"
   ]
  },
  {
   "cell_type": "code",
   "execution_count": 3,
   "id": "18c5239d-ad1c-42d9-b4d0-7a606fdfdc7d",
   "metadata": {},
   "outputs": [],
   "source": [
    "def preprocess_text(sen):\n",
    "    # Remove punctuations and numbers\n",
    "    sentence = re.sub('[^a-zA-Z]', ' ', sen)\n",
    "\n",
    "    # Single character removal\n",
    "    sentence = re.sub(r\"\\s+[a-zA-Z]\\s+\", ' ', sentence)\n",
    "\n",
    "    # Removing multiple spaces\n",
    "    sentence = re.sub(r'\\s+', ' ', sentence)\n",
    "\n",
    "    return sentence"
   ]
  },
  {
   "cell_type": "code",
   "execution_count": 4,
   "id": "9113c83e-6752-4b3c-8817-b779c82261af",
   "metadata": {},
   "outputs": [],
   "source": [
    "# Modification possible to stop words\n",
    "stop_word = [\"a\",\"abord\",\"absolument\",\"afin\",\"ah\",\"ai\",\"aie\",\"aient\",\"aies\",\"ailleurs\",\"ainsi\",\"ait\",\"allaient\",\n",
    "             \"allo\",\"allons\",\"allô\",\"alors\",\"anterieur\",\"anterieure\",\"anterieures\",\"apres\",\"après\",\"as\",\"assez\",\n",
    "             \"attendu\",\"au\",\"aucun\",\"aucune\",\"aucuns\",\"aujourd\",\"aujourd'hui\",\"aupres\",\"auquel\",\"aura\",\"aurai\",\n",
    "             \"auraient\",\"aurais\",\"aurait\",\"auras\",\"aurez\",\"auriez\",\"aurions\",\"aurons\",\"auront\",\"aussi\",\"autant\",\n",
    "             \"autre\",\"autrefois\",\"autrement\",\"autres\",\"autrui\",\"aux\",\"auxquelles\",\"auxquels\",\"avaient\",\"avais\",\n",
    "             \"avait\",\"avant\",\"avec\",\"avez\",\"aviez\",\"avions\",\"avoir\",\"avons\",\"ayant\",\"ayez\",\"ayons\",\"b\",\"bah\",\n",
    "             \"bas\",\"basee\",\"bat\",\"beau\",\"beaucoup\",\"bien\",\"bigre\",\"bon\",\"boum\",\"bravo\",\"brrr\",\"c\",\"car\",\"ce\",\n",
    "             \"ceci\",\"cela\",\"celle\",\"celle-ci\",\"celle-là\",\"celles\",\"celles-ci\",\"celles-là\",\"celui\",\"celui-ci\",\n",
    "             \"celui-là\",\"celà\",\"cent\",\"cependant\",\"certain\",\"certaine\",\"certaines\",\"certains\",\"certes\",\"ces\",\n",
    "             \"cet\",\"cette\",\"ceux\",\"ceux-ci\",\"ceux-là\",\"chacun\",\"chacune\",\"chaque\",\"cher\",\"chers\",\"chez\",\"chiche\",\n",
    "             \"chut\",\"chère\",\"chères\",\"ci\",\"cinq\",\"cinquantaine\",\"cinquante\",\"cinquantième\",\"cinquième\",\"clac\",\"clic\",\n",
    "             \"combien\",\"comme\",\"comment\",\"comparable\",\"comparables\",\"compris\",\"concernant\",\"contre\",\"couic\",\n",
    "             \"crac\",\"d\",\"da\",\"dans\",\"de\",\"debout\",\"dedans\",\"dehors\",\"deja\",\"delà\",\"depuis\",\"dernier\",\"derniere\",\n",
    "             \"derriere\",\"derrière\",\"des\",\"desormais\",\"desquelles\",\"desquels\",\"dessous\",\"dessus\",\"deux\",\"deuxième\",\n",
    "             \"deuxièmement\",\"devant\",\"devers\",\"devra\",\"devrait\",\"different\",\"differentes\",\"differents\",\"différent\",\n",
    "             \"différente\",\"différentes\",\"différents\",\"dire\",\"directe\",\"directement\",\"dit\",\"dite\",\"dits\",\"divers\",\n",
    "             \"diverse\",\"diverses\",\"dix\",\"dix-huit\",\"dix-neuf\",\"dix-sept\",\"dixième\",\"doit\",\"doivent\",\"donc\",\"dont\",\n",
    "             \"dos\",\"douze\",\"douzième\",\"dring\",\"droite\",\"du\",\"duquel\",\"durant\",\"dès\",\"début\",\"désormais\",\"e\",\"effet\",\n",
    "             \"egale\",\"egalement\",\"egales\",\"eh\",\"elle\",\"elle-même\",\"elles\",\"elles-mêmes\",\"en\",\"encore\",\"enfin\",\"entre\",\"envers\",\"environ\",\"es\",\"essai\",\"est\",\"et\",\"etant\",\"etc\",\"etre\",\"eu\",\"eue\",\"eues\",\"euh\",\"eurent\",\"eus\",\"eusse\",\"eussent\",\"eusses\",\"eussiez\",\"eussions\",\"eut\",\"eux\",\"eux-mêmes\",\"exactement\",\"excepté\",\"extenso\",\"exterieur\",\"eûmes\",\"eût\",\"eûtes\",\"f\",\"fais\",\"faisaient\",\"faisant\",\"fait\",\"faites\",\"façon\",\"feront\",\"fi\",\"flac\",\"floc\",\"fois\",\"font\",\"force\",\"furent\",\"fus\",\"fusse\",\"fussent\",\"fusses\",\"fussiez\",\"fussions\",\"fut\",\"fûmes\",\"fût\",\"fûtes\",\"g\",\"gens\",\"h\",\"ha\",\"haut\",\"hein\",\"hem\",\"hep\",\"hi\",\"ho\",\"holà\",\"hop\",\"hormis\",\"hors\",\"hou\",\"houp\",\"hue\",\"hui\",\"huit\",\"huitième\",\"hum\",\"hurrah\",\"hé\",\"hélas\",\"i\",\"ici\",\"il\",\"ils\",\"importe\",\"j\",\"je\",\"jusqu\",\"jusque\",\"juste\",\"k\",\"l\",\"la\",\"laisser\",\"laquelle\",\"las\",\"le\",\"lequel\",\"les\",\"lesquelles\",\"lesquels\",\"leur\",\"leurs\",\"longtemps\",\"lors\",\"lorsque\",\"lui\",\"lui-meme\",\"lui-même\",\"là\",\"lès\",\"m\",\"ma\",\"maint\",\"maintenant\",\"mais\",\"malgre\",\"malgré\",\"maximale\",\"me\",\"meme\",\"memes\",\"merci\",\"mes\",\"mien\",\"mienne\",\"miennes\",\"miens\",\"mille\",\"mince\",\"mine\",\"minimale\",\"moi\",\"moi-meme\",\"moi-même\",\"moindres\",\"moins\",\"mon\",\"mot\",\"moyennant\",\"multiple\",\"multiples\",\"même\",\"mêmes\",\"n\",\"na\",\"naturel\",\"naturelle\",\"naturelles\",\"ne\",\"neanmoins\",\"necessaire\",\"necessairement\",\"neuf\",\"neuvième\",\"ni\",\"nombreuses\",\"nombreux\",\"nommés\",\"non\",\"nos\",\"notamment\",\"notre\",\"nous\",\"nous-mêmes\",\"nouveau\",\"nouveaux\",\"nul\",\"néanmoins\",\"nôtre\",\"nôtres\",\"o\",\"oh\",\"ohé\",\"ollé\",\"olé\",\"on\",\"ont\",\"onze\",\"onzième\",\"ore\",\"ou\",\"ouf\",\"ouias\",\"oust\",\"ouste\",\"outre\",\"ouvert\",\"ouverte\",\"ouverts\",\"o|\",\"où\",\"p\",\"paf\",\"pan\",\"par\",\"parce\",\"parfois\",\"parle\",\"parlent\",\"parler\",\"parmi\",\"parole\",\"parseme\",\"partant\",\"particulier\",\"particulière\",\"particulièrement\",\"pas\",\"passé\",\"pendant\",\"pense\",\"permet\",\"personne\",\"personnes\",\"peu\",\"peut\",\"peuvent\",\"peux\",\"pff\",\"pfft\",\"pfut\",\"pif\",\"pire\",\"pièce\",\"plein\",\"plouf\",\"plupart\",\"plus\",\"plusieurs\",\"plutôt\",\"possessif\",\"possessifs\",\"possible\",\"possibles\",\"pouah\",\"pour\",\"pourquoi\",\"pourrais\",\"pourrait\",\"pouvait\",\"prealable\",\"precisement\",\"premier\",\"première\",\"premièrement\",\"pres\",\"probable\",\"probante\",\"procedant\",\"proche\",\"près\",\"psitt\",\"pu\",\"puis\",\"puisque\",\"pur\",\"pure\",\"q\",\"qu\",\"quand\",\"quant\",\"quant-à-soi\",\"quanta\",\"quarante\",\"quatorze\",\"quatre\",\"quatre-vingt\",\"quatrième\",\"quatrièmement\",\"que\",\"quel\",\"quelconque\",\"quelle\",\"quelles\",\"quelqu'un\",\"quelque\",\"quelques\",\"quels\",\"qui\",\"quiconque\",\"quinze\",\"quoi\",\"quoique\",\"r\",\"rare\",\"rarement\",\"rares\",\"relative\",\"relativement\",\"remarquable\",\"rend\",\"rendre\",\"restant\",\"reste\",\"restent\",\"restrictif\",\"retour\",\"revoici\",\"revoilà\",\"rien\",\"s\",\"sa\",\"sacrebleu\",\"sait\",\"sans\",\"sapristi\",\"sauf\",\"se\",\"sein\",\"seize\",\"selon\",\"semblable\",\"semblaient\",\"semble\",\"semblent\",\"sent\",\"sept\",\"septième\",\"sera\",\"serai\",\"seraient\",\"serais\",\"serait\",\"seras\",\"serez\",\"seriez\",\"serions\",\"serons\",\"seront\",\"ses\",\"seul\",\"seule\",\"seulement\",\"si\",\"sien\",\"sienne\",\"siennes\",\"siens\",\"sinon\",\"six\",\"sixième\",\"soi\",\"soi-même\",\"soient\",\"sois\",\"soit\",\"soixante\",\"sommes\",\"son\",\"sont\",\"sous\",\"souvent\",\"soyez\",\"soyons\",\"specifique\",\"specifiques\",\"speculatif\",\"stop\",\"strictement\",\"subtiles\",\"suffisant\",\"suffisante\",\"suffit\",\"suis\",\"suit\",\"suivant\",\"suivante\",\"suivantes\",\"suivants\",\"suivre\",\"sujet\",\"superpose\",\"sur\",\"surtout\",\"t\",\"ta\",\"tac\",\"tandis\",\"tant\",\"tardive\",\"te\",\"tel\",\"telle\",\"tellement\",\"telles\",\"tels\",\"tenant\",\"tend\",\"tenir\",\"tente\",\"tes\",\"tic\",\"tien\",\"tienne\",\"tiennes\",\"tiens\",\"toc\",\"toi\",\"toi-même\",\"ton\",\"touchant\",\"toujours\",\"tous\",\"tout\",\"toute\",\"toutefois\",\"toutes\",\"treize\",\"trente\",\"tres\",\"trois\",\"troisième\",\"troisièmement\",\"trop\",\"très\",\"tsoin\",\"tsouin\",\"tu\",\"té\",\"u\",\"un\",\"une\",\"unes\",\"uniformement\",\"unique\",\"uniques\",\"uns\",\"v\",\"va\",\"vais\",\"valeur\",\"vas\",\"vers\",\"via\",\"vif\",\"vifs\",\"vingt\",\"vivat\",\"vive\",\"vives\",\"vlan\",\"voici\",\"voie\",\"voient\",\"voilà\",\"voire\",\"vont\",\"vos\",\"votre\",\"vous\",\"vous-mêmes\",\"vu\",\"vé\",\"vôtre\",\"vôtres\",\"w\",\"x\",\"y\",\"z\",\"zut\",\"à\",\"â\",\"ça\",\"ès\",\"étaient\",\"étais\",\"était\",\"étant\",\"état\",\"étiez\",\"étions\",\"été\",\"étée\",\"étées\",\"étés\",\"êtes\",\"être\",\"ô\"]\n"
   ]
  },
  {
   "cell_type": "code",
   "execution_count": 5,
   "id": "796447ad-c91e-4958-81f0-5959b9f8207d",
   "metadata": {},
   "outputs": [],
   "source": [
    "# functions to change PLT to 0 and 1\n",
    "chars = [4,4.1,4.2,5,5.1,5.2,5.3,6.3,6.4]\n",
    "def clean_text_plt_0or1():\n",
    "    for x in df['PLT']:\n",
    "        if x not in chars:\n",
    "            df['PLT'].replace(x, 0,inplace=True)\n",
    "    for c in chars:\n",
    "        df['PLT'].replace(c, 1,inplace=True)\n",
    "    #df = df.apply(lambda x : math.floor(x))\n",
    "    return df"
   ]
  },
  {
   "cell_type": "code",
   "execution_count": 6,
   "id": "190fb1fb-f771-4663-9c34-1adbca49f97d",
   "metadata": {},
   "outputs": [],
   "source": [
    "\n",
    "df.dropna(inplace=True)\n",
    "df['Avis.Pharmaceutique'] = df['Avis.Pharmaceutique'].apply(lambda x : unidecode.unidecode(x)) # Remove é etc and ponctuation\n",
    "df['PLT'] = df['PLT'].apply(lambda x : math.floor(x))\n",
    "df['Avis.Pharmaceutique'] = df['Avis.Pharmaceutique'].apply(lambda x : preprocess_text(x))\n",
    "df['Avis.Pharmaceutique'] = df['Avis.Pharmaceutique'].str.lower()\n",
    "df['Avis.Pharmaceutique'] = df['Avis.Pharmaceutique'].apply(lambda x: ' '.join([word for word in x.split() if word not in (stop_word)]))\n",
    "df = clean_text_plt_0or1()\n",
    "df['Length'] = df['Avis.Pharmaceutique'].str.len()\n"
   ]
  },
  {
   "cell_type": "code",
   "execution_count": 7,
   "id": "c76163b0-6689-41f6-aa6d-6c18cf29a382",
   "metadata": {},
   "outputs": [
    {
     "data": {
      "text/html": [
       "<div>\n",
       "<style scoped>\n",
       "    .dataframe tbody tr th:only-of-type {\n",
       "        vertical-align: middle;\n",
       "    }\n",
       "\n",
       "    .dataframe tbody tr th {\n",
       "        vertical-align: top;\n",
       "    }\n",
       "\n",
       "    .dataframe thead tr th {\n",
       "        text-align: left;\n",
       "    }\n",
       "\n",
       "    .dataframe thead tr:last-of-type th {\n",
       "        text-align: right;\n",
       "    }\n",
       "</style>\n",
       "<table border=\"1\" class=\"dataframe\">\n",
       "  <thead>\n",
       "    <tr>\n",
       "      <th></th>\n",
       "      <th colspan=\"8\" halign=\"left\">Length</th>\n",
       "    </tr>\n",
       "    <tr>\n",
       "      <th></th>\n",
       "      <th>count</th>\n",
       "      <th>mean</th>\n",
       "      <th>std</th>\n",
       "      <th>min</th>\n",
       "      <th>25%</th>\n",
       "      <th>50%</th>\n",
       "      <th>75%</th>\n",
       "      <th>max</th>\n",
       "    </tr>\n",
       "    <tr>\n",
       "      <th>PLT</th>\n",
       "      <th></th>\n",
       "      <th></th>\n",
       "      <th></th>\n",
       "      <th></th>\n",
       "      <th></th>\n",
       "      <th></th>\n",
       "      <th></th>\n",
       "      <th></th>\n",
       "    </tr>\n",
       "  </thead>\n",
       "  <tbody>\n",
       "    <tr>\n",
       "      <th>0</th>\n",
       "      <td>19245.0</td>\n",
       "      <td>53.183996</td>\n",
       "      <td>30.917621</td>\n",
       "      <td>0.0</td>\n",
       "      <td>31.0</td>\n",
       "      <td>47.0</td>\n",
       "      <td>68.0</td>\n",
       "      <td>335.0</td>\n",
       "    </tr>\n",
       "    <tr>\n",
       "      <th>1</th>\n",
       "      <td>3896.0</td>\n",
       "      <td>47.955595</td>\n",
       "      <td>28.643824</td>\n",
       "      <td>0.0</td>\n",
       "      <td>29.0</td>\n",
       "      <td>41.0</td>\n",
       "      <td>62.0</td>\n",
       "      <td>210.0</td>\n",
       "    </tr>\n",
       "  </tbody>\n",
       "</table>\n",
       "</div>"
      ],
      "text/plain": [
       "      Length                                                    \n",
       "       count       mean        std  min   25%   50%   75%    max\n",
       "PLT                                                             \n",
       "0    19245.0  53.183996  30.917621  0.0  31.0  47.0  68.0  335.0\n",
       "1     3896.0  47.955595  28.643824  0.0  29.0  41.0  62.0  210.0"
      ]
     },
     "execution_count": 7,
     "metadata": {},
     "output_type": "execute_result"
    }
   ],
   "source": [
    "df.groupby('PLT').describe()"
   ]
  },
  {
   "cell_type": "code",
   "execution_count": 8,
   "id": "e9dc1513-d275-4c2e-bf23-45b793f97c91",
   "metadata": {},
   "outputs": [
    {
     "data": {
      "text/plain": [
       "<AxesSubplot:ylabel='Frequency'>"
      ]
     },
     "execution_count": 8,
     "metadata": {},
     "output_type": "execute_result"
    },
    {
     "data": {
      "image/png": "[encoded data removed]",
      "text/plain": [
       "<Figure size 432x288 with 1 Axes>"
      ]
     },
     "metadata": {
      "needs_background": "light"
     },
     "output_type": "display_data"
    }
   ],
   "source": [
    "df['Length'].plot(bins=40, kind='hist') "
   ]
  },
  {
   "cell_type": "code",
   "execution_count": 9,
   "id": "6e4ed634-db99-4525-9d2a-062afbdee6fc",
   "metadata": {},
   "outputs": [
    {
     "data": {
      "text/html": [
       "<div>\n",
       "<style scoped>\n",
       "    .dataframe tbody tr th:only-of-type {\n",
       "        vertical-align: middle;\n",
       "    }\n",
       "\n",
       "    .dataframe tbody tr th {\n",
       "        vertical-align: top;\n",
       "    }\n",
       "\n",
       "    .dataframe thead th {\n",
       "        text-align: right;\n",
       "    }\n",
       "</style>\n",
       "<table border=\"1\" class=\"dataframe\">\n",
       "  <thead>\n",
       "    <tr style=\"text-align: right;\">\n",
       "      <th></th>\n",
       "      <th>Libellé.Prescription</th>\n",
       "      <th>Avis.Pharmaceutique</th>\n",
       "      <th>PLT</th>\n",
       "      <th>Length</th>\n",
       "    </tr>\n",
       "  </thead>\n",
       "  <tbody>\n",
       "    <tr>\n",
       "      <th>0</th>\n",
       "      <td>CONTRAMAL 100 MG/ML, GOUTTES BUV (TRAMADOL)</td>\n",
       "      <td>indication</td>\n",
       "      <td>1</td>\n",
       "      <td>10</td>\n",
       "    </tr>\n",
       "    <tr>\n",
       "      <th>1</th>\n",
       "      <td>IMOVANE 7.5 MG, CPR SÉCABLE (ZOPICLONE)</td>\n",
       "      <td>recommande imovane mg cp coucher eb</td>\n",
       "      <td>1</td>\n",
       "      <td>35</td>\n",
       "    </tr>\n",
       "    <tr>\n",
       "      <th>2</th>\n",
       "      <td>COLCHICINE 1 MG, CPR SÉCABLE (COLCHICINE)</td>\n",
       "      <td>vue dfg recommande administrer mg donnees gpr ...</td>\n",
       "      <td>1</td>\n",
       "      <td>80</td>\n",
       "    </tr>\n",
       "    <tr>\n",
       "      <th>3</th>\n",
       "      <td>PANTOPRAZOLE 40 MG, CPR GASTRO-RÉSISTANT (EUPA...</td>\n",
       "      <td>dose curative absence atcd gastrique retrouve ...</td>\n",
       "      <td>1</td>\n",
       "      <td>82</td>\n",
       "    </tr>\n",
       "    <tr>\n",
       "      <th>4</th>\n",
       "      <td>VANCOMYCINE 500 mg 1x/j</td>\n",
       "      <td>posologie infrat veuillez reevaluer posologie ...</td>\n",
       "      <td>0</td>\n",
       "      <td>64</td>\n",
       "    </tr>\n",
       "  </tbody>\n",
       "</table>\n",
       "</div>"
      ],
      "text/plain": [
       "                                Libellé.Prescription  \\\n",
       "0        CONTRAMAL 100 MG/ML, GOUTTES BUV (TRAMADOL)   \n",
       "1            IMOVANE 7.5 MG, CPR SÉCABLE (ZOPICLONE)   \n",
       "2          COLCHICINE 1 MG, CPR SÉCABLE (COLCHICINE)   \n",
       "3  PANTOPRAZOLE 40 MG, CPR GASTRO-RÉSISTANT (EUPA...   \n",
       "4                            VANCOMYCINE 500 mg 1x/j   \n",
       "\n",
       "                                 Avis.Pharmaceutique  PLT  Length  \n",
       "0                                         indication    1      10  \n",
       "1                recommande imovane mg cp coucher eb    1      35  \n",
       "2  vue dfg recommande administrer mg donnees gpr ...    1      80  \n",
       "3  dose curative absence atcd gastrique retrouve ...    1      82  \n",
       "4  posologie infrat veuillez reevaluer posologie ...    0      64  "
      ]
     },
     "execution_count": 9,
     "metadata": {},
     "output_type": "execute_result"
    }
   ],
   "source": [
    "df.head()"
   ]
  },
  {
   "cell_type": "markdown",
   "id": "07371a09-cf8f-4d98-a554-26764c75c45d",
   "metadata": {},
   "source": [
    "#### XLNET "
   ]
  },
  {
   "cell_type": "code",
   "execution_count": 10,
   "id": "2886b718-31bc-405f-b69e-392ef07a616c",
   "metadata": {},
   "outputs": [],
   "source": [
    "#! pip uninstall torch torchvision -y\n",
    "#! pip install torch==1.6.0+cu101 torchvision==0.7.0+cu101 -f https://download.pytorch.org/whl/torch_stable.html\n",
    "#! pip install torch==1.9.0+cu111 torchvision==0.10.0+cu111 torchaudio==0.9.0 -f https://download.pytorch.org/whl/torch_stable.html\n",
    "#! pip install -U transformers\n",
    "#! pip install -U simpletransformers \n",
    "# pip install torch"
   ]
  },
  {
   "cell_type": "code",
   "execution_count": 11,
   "id": "fe96f55b-a4d1-448a-a369-e9e60fdc1b5e",
   "metadata": {},
   "outputs": [
    {
     "data": {
      "text/plain": [
       "((18512, 2), (4629, 2))"
      ]
     },
     "execution_count": 11,
     "metadata": {},
     "output_type": "execute_result"
    }
   ],
   "source": [
    "# splitting the data into training and eval dataset\n",
    "X = df['Avis.Pharmaceutique']\n",
    "y = df['PLT']\n",
    "\n",
    "from sklearn.model_selection import train_test_split\n",
    "X_train, X_test, y_train, y_test = train_test_split(X, y, test_size=0.2, random_state=42, stratify=y)\n",
    "\n",
    "train_df = pd.DataFrame(X_train)\n",
    "train_df['PLT'] = y_train\n",
    "\n",
    "eval_df = pd.DataFrame(X_test)\n",
    "eval_df['PLT'] = y_test\n",
    "\n",
    "train_df.shape, eval_df.shape"
   ]
  },
  {
   "cell_type": "code",
   "execution_count": 14,
   "id": "8e8c4b04-7340-4d5b-bc99-c879631d178f",
   "metadata": {},
   "outputs": [],
   "source": [
    "import pandas as pd\n",
    "import logging\n",
    "import sklearn\n",
    "from sklearn.utils import class_weight\n",
    "from simpletransformers.classification import ClassificationModel, ClassificationArgs\n",
    "\n",
    "\n",
    "logging.basicConfig(level=logging.INFO)\n",
    "transformers_logger = logging.getLogger(\"transformers\")\n",
    "transformers_logger.setLevel(logging.WARNING)"
   ]
  },
  {
   "cell_type": "code",
   "execution_count": 16,
   "id": "4cfd3d43-98a8-4447-842d-6123ff1f40fe",
   "metadata": {},
   "outputs": [
    {
     "name": "stderr",
     "output_type": "stream",
     "text": [
      "C:\\Users\\murat\\anaconda3\\lib\\site-packages\\sklearn\\utils\\validation.py:70: FutureWarning: Pass classes=[0 1], y=10762    0\n",
      "20625    0\n",
      "1191     0\n",
      "18885    0\n",
      "1695     0\n",
      "        ..\n",
      "7778     0\n",
      "5590     0\n",
      "15306    0\n",
      "143      0\n",
      "12318    0\n",
      "Name: PLT, Length: 18512, dtype: int64 as keyword args. From version 1.0 (renaming of 0.25) passing these as positional arguments will result in an error\n",
      "  warnings.warn(f\"Pass {args_msg} as keyword args. From version \"\n"
     ]
    },
    {
     "data": {
      "text/plain": [
       "array([0.60123417, 2.96952198])"
      ]
     },
     "execution_count": 16,
     "metadata": {},
     "output_type": "execute_result"
    }
   ],
   "source": [
    "class_weights = class_weight.compute_class_weight('balanced',\n",
    "                                                 np.unique(y_train),\n",
    "                                                 y_train)\n",
    "class_weights"
   ]
  },
  {
   "cell_type": "code",
   "execution_count": 17,
   "id": "68040896-4840-4a46-8965-19baecd75135",
   "metadata": {},
   "outputs": [
    {
     "name": "stderr",
     "output_type": "stream",
     "text": [
      "Some weights of the model checkpoint at xlnet-base-cased were not used when initializing XLNetForSequenceClassification: ['lm_loss.weight', 'lm_loss.bias']\n",
      "- This IS expected if you are initializing XLNetForSequenceClassification from the checkpoint of a model trained on another task or with another architecture (e.g. initializing a BertForSequenceClassification model from a BertForPreTraining model).\n",
      "- This IS NOT expected if you are initializing XLNetForSequenceClassification from the checkpoint of a model that you expect to be exactly identical (initializing a BertForSequenceClassification model from a BertForSequenceClassification model).\n",
      "Some weights of XLNetForSequenceClassification were not initialized from the model checkpoint at xlnet-base-cased and are newly initialized: ['sequence_summary.summary.weight', 'logits_proj.weight', 'logits_proj.bias', 'sequence_summary.summary.bias']\n",
      "You should probably TRAIN this model on a down-stream task to be able to use it for predictions and inference.\n",
      "C:\\Users\\murat\\anaconda3\\lib\\site-packages\\simpletransformers\\classification\\classification_model.py:612: UserWarning: Dataframe headers not specified. Falling back to using column 0 as text and column 1 as labels.\n",
      "  warnings.warn(\n",
      "INFO:simpletransformers.classification.classification_utils: Converting to features started. Cache is not used.\n"
     ]
    },
    {
     "data": {
      "application/vnd.jupyter.widget-view+json": {
       "model_id": "8cf523bee26c48128ee620afe85dd4e9",
       "version_major": 2,
       "version_minor": 0
      },
      "text/plain": [
       "  0%|          | 0/18512 [00:00<?, ?it/s]"
      ]
     },
     "metadata": {},
     "output_type": "display_data"
    },
    {
     "name": "stderr",
     "output_type": "stream",
     "text": [
      "INFO:simpletransformers.classification.classification_utils: Saving features into cached file cache_dir/cached_train_xlnet_40_2_2\n"
     ]
    },
    {
     "data": {
      "application/vnd.jupyter.widget-view+json": {
       "model_id": "660bdddc83b340a48b883dc5b8183ba1",
       "version_major": 2,
       "version_minor": 0
      },
      "text/plain": [
       "Epoch:   0%|          | 0/5 [00:00<?, ?it/s]"
      ]
     },
     "metadata": {},
     "output_type": "display_data"
    },
    {
     "data": {
      "application/vnd.jupyter.widget-view+json": {
       "model_id": "98bf1a81a1a94c97948ece3b58471a13",
       "version_major": 2,
       "version_minor": 0
      },
      "text/plain": [
       "Running Epoch 0 of 5:   0%|          | 0/579 [00:00<?, ?it/s]"
      ]
     },
     "metadata": {},
     "output_type": "display_data"
    },
    {
     "data": {
      "application/vnd.jupyter.widget-view+json": {
       "model_id": "f0fc3880d2c947128bf8c4ec172f09a0",
       "version_major": 2,
       "version_minor": 0
      },
      "text/plain": [
       "Running Epoch 1 of 5:   0%|          | 0/579 [00:00<?, ?it/s]"
      ]
     },
     "metadata": {},
     "output_type": "display_data"
    },
    {
     "data": {
      "application/vnd.jupyter.widget-view+json": {
       "model_id": "7df2e075ef1e4365bbd780f032dda652",
       "version_major": 2,
       "version_minor": 0
      },
      "text/plain": [
       "Running Epoch 2 of 5:   0%|          | 0/579 [00:00<?, ?it/s]"
      ]
     },
     "metadata": {},
     "output_type": "display_data"
    },
    {
     "data": {
      "application/vnd.jupyter.widget-view+json": {
       "model_id": "59326400d8f94a92b6fe2e6e441ad9a5",
       "version_major": 2,
       "version_minor": 0
      },
      "text/plain": [
       "Running Epoch 3 of 5:   0%|          | 0/579 [00:00<?, ?it/s]"
      ]
     },
     "metadata": {},
     "output_type": "display_data"
    },
    {
     "data": {
      "application/vnd.jupyter.widget-view+json": {
       "model_id": "148137b5329e41478baf7676bf715825",
       "version_major": 2,
       "version_minor": 0
      },
      "text/plain": [
       "Running Epoch 4 of 5:   0%|          | 0/579 [00:00<?, ?it/s]"
      ]
     },
     "metadata": {},
     "output_type": "display_data"
    },
    {
     "name": "stderr",
     "output_type": "stream",
     "text": [
      "INFO:simpletransformers.classification.classification_model: Training of xlnet model complete. Saved to outputs/.\n",
      "C:\\Users\\murat\\anaconda3\\lib\\site-packages\\simpletransformers\\classification\\classification_model.py:1454: UserWarning: Dataframe headers not specified. Falling back to using column 0 as text and column 1 as labels.\n",
      "  warnings.warn(\n",
      "INFO:simpletransformers.classification.classification_utils: Converting to features started. Cache is not used.\n"
     ]
    },
    {
     "data": {
      "application/vnd.jupyter.widget-view+json": {
       "model_id": "0b8cb7e97b1b4f2491f066dbb86d24dd",
       "version_major": 2,
       "version_minor": 0
      },
      "text/plain": [
       "  0%|          | 0/4629 [00:00<?, ?it/s]"
      ]
     },
     "metadata": {},
     "output_type": "display_data"
    },
    {
     "name": "stderr",
     "output_type": "stream",
     "text": [
      "INFO:simpletransformers.classification.classification_utils: Saving features into cached file cache_dir/cached_dev_xlnet_40_2_2\n"
     ]
    },
    {
     "data": {
      "application/vnd.jupyter.widget-view+json": {
       "model_id": "42f1ea77c60d487ba3599171d1787ab7",
       "version_major": 2,
       "version_minor": 0
      },
      "text/plain": [
       "Running Evaluation:   0%|          | 0/579 [00:00<?, ?it/s]"
      ]
     },
     "metadata": {},
     "output_type": "display_data"
    },
    {
     "name": "stderr",
     "output_type": "stream",
     "text": [
      "INFO:simpletransformers.classification.classification_model:{'mcc': 0.7145251846958925, 'tp': 626, 'tn': 3616, 'fp': 234, 'fn': 153, 'auroc': 0.9576398312855309, 'auprc': 0.8484248977340285, 'acc': 0.916396629941672, 'eval_loss': 0.3879977490023379}\n"
     ]
    }
   ],
   "source": [
    "\n",
    "model_args = ClassificationArgs(num_train_epochs=5,overwrite_output_dir=True,train_batch_size=32,max_seq_length=40)\n",
    "# Create a ClassificationModel\n",
    "model = ClassificationModel('xlnet', 'xlnet-base-cased', args=model_args,weight=[0.6,2.5]) # You can set class weights by using the optional weight argument\n",
    "\n",
    "# Train the model\n",
    "model.train_model(train_df)\n",
    "\n",
    "# Evaluate the model\n",
    "result, model_outputs, wrong_predictions = model.eval_model(eval_df, acc=sklearn.metrics.accuracy_score)"
   ]
  },
  {
   "cell_type": "code",
   "execution_count": 19,
   "id": "ef1bac3f-cbed-4e5b-b610-330e246a6e67",
   "metadata": {},
   "outputs": [
    {
     "name": "stderr",
     "output_type": "stream",
     "text": [
      "INFO:simpletransformers.classification.classification_utils: Converting to features started. Cache is not used.\n"
     ]
    },
    {
     "data": {
      "application/vnd.jupyter.widget-view+json": {
       "model_id": "318ac5597873457fbd964d6f801f2fdc",
       "version_major": 2,
       "version_minor": 0
      },
      "text/plain": [
       "  0%|          | 0/4629 [00:00<?, ?it/s]"
      ]
     },
     "metadata": {},
     "output_type": "display_data"
    },
    {
     "data": {
      "application/vnd.jupyter.widget-view+json": {
       "model_id": "279468c6e9a74eb4987f999f910cc289",
       "version_major": 2,
       "version_minor": 0
      },
      "text/plain": [
       "  0%|          | 0/579 [00:00<?, ?it/s]"
      ]
     },
     "metadata": {},
     "output_type": "display_data"
    }
   ],
   "source": [
    "predictions, raw_outputs = model.predict(X_test.tolist())"
   ]
  },
  {
   "cell_type": "code",
   "execution_count": 20,
   "id": "ee84b2e0-bf74-4651-b4b5-831d070b912a",
   "metadata": {},
   "outputs": [
    {
     "data": {
      "text/plain": [
       "array([1, 0, 0, ..., 0, 0, 0], dtype=int64)"
      ]
     },
     "execution_count": 20,
     "metadata": {},
     "output_type": "execute_result"
    }
   ],
   "source": [
    "predictions"
   ]
  },
  {
   "cell_type": "code",
   "execution_count": 21,
   "id": "466501a2-d1de-42c5-ac89-2cf427996244",
   "metadata": {},
   "outputs": [
    {
     "name": "stdout",
     "output_type": "stream",
     "text": [
      "              precision    recall  f1-score   support\n",
      "\n",
      "           0       0.96      0.94      0.95      3850\n",
      "           1       0.73      0.80      0.76       779\n",
      "\n",
      "    accuracy                           0.92      4629\n",
      "   macro avg       0.84      0.87      0.86      4629\n",
      "weighted avg       0.92      0.92      0.92      4629\n",
      "\n",
      "[[3616  234]\n",
      " [ 153  626]]\n"
     ]
    }
   ],
   "source": [
    "print(classification_report(y_test,predictions))\n",
    "print(confusion_matrix(y_test,predictions))"
   ]
  },
  {
   "cell_type": "markdown",
   "id": "fa8971a7-da65-4eb4-b92d-ce1e25069dc2",
   "metadata": {},
   "source": [
    "### Predictions with Validation DATA"
   ]
  },
  {
   "cell_type": "code",
   "execution_count": 117,
   "id": "61721709-e835-4008-a7e1-c950b6aadfc9",
   "metadata": {},
   "outputs": [],
   "source": [
    "df_val = pd.read_csv('valid_set.csv.gz',compression=\"gzip\", sep=\";\")"
   ]
  },
  {
   "cell_type": "code",
   "execution_count": 118,
   "id": "104f4bdc-4075-41ce-aec3-f6f1846fd8f0",
   "metadata": {},
   "outputs": [
    {
     "data": {
      "text/html": [
       "<div>\n",
       "<style scoped>\n",
       "    .dataframe tbody tr th:only-of-type {\n",
       "        vertical-align: middle;\n",
       "    }\n",
       "\n",
       "    .dataframe tbody tr th {\n",
       "        vertical-align: top;\n",
       "    }\n",
       "\n",
       "    .dataframe thead th {\n",
       "        text-align: right;\n",
       "    }\n",
       "</style>\n",
       "<table border=\"1\" class=\"dataframe\">\n",
       "  <thead>\n",
       "    <tr style=\"text-align: right;\">\n",
       "      <th></th>\n",
       "      <th>Libellé.Prescription</th>\n",
       "      <th>Avis.Pharmaceutique</th>\n",
       "    </tr>\n",
       "  </thead>\n",
       "  <tbody>\n",
       "    <tr>\n",
       "      <th>0</th>\n",
       "      <td>perf NEFOPAM 60 mg (Acupan) + 1.25 DROPERIDOL ...</td>\n",
       "      <td>ASSOCIATION CONTRE INDIQUEE : SEROPLEX 20 MG C...</td>\n",
       "    </tr>\n",
       "    <tr>\n",
       "      <th>1</th>\n",
       "      <td>LAMALINE, GÉLULE</td>\n",
       "      <td>Propose arrêt pendant hospitalisation ou DOLIP...</td>\n",
       "    </tr>\n",
       "    <tr>\n",
       "      <th>2</th>\n",
       "      <td>XYZALL 5 MG, CPR</td>\n",
       "      <td>Non référencé aux HUS, propose CETIRIZINE 10MG...</td>\n",
       "    </tr>\n",
       "    <tr>\n",
       "      <th>3</th>\n",
       "      <td>AMOXICILLINE + A.CLAVULANIQUE 1g x4/j (Augmentin)</td>\n",
       "      <td>Il est recommandé de réduire la posologie en a...</td>\n",
       "    </tr>\n",
       "    <tr>\n",
       "      <th>4</th>\n",
       "      <td>FELODIPINE LP 5 MG SANDOZ, CPR À LIBÉRATION PR...</td>\n",
       "      <td>Non référencé aux HUS, Substitué par amlodipin...</td>\n",
       "    </tr>\n",
       "    <tr>\n",
       "      <th>...</th>\n",
       "      <td>...</td>\n",
       "      <td>...</td>\n",
       "    </tr>\n",
       "    <tr>\n",
       "      <th>4143</th>\n",
       "      <td>COAPROVEL 300 MG/12.5 MG, CPR</td>\n",
       "      <td>= irbesartan 300 mg 1 comprimé par jour + hydr...</td>\n",
       "    </tr>\n",
       "    <tr>\n",
       "      <th>4144</th>\n",
       "      <td>OXYCODONE LP 10 MG, CPR (OXYCONTIN)</td>\n",
       "      <td>Refusé pour le motif suivant : COMPRIMES NON S...</td>\n",
       "    </tr>\n",
       "    <tr>\n",
       "      <th>4145</th>\n",
       "      <td>SKENAN LP 10 MG, GÉLULE (MORPHINE)</td>\n",
       "      <td>proposons ajout d'un laxatif préventif/curatif...</td>\n",
       "    </tr>\n",
       "    <tr>\n",
       "      <th>4146</th>\n",
       "      <td>ACTISKENAN 10 MG, GÉLULE (MORPHINE)</td>\n",
       "      <td>si prise systématique, proposons ajout de sken...</td>\n",
       "    </tr>\n",
       "    <tr>\n",
       "      <th>4147</th>\n",
       "      <td>COTAREG 160 MG/25 MG, CPR</td>\n",
       "      <td>= valsartan 80 mg 2 comprimés par jour + esidr...</td>\n",
       "    </tr>\n",
       "  </tbody>\n",
       "</table>\n",
       "<p>4148 rows × 2 columns</p>\n",
       "</div>"
      ],
      "text/plain": [
       "                                   Libellé.Prescription  \\\n",
       "0     perf NEFOPAM 60 mg (Acupan) + 1.25 DROPERIDOL ...   \n",
       "1                                      LAMALINE, GÉLULE   \n",
       "2                                      XYZALL 5 MG, CPR   \n",
       "3     AMOXICILLINE + A.CLAVULANIQUE 1g x4/j (Augmentin)   \n",
       "4     FELODIPINE LP 5 MG SANDOZ, CPR À LIBÉRATION PR...   \n",
       "...                                                 ...   \n",
       "4143                    COAPROVEL 300 MG/12.5 MG, CPR     \n",
       "4144                OXYCODONE LP 10 MG, CPR (OXYCONTIN)   \n",
       "4145                 SKENAN LP 10 MG, GÉLULE (MORPHINE)   \n",
       "4146                ACTISKENAN 10 MG, GÉLULE (MORPHINE)   \n",
       "4147                        COTAREG 160 MG/25 MG, CPR     \n",
       "\n",
       "                                    Avis.Pharmaceutique  \n",
       "0     ASSOCIATION CONTRE INDIQUEE : SEROPLEX 20 MG C...  \n",
       "1     Propose arrêt pendant hospitalisation ou DOLIP...  \n",
       "2     Non référencé aux HUS, propose CETIRIZINE 10MG...  \n",
       "3     Il est recommandé de réduire la posologie en a...  \n",
       "4     Non référencé aux HUS, Substitué par amlodipin...  \n",
       "...                                                 ...  \n",
       "4143  = irbesartan 300 mg 1 comprimé par jour + hydr...  \n",
       "4144  Refusé pour le motif suivant : COMPRIMES NON S...  \n",
       "4145  proposons ajout d'un laxatif préventif/curatif...  \n",
       "4146  si prise systématique, proposons ajout de sken...  \n",
       "4147  = valsartan 80 mg 2 comprimés par jour + esidr...  \n",
       "\n",
       "[4148 rows x 2 columns]"
      ]
     },
     "execution_count": 118,
     "metadata": {},
     "output_type": "execute_result"
    }
   ],
   "source": [
    "df_val"
   ]
  },
  {
   "cell_type": "code",
   "execution_count": 119,
   "id": "e97a0aee-771d-4a51-a9ec-9d9526484aa1",
   "metadata": {},
   "outputs": [],
   "source": [
    "def clean_text (df):\n",
    "    df.dropna(inplace=True)\n",
    "    df['Avis.Pharmaceutique'] = df['Avis.Pharmaceutique'].apply(lambda x : unidecode.unidecode(x)) # Remove é etc and ponctuation\n",
    "    df['Avis.Pharmaceutique'] = df['Avis.Pharmaceutique'].apply(lambda x : preprocess_text(x))\n",
    "    df['Avis.Pharmaceutique'] = df['Avis.Pharmaceutique'].str.lower()\n",
    "    df['Avis.Pharmaceutique'] = df['Avis.Pharmaceutique'].apply(lambda x: ' '.join([word for word in x.split() if word not in (stop_word)]))\n",
    "    return df"
   ]
  },
  {
   "cell_type": "code",
   "execution_count": 120,
   "id": "2fd44f6b-b2e2-465a-a708-b77fc1866845",
   "metadata": {},
   "outputs": [],
   "source": [
    "df_val_t=clean_text(df_val)"
   ]
  },
  {
   "cell_type": "code",
   "execution_count": 121,
   "id": "30dbd4bc-aad3-4baf-bc61-cc21b8458e96",
   "metadata": {},
   "outputs": [
    {
     "data": {
      "text/html": [
       "<div>\n",
       "<style scoped>\n",
       "    .dataframe tbody tr th:only-of-type {\n",
       "        vertical-align: middle;\n",
       "    }\n",
       "\n",
       "    .dataframe tbody tr th {\n",
       "        vertical-align: top;\n",
       "    }\n",
       "\n",
       "    .dataframe thead th {\n",
       "        text-align: right;\n",
       "    }\n",
       "</style>\n",
       "<table border=\"1\" class=\"dataframe\">\n",
       "  <thead>\n",
       "    <tr style=\"text-align: right;\">\n",
       "      <th></th>\n",
       "      <th>Libellé.Prescription</th>\n",
       "      <th>Avis.Pharmaceutique</th>\n",
       "    </tr>\n",
       "  </thead>\n",
       "  <tbody>\n",
       "    <tr>\n",
       "      <th>0</th>\n",
       "      <td>perf NEFOPAM 60 mg (Acupan) + 1.25 DROPERIDOL ...</td>\n",
       "      <td>association indiquee seroplex mg cp droleptan ...</td>\n",
       "    </tr>\n",
       "    <tr>\n",
       "      <th>1</th>\n",
       "      <td>LAMALINE, GÉLULE</td>\n",
       "      <td>propose arret hospitalisation doliprane mg gel...</td>\n",
       "    </tr>\n",
       "    <tr>\n",
       "      <th>2</th>\n",
       "      <td>XYZALL 5 MG, CPR</td>\n",
       "      <td>reference hus propose cetirizine mg cp jour pr...</td>\n",
       "    </tr>\n",
       "    <tr>\n",
       "      <th>3</th>\n",
       "      <td>AMOXICILLINE + A.CLAVULANIQUE 1g x4/j (Augmentin)</td>\n",
       "      <td>recommande reduire posologie acide clavulaniqu...</td>\n",
       "    </tr>\n",
       "    <tr>\n",
       "      <th>4</th>\n",
       "      <td>FELODIPINE LP 5 MG SANDOZ, CPR À LIBÉRATION PR...</td>\n",
       "      <td>reference hus substitue amlodipine mg cp ad</td>\n",
       "    </tr>\n",
       "    <tr>\n",
       "      <th>...</th>\n",
       "      <td>...</td>\n",
       "      <td>...</td>\n",
       "    </tr>\n",
       "    <tr>\n",
       "      <th>4143</th>\n",
       "      <td>COAPROVEL 300 MG/12.5 MG, CPR</td>\n",
       "      <td>irbesartan mg comprime jour hydrochlorothiazid...</td>\n",
       "    </tr>\n",
       "    <tr>\n",
       "      <th>4144</th>\n",
       "      <td>OXYCODONE LP 10 MG, CPR (OXYCONTIN)</td>\n",
       "      <td>refuse motif comprimes secables proposons oxyc...</td>\n",
       "    </tr>\n",
       "    <tr>\n",
       "      <th>4145</th>\n",
       "      <td>SKENAN LP 10 MG, GÉLULE (MORPHINE)</td>\n",
       "      <td>proposons ajout laxatif preventif curatif tp</td>\n",
       "    </tr>\n",
       "    <tr>\n",
       "      <th>4146</th>\n",
       "      <td>ACTISKENAN 10 MG, GÉLULE (MORPHINE)</td>\n",
       "      <td>prise systematique proposons ajout skenan lp tp</td>\n",
       "    </tr>\n",
       "    <tr>\n",
       "      <th>4147</th>\n",
       "      <td>COTAREG 160 MG/25 MG, CPR</td>\n",
       "      <td>valsartan mg comprimes jour esidrex mg comprim...</td>\n",
       "    </tr>\n",
       "  </tbody>\n",
       "</table>\n",
       "<p>4074 rows × 2 columns</p>\n",
       "</div>"
      ],
      "text/plain": [
       "                                   Libellé.Prescription  \\\n",
       "0     perf NEFOPAM 60 mg (Acupan) + 1.25 DROPERIDOL ...   \n",
       "1                                      LAMALINE, GÉLULE   \n",
       "2                                      XYZALL 5 MG, CPR   \n",
       "3     AMOXICILLINE + A.CLAVULANIQUE 1g x4/j (Augmentin)   \n",
       "4     FELODIPINE LP 5 MG SANDOZ, CPR À LIBÉRATION PR...   \n",
       "...                                                 ...   \n",
       "4143                    COAPROVEL 300 MG/12.5 MG, CPR     \n",
       "4144                OXYCODONE LP 10 MG, CPR (OXYCONTIN)   \n",
       "4145                 SKENAN LP 10 MG, GÉLULE (MORPHINE)   \n",
       "4146                ACTISKENAN 10 MG, GÉLULE (MORPHINE)   \n",
       "4147                        COTAREG 160 MG/25 MG, CPR     \n",
       "\n",
       "                                    Avis.Pharmaceutique  \n",
       "0     association indiquee seroplex mg cp droleptan ...  \n",
       "1     propose arret hospitalisation doliprane mg gel...  \n",
       "2     reference hus propose cetirizine mg cp jour pr...  \n",
       "3     recommande reduire posologie acide clavulaniqu...  \n",
       "4           reference hus substitue amlodipine mg cp ad  \n",
       "...                                                 ...  \n",
       "4143  irbesartan mg comprime jour hydrochlorothiazid...  \n",
       "4144  refuse motif comprimes secables proposons oxyc...  \n",
       "4145       proposons ajout laxatif preventif curatif tp  \n",
       "4146    prise systematique proposons ajout skenan lp tp  \n",
       "4147  valsartan mg comprimes jour esidrex mg comprim...  \n",
       "\n",
       "[4074 rows x 2 columns]"
      ]
     },
     "execution_count": 121,
     "metadata": {},
     "output_type": "execute_result"
    }
   ],
   "source": [
    "df_val_t"
   ]
  },
  {
   "cell_type": "code",
   "execution_count": 122,
   "id": "75e762a8-fc66-4748-ade5-46fd19be944b",
   "metadata": {},
   "outputs": [
    {
     "name": "stderr",
     "output_type": "stream",
     "text": [
      "INFO:simpletransformers.classification.classification_utils: Converting to features started. Cache is not used.\n"
     ]
    },
    {
     "data": {
      "application/vnd.jupyter.widget-view+json": {
       "model_id": "3c40a38e687b4806931dd27c1c137d59",
       "version_major": 2,
       "version_minor": 0
      },
      "text/plain": [
       "  0%|          | 0/4074 [00:00<?, ?it/s]"
      ]
     },
     "metadata": {},
     "output_type": "display_data"
    },
    {
     "data": {
      "application/vnd.jupyter.widget-view+json": {
       "model_id": "509e584efe374d11aef06ed6d1634c62",
       "version_major": 2,
       "version_minor": 0
      },
      "text/plain": [
       "  0%|          | 0/510 [00:00<?, ?it/s]"
      ]
     },
     "metadata": {},
     "output_type": "display_data"
    }
   ],
   "source": [
    "predictions, raw_outputs = model.predict(df_val_t['Avis.Pharmaceutique'].tolist())"
   ]
  },
  {
   "cell_type": "code",
   "execution_count": 123,
   "id": "e9459420-fe54-47c5-aeaa-48dd307e8d0f",
   "metadata": {},
   "outputs": [],
   "source": [
    "pred = pd.DataFrame(predictions)"
   ]
  },
  {
   "cell_type": "code",
   "execution_count": 124,
   "id": "880f2abe-f17c-4dec-a070-1d33d2d86cda",
   "metadata": {},
   "outputs": [],
   "source": [
    "pred_b = pred.merge(df_val['Avis.Pharmaceutique'], on= df_val.index)\n",
    "pred_b.drop('key_0',axis=1,inplace=True)\n",
    "pred_b = pred_b.rename(columns={0:'Predictions'})"
   ]
  },
  {
   "cell_type": "code",
   "execution_count": 125,
   "id": "a75877c5-ec7d-4a88-8638-1c70ebc7a0d5",
   "metadata": {},
   "outputs": [
    {
     "data": {
      "text/html": [
       "<div>\n",
       "<style scoped>\n",
       "    .dataframe tbody tr th:only-of-type {\n",
       "        vertical-align: middle;\n",
       "    }\n",
       "\n",
       "    .dataframe tbody tr th {\n",
       "        vertical-align: top;\n",
       "    }\n",
       "\n",
       "    .dataframe thead th {\n",
       "        text-align: right;\n",
       "    }\n",
       "</style>\n",
       "<table border=\"1\" class=\"dataframe\">\n",
       "  <thead>\n",
       "    <tr style=\"text-align: right;\">\n",
       "      <th></th>\n",
       "      <th>Predictions</th>\n",
       "      <th>Avis.Pharmaceutique</th>\n",
       "    </tr>\n",
       "  </thead>\n",
       "  <tbody>\n",
       "    <tr>\n",
       "      <th>0</th>\n",
       "      <td>0</td>\n",
       "      <td>association indiquee seroplex mg cp droleptan ...</td>\n",
       "    </tr>\n",
       "    <tr>\n",
       "      <th>1</th>\n",
       "      <td>0</td>\n",
       "      <td>propose arret hospitalisation doliprane mg gel...</td>\n",
       "    </tr>\n",
       "    <tr>\n",
       "      <th>2</th>\n",
       "      <td>0</td>\n",
       "      <td>reference hus propose cetirizine mg cp jour pr...</td>\n",
       "    </tr>\n",
       "    <tr>\n",
       "      <th>3</th>\n",
       "      <td>1</td>\n",
       "      <td>recommande reduire posologie acide clavulaniqu...</td>\n",
       "    </tr>\n",
       "    <tr>\n",
       "      <th>4</th>\n",
       "      <td>0</td>\n",
       "      <td>reference hus substitue amlodipine mg cp ad</td>\n",
       "    </tr>\n",
       "    <tr>\n",
       "      <th>...</th>\n",
       "      <td>...</td>\n",
       "      <td>...</td>\n",
       "    </tr>\n",
       "    <tr>\n",
       "      <th>4069</th>\n",
       "      <td>0</td>\n",
       "      <td>irbesartan mg comprime jour hydrochlorothiazid...</td>\n",
       "    </tr>\n",
       "    <tr>\n",
       "      <th>4070</th>\n",
       "      <td>0</td>\n",
       "      <td>refuse motif comprimes secables proposons oxyc...</td>\n",
       "    </tr>\n",
       "    <tr>\n",
       "      <th>4071</th>\n",
       "      <td>0</td>\n",
       "      <td>proposons ajout laxatif preventif curatif tp</td>\n",
       "    </tr>\n",
       "    <tr>\n",
       "      <th>4072</th>\n",
       "      <td>0</td>\n",
       "      <td>prise systematique proposons ajout skenan lp tp</td>\n",
       "    </tr>\n",
       "    <tr>\n",
       "      <th>4073</th>\n",
       "      <td>0</td>\n",
       "      <td>valsartan mg comprimes jour esidrex mg comprim...</td>\n",
       "    </tr>\n",
       "  </tbody>\n",
       "</table>\n",
       "<p>4074 rows × 2 columns</p>\n",
       "</div>"
      ],
      "text/plain": [
       "      Predictions                                Avis.Pharmaceutique\n",
       "0               0  association indiquee seroplex mg cp droleptan ...\n",
       "1               0  propose arret hospitalisation doliprane mg gel...\n",
       "2               0  reference hus propose cetirizine mg cp jour pr...\n",
       "3               1  recommande reduire posologie acide clavulaniqu...\n",
       "4               0        reference hus substitue amlodipine mg cp ad\n",
       "...           ...                                                ...\n",
       "4069            0  irbesartan mg comprime jour hydrochlorothiazid...\n",
       "4070            0  refuse motif comprimes secables proposons oxyc...\n",
       "4071            0       proposons ajout laxatif preventif curatif tp\n",
       "4072            0    prise systematique proposons ajout skenan lp tp\n",
       "4073            0  valsartan mg comprimes jour esidrex mg comprim...\n",
       "\n",
       "[4074 rows x 2 columns]"
      ]
     },
     "execution_count": 125,
     "metadata": {},
     "output_type": "execute_result"
    }
   ],
   "source": [
    "pred_b"
   ]
  },
  {
   "cell_type": "code",
   "execution_count": 129,
   "id": "bf929aff-1275-473a-ad06-461baa8b55f1",
   "metadata": {},
   "outputs": [
    {
     "data": {
      "text/plain": [
       "0    3323\n",
       "1     751\n",
       "Name: Predictions, dtype: int64"
      ]
     },
     "execution_count": 129,
     "metadata": {},
     "output_type": "execute_result"
    }
   ],
   "source": [
    "pred_b['Predictions'].value_counts()"
   ]
  },
  {
   "cell_type": "code",
   "execution_count": 126,
   "id": "3ed20481-22a0-4454-9a84-827274f25611",
   "metadata": {},
   "outputs": [],
   "source": [
    "pred_b.to_csv('Validation_prediction_XLNet')"
   ]
  },
  {
   "cell_type": "code",
   "execution_count": 127,
   "id": "a3ffe645-f75e-4aea-8c0b-86f4b923ba94",
   "metadata": {},
   "outputs": [
    {
     "data": {
      "text/html": [
       "<div>\n",
       "<style scoped>\n",
       "    .dataframe tbody tr th:only-of-type {\n",
       "        vertical-align: middle;\n",
       "    }\n",
       "\n",
       "    .dataframe tbody tr th {\n",
       "        vertical-align: top;\n",
       "    }\n",
       "\n",
       "    .dataframe thead th {\n",
       "        text-align: right;\n",
       "    }\n",
       "</style>\n",
       "<table border=\"1\" class=\"dataframe\">\n",
       "  <thead>\n",
       "    <tr style=\"text-align: right;\">\n",
       "      <th></th>\n",
       "      <th>Unnamed: 0</th>\n",
       "      <th>Predictions</th>\n",
       "      <th>Avis.Pharmaceutique</th>\n",
       "    </tr>\n",
       "  </thead>\n",
       "  <tbody>\n",
       "    <tr>\n",
       "      <th>0</th>\n",
       "      <td>0</td>\n",
       "      <td>0</td>\n",
       "      <td>association indiquee seroplex mg cp droleptan ...</td>\n",
       "    </tr>\n",
       "    <tr>\n",
       "      <th>1</th>\n",
       "      <td>1</td>\n",
       "      <td>0</td>\n",
       "      <td>propose arret hospitalisation doliprane mg gel...</td>\n",
       "    </tr>\n",
       "    <tr>\n",
       "      <th>2</th>\n",
       "      <td>2</td>\n",
       "      <td>0</td>\n",
       "      <td>reference hus propose cetirizine mg cp jour pr...</td>\n",
       "    </tr>\n",
       "    <tr>\n",
       "      <th>3</th>\n",
       "      <td>3</td>\n",
       "      <td>1</td>\n",
       "      <td>recommande reduire posologie acide clavulaniqu...</td>\n",
       "    </tr>\n",
       "    <tr>\n",
       "      <th>4</th>\n",
       "      <td>4</td>\n",
       "      <td>0</td>\n",
       "      <td>reference hus substitue amlodipine mg cp ad</td>\n",
       "    </tr>\n",
       "    <tr>\n",
       "      <th>...</th>\n",
       "      <td>...</td>\n",
       "      <td>...</td>\n",
       "      <td>...</td>\n",
       "    </tr>\n",
       "    <tr>\n",
       "      <th>4069</th>\n",
       "      <td>4069</td>\n",
       "      <td>0</td>\n",
       "      <td>irbesartan mg comprime jour hydrochlorothiazid...</td>\n",
       "    </tr>\n",
       "    <tr>\n",
       "      <th>4070</th>\n",
       "      <td>4070</td>\n",
       "      <td>0</td>\n",
       "      <td>refuse motif comprimes secables proposons oxyc...</td>\n",
       "    </tr>\n",
       "    <tr>\n",
       "      <th>4071</th>\n",
       "      <td>4071</td>\n",
       "      <td>0</td>\n",
       "      <td>proposons ajout laxatif preventif curatif tp</td>\n",
       "    </tr>\n",
       "    <tr>\n",
       "      <th>4072</th>\n",
       "      <td>4072</td>\n",
       "      <td>0</td>\n",
       "      <td>prise systematique proposons ajout skenan lp tp</td>\n",
       "    </tr>\n",
       "    <tr>\n",
       "      <th>4073</th>\n",
       "      <td>4073</td>\n",
       "      <td>0</td>\n",
       "      <td>valsartan mg comprimes jour esidrex mg comprim...</td>\n",
       "    </tr>\n",
       "  </tbody>\n",
       "</table>\n",
       "<p>4074 rows × 3 columns</p>\n",
       "</div>"
      ],
      "text/plain": [
       "      Unnamed: 0  Predictions  \\\n",
       "0              0            0   \n",
       "1              1            0   \n",
       "2              2            0   \n",
       "3              3            1   \n",
       "4              4            0   \n",
       "...          ...          ...   \n",
       "4069        4069            0   \n",
       "4070        4070            0   \n",
       "4071        4071            0   \n",
       "4072        4072            0   \n",
       "4073        4073            0   \n",
       "\n",
       "                                    Avis.Pharmaceutique  \n",
       "0     association indiquee seroplex mg cp droleptan ...  \n",
       "1     propose arret hospitalisation doliprane mg gel...  \n",
       "2     reference hus propose cetirizine mg cp jour pr...  \n",
       "3     recommande reduire posologie acide clavulaniqu...  \n",
       "4           reference hus substitue amlodipine mg cp ad  \n",
       "...                                                 ...  \n",
       "4069  irbesartan mg comprime jour hydrochlorothiazid...  \n",
       "4070  refuse motif comprimes secables proposons oxyc...  \n",
       "4071       proposons ajout laxatif preventif curatif tp  \n",
       "4072    prise systematique proposons ajout skenan lp tp  \n",
       "4073  valsartan mg comprimes jour esidrex mg comprim...  \n",
       "\n",
       "[4074 rows x 3 columns]"
      ]
     },
     "execution_count": 127,
     "metadata": {},
     "output_type": "execute_result"
    }
   ],
   "source": [
    "pd.read_csv('Validation_prediction_XLNet')"
   ]
  },
  {
   "cell_type": "code",
   "execution_count": null,
   "id": "3e38c0c2-be7b-4709-ab61-a3497c548c44",
   "metadata": {},
   "outputs": [],
   "source": []
  }
 ],
 "metadata": {
  "kernelspec": {
   "display_name": "Python 3 (ipykernel)",
   "language": "python",
   "name": "python3"
  },
  "language_info": {
   "codemirror_mode": {
    "name": "ipython",
    "version": 3
   },
   "file_extension": ".py",
   "mimetype": "text/x-python",
   "name": "python",
   "nbconvert_exporter": "python",
   "pygments_lexer": "ipython3",
   "version": "3.9.7"
  }
 },
 "nbformat": 4,
 "nbformat_minor": 5
}
