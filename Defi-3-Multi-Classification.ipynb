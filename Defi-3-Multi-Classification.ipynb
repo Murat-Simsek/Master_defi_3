{
 "cells": [
  {
   "cell_type": "code",
   "execution_count": 35,
   "id": "ae74b0b8-d088-445f-8ff5-ad084305f270",
   "metadata": {},
   "outputs": [],
   "source": [
    "import pandas as pd\n",
    "import numpy as np\n",
    "import re\n",
    "# --------------------\n",
    "from sklearn.feature_extraction.text import  TfidfTransformer\n",
    "from sklearn.pipeline import Pipeline\n",
    "from sklearn.feature_extraction.text import CountVectorizer\n",
    "from sklearn.model_selection import train_test_split\n",
    "from sklearn.naive_bayes import MultinomialNB\n",
    "from sklearn.metrics import confusion_matrix,classification_report\n",
    "import math\n",
    "import unidecode "
   ]
  },
  {
   "cell_type": "code",
   "execution_count": 36,
   "id": "b2c5a07e-a7a0-497e-950a-9ddc1d338703",
   "metadata": {},
   "outputs": [],
   "source": [
    "df = pd.read_csv('data_defi3.csv.gz',compression=\"gzip\", sep=\";\")"
   ]
  },
  {
   "cell_type": "code",
   "execution_count": 37,
   "id": "ae89c2e5-521a-45fb-b61e-77505ae23505",
   "metadata": {},
   "outputs": [
    {
     "name": "stdout",
     "output_type": "stream",
     "text": [
      "<class 'pandas.core.frame.DataFrame'>\n",
      "RangeIndex: 23514 entries, 0 to 23513\n",
      "Data columns (total 3 columns):\n",
      " #   Column                Non-Null Count  Dtype  \n",
      "---  ------                --------------  -----  \n",
      " 0   Libellé.Prescription  23514 non-null  object \n",
      " 1   Avis.Pharmaceutique   23141 non-null  object \n",
      " 2   PLT                   23514 non-null  float64\n",
      "dtypes: float64(1), object(2)\n",
      "memory usage: 551.2+ KB\n",
      "None\n",
      "[ 5.3  4.1  3.1 10.   1.2  1.1  5.1  8.5  6.4  2.2 11.   8.4  6.2  4.2\n",
      "  9.1  8.1  8.3  6.1  3.2  2.4  8.2  5.2  1.3  2.1  6.3  7. ]\n",
      "26\n"
     ]
    }
   ],
   "source": [
    "print(df.info())\n",
    "print(df['PLT'].unique())\n",
    "print(df['PLT'].nunique())\n"
   ]
  },
  {
   "cell_type": "code",
   "execution_count": 38,
   "id": "e18b6280-e6f5-4694-a410-fd84c32f84d5",
   "metadata": {},
   "outputs": [],
   "source": [
    "df.dropna(inplace=True)"
   ]
  },
  {
   "cell_type": "code",
   "execution_count": 39,
   "id": "7a4c3137-f529-4221-b9fa-addbd6259ced",
   "metadata": {},
   "outputs": [
    {
     "data": {
      "text/html": [
       "<div>\n",
       "<style scoped>\n",
       "    .dataframe tbody tr th:only-of-type {\n",
       "        vertical-align: middle;\n",
       "    }\n",
       "\n",
       "    .dataframe tbody tr th {\n",
       "        vertical-align: top;\n",
       "    }\n",
       "\n",
       "    .dataframe thead th {\n",
       "        text-align: right;\n",
       "    }\n",
       "</style>\n",
       "<table border=\"1\" class=\"dataframe\">\n",
       "  <thead>\n",
       "    <tr style=\"text-align: right;\">\n",
       "      <th></th>\n",
       "      <th>Libellé.Prescription</th>\n",
       "      <th>Avis.Pharmaceutique</th>\n",
       "      <th>PLT</th>\n",
       "    </tr>\n",
       "  </thead>\n",
       "  <tbody>\n",
       "    <tr>\n",
       "      <th>0</th>\n",
       "      <td>CONTRAMAL 100 MG/ML, GOUTTES BUV (TRAMADOL)</td>\n",
       "      <td>30/12/16 pas d'indication</td>\n",
       "      <td>5.3</td>\n",
       "    </tr>\n",
       "    <tr>\n",
       "      <th>1</th>\n",
       "      <td>IMOVANE 7.5 MG, CPR SÉCABLE (ZOPICLONE)</td>\n",
       "      <td>22/12/16 recommandé -&gt; IMOVANE 3,75MG CP, 1 au...</td>\n",
       "      <td>4.1</td>\n",
       "    </tr>\n",
       "    <tr>\n",
       "      <th>2</th>\n",
       "      <td>COLCHICINE 1 MG, CPR SÉCABLE (COLCHICINE)</td>\n",
       "      <td>au vue de la DFG, il est recommandé d'administ...</td>\n",
       "      <td>4.1</td>\n",
       "    </tr>\n",
       "    <tr>\n",
       "      <th>3</th>\n",
       "      <td>PANTOPRAZOLE 40 MG, CPR GASTRO-RÉSISTANT (EUPA...</td>\n",
       "      <td>Dose curative et absence d'ATCD gastrique retr...</td>\n",
       "      <td>4.1</td>\n",
       "    </tr>\n",
       "    <tr>\n",
       "      <th>4</th>\n",
       "      <td>VANCOMYCINE 500 mg 1x/j</td>\n",
       "      <td>posologie infraT veuillez réévaluer la posolog...</td>\n",
       "      <td>3.1</td>\n",
       "    </tr>\n",
       "  </tbody>\n",
       "</table>\n",
       "</div>"
      ],
      "text/plain": [
       "                                Libellé.Prescription  \\\n",
       "0        CONTRAMAL 100 MG/ML, GOUTTES BUV (TRAMADOL)   \n",
       "1            IMOVANE 7.5 MG, CPR SÉCABLE (ZOPICLONE)   \n",
       "2          COLCHICINE 1 MG, CPR SÉCABLE (COLCHICINE)   \n",
       "3  PANTOPRAZOLE 40 MG, CPR GASTRO-RÉSISTANT (EUPA...   \n",
       "4                            VANCOMYCINE 500 mg 1x/j   \n",
       "\n",
       "                                 Avis.Pharmaceutique  PLT  \n",
       "0                         30/12/16 pas d'indication   5.3  \n",
       "1  22/12/16 recommandé -> IMOVANE 3,75MG CP, 1 au...  4.1  \n",
       "2  au vue de la DFG, il est recommandé d'administ...  4.1  \n",
       "3  Dose curative et absence d'ATCD gastrique retr...  4.1  \n",
       "4  posologie infraT veuillez réévaluer la posolog...  3.1  "
      ]
     },
     "execution_count": 39,
     "metadata": {},
     "output_type": "execute_result"
    }
   ],
   "source": [
    "df.head()"
   ]
  },
  {
   "cell_type": "code",
   "execution_count": 40,
   "id": "5456926e-6e50-466f-8d5a-1da14fd2b393",
   "metadata": {},
   "outputs": [],
   "source": [
    "#unaccented_string = unidecode.unidecode(df['Avis.Pharmaceutique'][2])\n",
    "df['Avis.Pharmaceutique'] = df['Avis.Pharmaceutique'].apply(lambda x : unidecode.unidecode(x)) # Remove é etc and ponctuation"
   ]
  },
  {
   "cell_type": "code",
   "execution_count": 41,
   "id": "43d1749c-2576-44d5-bc3d-45d533a5d3b8",
   "metadata": {},
   "outputs": [],
   "source": [
    "df['Length'] = df['Avis.Pharmaceutique'].str.len()"
   ]
  },
  {
   "cell_type": "code",
   "execution_count": 42,
   "id": "e9f2b910-1415-4eac-8d56-56b7e7a65b71",
   "metadata": {},
   "outputs": [
    {
     "data": {
      "text/html": [
       "<div>\n",
       "<style scoped>\n",
       "    .dataframe tbody tr th:only-of-type {\n",
       "        vertical-align: middle;\n",
       "    }\n",
       "\n",
       "    .dataframe tbody tr th {\n",
       "        vertical-align: top;\n",
       "    }\n",
       "\n",
       "    .dataframe thead tr th {\n",
       "        text-align: left;\n",
       "    }\n",
       "\n",
       "    .dataframe thead tr:last-of-type th {\n",
       "        text-align: right;\n",
       "    }\n",
       "</style>\n",
       "<table border=\"1\" class=\"dataframe\">\n",
       "  <thead>\n",
       "    <tr>\n",
       "      <th></th>\n",
       "      <th colspan=\"8\" halign=\"left\">Length</th>\n",
       "    </tr>\n",
       "    <tr>\n",
       "      <th></th>\n",
       "      <th>count</th>\n",
       "      <th>mean</th>\n",
       "      <th>std</th>\n",
       "      <th>min</th>\n",
       "      <th>25%</th>\n",
       "      <th>50%</th>\n",
       "      <th>75%</th>\n",
       "      <th>max</th>\n",
       "    </tr>\n",
       "    <tr>\n",
       "      <th>PLT</th>\n",
       "      <th></th>\n",
       "      <th></th>\n",
       "      <th></th>\n",
       "      <th></th>\n",
       "      <th></th>\n",
       "      <th></th>\n",
       "      <th></th>\n",
       "      <th></th>\n",
       "    </tr>\n",
       "  </thead>\n",
       "  <tbody>\n",
       "    <tr>\n",
       "      <th>1.1</th>\n",
       "      <td>9898.0</td>\n",
       "      <td>82.472419</td>\n",
       "      <td>38.100831</td>\n",
       "      <td>6.0</td>\n",
       "      <td>55.00</td>\n",
       "      <td>75.0</td>\n",
       "      <td>102.00</td>\n",
       "      <td>264.0</td>\n",
       "    </tr>\n",
       "    <tr>\n",
       "      <th>1.2</th>\n",
       "      <td>1226.0</td>\n",
       "      <td>100.356444</td>\n",
       "      <td>51.702029</td>\n",
       "      <td>7.0</td>\n",
       "      <td>64.00</td>\n",
       "      <td>90.0</td>\n",
       "      <td>124.00</td>\n",
       "      <td>397.0</td>\n",
       "    </tr>\n",
       "    <tr>\n",
       "      <th>1.3</th>\n",
       "      <td>139.0</td>\n",
       "      <td>108.345324</td>\n",
       "      <td>63.533024</td>\n",
       "      <td>22.0</td>\n",
       "      <td>65.00</td>\n",
       "      <td>93.0</td>\n",
       "      <td>133.00</td>\n",
       "      <td>455.0</td>\n",
       "    </tr>\n",
       "    <tr>\n",
       "      <th>2.1</th>\n",
       "      <td>77.0</td>\n",
       "      <td>113.077922</td>\n",
       "      <td>48.834513</td>\n",
       "      <td>21.0</td>\n",
       "      <td>74.00</td>\n",
       "      <td>110.0</td>\n",
       "      <td>149.00</td>\n",
       "      <td>224.0</td>\n",
       "    </tr>\n",
       "    <tr>\n",
       "      <th>2.2</th>\n",
       "      <td>279.0</td>\n",
       "      <td>92.455197</td>\n",
       "      <td>38.071175</td>\n",
       "      <td>23.0</td>\n",
       "      <td>65.00</td>\n",
       "      <td>82.0</td>\n",
       "      <td>113.00</td>\n",
       "      <td>242.0</td>\n",
       "    </tr>\n",
       "    <tr>\n",
       "      <th>2.4</th>\n",
       "      <td>400.0</td>\n",
       "      <td>82.142500</td>\n",
       "      <td>42.028361</td>\n",
       "      <td>20.0</td>\n",
       "      <td>55.00</td>\n",
       "      <td>69.0</td>\n",
       "      <td>97.00</td>\n",
       "      <td>250.0</td>\n",
       "    </tr>\n",
       "    <tr>\n",
       "      <th>3.1</th>\n",
       "      <td>944.0</td>\n",
       "      <td>87.784958</td>\n",
       "      <td>44.742261</td>\n",
       "      <td>13.0</td>\n",
       "      <td>53.75</td>\n",
       "      <td>81.0</td>\n",
       "      <td>111.00</td>\n",
       "      <td>247.0</td>\n",
       "    </tr>\n",
       "    <tr>\n",
       "      <th>3.2</th>\n",
       "      <td>25.0</td>\n",
       "      <td>81.840000</td>\n",
       "      <td>50.027226</td>\n",
       "      <td>14.0</td>\n",
       "      <td>47.00</td>\n",
       "      <td>70.0</td>\n",
       "      <td>105.00</td>\n",
       "      <td>242.0</td>\n",
       "    </tr>\n",
       "    <tr>\n",
       "      <th>4.1</th>\n",
       "      <td>2397.0</td>\n",
       "      <td>78.578640</td>\n",
       "      <td>41.553656</td>\n",
       "      <td>8.0</td>\n",
       "      <td>51.00</td>\n",
       "      <td>68.0</td>\n",
       "      <td>97.00</td>\n",
       "      <td>311.0</td>\n",
       "    </tr>\n",
       "    <tr>\n",
       "      <th>4.2</th>\n",
       "      <td>667.0</td>\n",
       "      <td>79.170915</td>\n",
       "      <td>39.024104</td>\n",
       "      <td>9.0</td>\n",
       "      <td>51.00</td>\n",
       "      <td>72.0</td>\n",
       "      <td>99.00</td>\n",
       "      <td>261.0</td>\n",
       "    </tr>\n",
       "    <tr>\n",
       "      <th>5.1</th>\n",
       "      <td>515.0</td>\n",
       "      <td>78.801942</td>\n",
       "      <td>46.932102</td>\n",
       "      <td>6.0</td>\n",
       "      <td>44.00</td>\n",
       "      <td>71.0</td>\n",
       "      <td>101.00</td>\n",
       "      <td>243.0</td>\n",
       "    </tr>\n",
       "    <tr>\n",
       "      <th>5.2</th>\n",
       "      <td>31.0</td>\n",
       "      <td>127.903226</td>\n",
       "      <td>43.252248</td>\n",
       "      <td>50.0</td>\n",
       "      <td>107.50</td>\n",
       "      <td>134.0</td>\n",
       "      <td>153.50</td>\n",
       "      <td>209.0</td>\n",
       "    </tr>\n",
       "    <tr>\n",
       "      <th>5.3</th>\n",
       "      <td>286.0</td>\n",
       "      <td>95.510490</td>\n",
       "      <td>51.235797</td>\n",
       "      <td>20.0</td>\n",
       "      <td>57.00</td>\n",
       "      <td>86.0</td>\n",
       "      <td>123.00</td>\n",
       "      <td>261.0</td>\n",
       "    </tr>\n",
       "    <tr>\n",
       "      <th>6.1</th>\n",
       "      <td>3.0</td>\n",
       "      <td>129.333333</td>\n",
       "      <td>82.470197</td>\n",
       "      <td>64.0</td>\n",
       "      <td>83.00</td>\n",
       "      <td>102.0</td>\n",
       "      <td>162.00</td>\n",
       "      <td>222.0</td>\n",
       "    </tr>\n",
       "    <tr>\n",
       "      <th>6.2</th>\n",
       "      <td>331.0</td>\n",
       "      <td>93.803625</td>\n",
       "      <td>49.881868</td>\n",
       "      <td>21.0</td>\n",
       "      <td>57.00</td>\n",
       "      <td>76.0</td>\n",
       "      <td>126.50</td>\n",
       "      <td>245.0</td>\n",
       "    </tr>\n",
       "    <tr>\n",
       "      <th>6.3</th>\n",
       "      <td>88.0</td>\n",
       "      <td>139.352273</td>\n",
       "      <td>57.454838</td>\n",
       "      <td>37.0</td>\n",
       "      <td>92.50</td>\n",
       "      <td>129.5</td>\n",
       "      <td>179.75</td>\n",
       "      <td>291.0</td>\n",
       "    </tr>\n",
       "    <tr>\n",
       "      <th>6.4</th>\n",
       "      <td>544.0</td>\n",
       "      <td>138.106618</td>\n",
       "      <td>56.856056</td>\n",
       "      <td>18.0</td>\n",
       "      <td>91.00</td>\n",
       "      <td>139.0</td>\n",
       "      <td>184.25</td>\n",
       "      <td>323.0</td>\n",
       "    </tr>\n",
       "    <tr>\n",
       "      <th>7.0</th>\n",
       "      <td>8.0</td>\n",
       "      <td>122.750000</td>\n",
       "      <td>57.794587</td>\n",
       "      <td>48.0</td>\n",
       "      <td>97.25</td>\n",
       "      <td>124.5</td>\n",
       "      <td>139.00</td>\n",
       "      <td>234.0</td>\n",
       "    </tr>\n",
       "    <tr>\n",
       "      <th>8.1</th>\n",
       "      <td>56.0</td>\n",
       "      <td>45.053571</td>\n",
       "      <td>14.997478</td>\n",
       "      <td>24.0</td>\n",
       "      <td>32.00</td>\n",
       "      <td>45.0</td>\n",
       "      <td>50.25</td>\n",
       "      <td>110.0</td>\n",
       "    </tr>\n",
       "    <tr>\n",
       "      <th>8.2</th>\n",
       "      <td>377.0</td>\n",
       "      <td>95.493369</td>\n",
       "      <td>48.706302</td>\n",
       "      <td>12.0</td>\n",
       "      <td>60.00</td>\n",
       "      <td>91.0</td>\n",
       "      <td>123.00</td>\n",
       "      <td>249.0</td>\n",
       "    </tr>\n",
       "    <tr>\n",
       "      <th>8.3</th>\n",
       "      <td>1049.0</td>\n",
       "      <td>64.898951</td>\n",
       "      <td>38.405099</td>\n",
       "      <td>7.0</td>\n",
       "      <td>36.00</td>\n",
       "      <td>55.0</td>\n",
       "      <td>84.00</td>\n",
       "      <td>231.0</td>\n",
       "    </tr>\n",
       "    <tr>\n",
       "      <th>8.4</th>\n",
       "      <td>371.0</td>\n",
       "      <td>77.514825</td>\n",
       "      <td>36.718677</td>\n",
       "      <td>13.0</td>\n",
       "      <td>51.00</td>\n",
       "      <td>72.0</td>\n",
       "      <td>95.00</td>\n",
       "      <td>244.0</td>\n",
       "    </tr>\n",
       "    <tr>\n",
       "      <th>8.5</th>\n",
       "      <td>1093.0</td>\n",
       "      <td>88.214090</td>\n",
       "      <td>45.883791</td>\n",
       "      <td>10.0</td>\n",
       "      <td>55.00</td>\n",
       "      <td>79.0</td>\n",
       "      <td>112.00</td>\n",
       "      <td>266.0</td>\n",
       "    </tr>\n",
       "    <tr>\n",
       "      <th>9.1</th>\n",
       "      <td>20.0</td>\n",
       "      <td>127.700000</td>\n",
       "      <td>68.894351</td>\n",
       "      <td>37.0</td>\n",
       "      <td>73.50</td>\n",
       "      <td>109.0</td>\n",
       "      <td>185.75</td>\n",
       "      <td>251.0</td>\n",
       "    </tr>\n",
       "    <tr>\n",
       "      <th>10.0</th>\n",
       "      <td>738.0</td>\n",
       "      <td>77.596206</td>\n",
       "      <td>49.289520</td>\n",
       "      <td>3.0</td>\n",
       "      <td>40.00</td>\n",
       "      <td>65.0</td>\n",
       "      <td>100.00</td>\n",
       "      <td>251.0</td>\n",
       "    </tr>\n",
       "    <tr>\n",
       "      <th>11.0</th>\n",
       "      <td>1579.0</td>\n",
       "      <td>53.234326</td>\n",
       "      <td>30.620115</td>\n",
       "      <td>2.0</td>\n",
       "      <td>31.00</td>\n",
       "      <td>45.0</td>\n",
       "      <td>68.00</td>\n",
       "      <td>217.0</td>\n",
       "    </tr>\n",
       "  </tbody>\n",
       "</table>\n",
       "</div>"
      ],
      "text/plain": [
       "      Length                                                           \n",
       "       count        mean        std   min     25%    50%     75%    max\n",
       "PLT                                                                    \n",
       "1.1   9898.0   82.472419  38.100831   6.0   55.00   75.0  102.00  264.0\n",
       "1.2   1226.0  100.356444  51.702029   7.0   64.00   90.0  124.00  397.0\n",
       "1.3    139.0  108.345324  63.533024  22.0   65.00   93.0  133.00  455.0\n",
       "2.1     77.0  113.077922  48.834513  21.0   74.00  110.0  149.00  224.0\n",
       "2.2    279.0   92.455197  38.071175  23.0   65.00   82.0  113.00  242.0\n",
       "2.4    400.0   82.142500  42.028361  20.0   55.00   69.0   97.00  250.0\n",
       "3.1    944.0   87.784958  44.742261  13.0   53.75   81.0  111.00  247.0\n",
       "3.2     25.0   81.840000  50.027226  14.0   47.00   70.0  105.00  242.0\n",
       "4.1   2397.0   78.578640  41.553656   8.0   51.00   68.0   97.00  311.0\n",
       "4.2    667.0   79.170915  39.024104   9.0   51.00   72.0   99.00  261.0\n",
       "5.1    515.0   78.801942  46.932102   6.0   44.00   71.0  101.00  243.0\n",
       "5.2     31.0  127.903226  43.252248  50.0  107.50  134.0  153.50  209.0\n",
       "5.3    286.0   95.510490  51.235797  20.0   57.00   86.0  123.00  261.0\n",
       "6.1      3.0  129.333333  82.470197  64.0   83.00  102.0  162.00  222.0\n",
       "6.2    331.0   93.803625  49.881868  21.0   57.00   76.0  126.50  245.0\n",
       "6.3     88.0  139.352273  57.454838  37.0   92.50  129.5  179.75  291.0\n",
       "6.4    544.0  138.106618  56.856056  18.0   91.00  139.0  184.25  323.0\n",
       "7.0      8.0  122.750000  57.794587  48.0   97.25  124.5  139.00  234.0\n",
       "8.1     56.0   45.053571  14.997478  24.0   32.00   45.0   50.25  110.0\n",
       "8.2    377.0   95.493369  48.706302  12.0   60.00   91.0  123.00  249.0\n",
       "8.3   1049.0   64.898951  38.405099   7.0   36.00   55.0   84.00  231.0\n",
       "8.4    371.0   77.514825  36.718677  13.0   51.00   72.0   95.00  244.0\n",
       "8.5   1093.0   88.214090  45.883791  10.0   55.00   79.0  112.00  266.0\n",
       "9.1     20.0  127.700000  68.894351  37.0   73.50  109.0  185.75  251.0\n",
       "10.0   738.0   77.596206  49.289520   3.0   40.00   65.0  100.00  251.0\n",
       "11.0  1579.0   53.234326  30.620115   2.0   31.00   45.0   68.00  217.0"
      ]
     },
     "execution_count": 42,
     "metadata": {},
     "output_type": "execute_result"
    }
   ],
   "source": [
    "df.groupby('PLT').describe()"
   ]
  },
  {
   "cell_type": "code",
   "execution_count": 43,
   "id": "c3d01768-b2af-4258-8bc1-305d01c1ce2e",
   "metadata": {},
   "outputs": [
    {
     "data": {
      "text/plain": [
       "<AxesSubplot:ylabel='Frequency'>"
      ]
     },
     "execution_count": 43,
     "metadata": {},
     "output_type": "execute_result"
    },
    {
     "data": {
      "image/png": "[encoded data removed]",
      "text/plain": [
       "<Figure size 432x288 with 1 Axes>"
      ]
     },
     "metadata": {
      "needs_background": "light"
     },
     "output_type": "display_data"
    }
   ],
   "source": [
    "df['Length'].plot(bins=40, kind='hist') "
   ]
  },
  {
   "cell_type": "code",
   "execution_count": 44,
   "id": "bc5cbc12-669b-4e6d-92cc-2ad783bb7864",
   "metadata": {},
   "outputs": [],
   "source": [
    "df['PLT'] = df['PLT'].apply(lambda x : math.floor(x))"
   ]
  },
  {
   "cell_type": "code",
   "execution_count": 45,
   "id": "8163a588-3cd9-4c7d-8512-ccc83b9e66de",
   "metadata": {},
   "outputs": [],
   "source": [
    "def preprocess_text(sen):\n",
    "    # Remove punctuations and numbers\n",
    "    sentence = re.sub('[^a-zA-Z]', ' ', sen)\n",
    "\n",
    "    # Single character removal\n",
    "    sentence = re.sub(r\"\\s+[a-zA-Z]\\s+\", ' ', sentence)\n",
    "\n",
    "    # Removing multiple spaces\n",
    "    sentence = re.sub(r'\\s+', ' ', sentence)\n",
    "\n",
    "    return sentence"
   ]
  },
  {
   "cell_type": "code",
   "execution_count": 46,
   "id": "c07613d5-1a59-43c3-ad6c-31f7dde8f4ab",
   "metadata": {},
   "outputs": [],
   "source": [
    "df['Avis.Pharmaceutique'] = df['Avis.Pharmaceutique'].apply(lambda x : preprocess_text(x))\n",
    "df['Avis.Pharmaceutique'] = df['Avis.Pharmaceutique'].str.lower()"
   ]
  },
  {
   "cell_type": "code",
   "execution_count": 47,
   "id": "cacb834e-4691-4710-8d36-9211b797852e",
   "metadata": {},
   "outputs": [],
   "source": [
    "stop_word = [\"a\",\"abord\",\"absolument\",\"afin\",\"ah\",\"ai\",\"aie\",\"aient\",\"aies\",\"ailleurs\",\"ainsi\",\"ait\",\"allaient\",\n",
    "             \"allo\",\"allons\",\"allô\",\"alors\",\"anterieur\",\"anterieure\",\"anterieures\",\"apres\",\"après\",\"as\",\"assez\",\n",
    "             \"attendu\",\"au\",\"aucun\",\"aucune\",\"aucuns\",\"aujourd\",\"aujourd'hui\",\"aupres\",\"auquel\",\"aura\",\"aurai\",\n",
    "             \"auraient\",\"aurais\",\"aurait\",\"auras\",\"aurez\",\"auriez\",\"aurions\",\"aurons\",\"auront\",\"aussi\",\"autant\",\n",
    "             \"autre\",\"autrefois\",\"autrement\",\"autres\",\"autrui\",\"aux\",\"auxquelles\",\"auxquels\",\"avaient\",\"avais\",\n",
    "             \"avait\",\"avant\",\"avec\",\"avez\",\"aviez\",\"avions\",\"avoir\",\"avons\",\"ayant\",\"ayez\",\"ayons\",\"b\",\"bah\",\n",
    "             \"bas\",\"basee\",\"bat\",\"beau\",\"beaucoup\",\"bien\",\"bigre\",\"bon\",\"boum\",\"bravo\",\"brrr\",\"c\",\"car\",\"ce\",\n",
    "             \"ceci\",\"cela\",\"celle\",\"celle-ci\",\"celle-là\",\"celles\",\"celles-ci\",\"celles-là\",\"celui\",\"celui-ci\",\n",
    "             \"celui-là\",\"celà\",\"cent\",\"cependant\",\"certain\",\"certaine\",\"certaines\",\"certains\",\"certes\",\"ces\",\n",
    "             \"cet\",\"cette\",\"ceux\",\"ceux-ci\",\"ceux-là\",\"chacun\",\"chacune\",\"chaque\",\"cher\",\"chers\",\"chez\",\"chiche\",\n",
    "             \"chut\",\"chère\",\"chères\",\"ci\",\"cinq\",\"cinquantaine\",\"cinquante\",\"cinquantième\",\"cinquième\",\"clac\",\"clic\",\n",
    "             \"combien\",\"comme\",\"comment\",\"comparable\",\"comparables\",\"compris\",\"concernant\",\"contre\",\"couic\",\n",
    "             \"crac\",\"d\",\"da\",\"dans\",\"de\",\"debout\",\"dedans\",\"dehors\",\"deja\",\"delà\",\"depuis\",\"dernier\",\"derniere\",\n",
    "             \"derriere\",\"derrière\",\"des\",\"desormais\",\"desquelles\",\"desquels\",\"dessous\",\"dessus\",\"deux\",\"deuxième\",\n",
    "             \"deuxièmement\",\"devant\",\"devers\",\"devra\",\"devrait\",\"different\",\"differentes\",\"differents\",\"différent\",\n",
    "             \"différente\",\"différentes\",\"différents\",\"dire\",\"directe\",\"directement\",\"dit\",\"dite\",\"dits\",\"divers\",\n",
    "             \"diverse\",\"diverses\",\"dix\",\"dix-huit\",\"dix-neuf\",\"dix-sept\",\"dixième\",\"doit\",\"doivent\",\"donc\",\"dont\",\n",
    "             \"dos\",\"douze\",\"douzième\",\"dring\",\"droite\",\"du\",\"duquel\",\"durant\",\"dès\",\"début\",\"désormais\",\"e\",\"effet\",\n",
    "             \"egale\",\"egalement\",\"egales\",\"eh\",\"elle\",\"elle-même\",\"elles\",\"elles-mêmes\",\"en\",\"encore\",\"enfin\",\"entre\",\"envers\",\"environ\",\"es\",\"essai\",\"est\",\"et\",\"etant\",\"etc\",\"etre\",\"eu\",\"eue\",\"eues\",\"euh\",\"eurent\",\"eus\",\"eusse\",\"eussent\",\"eusses\",\"eussiez\",\"eussions\",\"eut\",\"eux\",\"eux-mêmes\",\"exactement\",\"excepté\",\"extenso\",\"exterieur\",\"eûmes\",\"eût\",\"eûtes\",\"f\",\"fais\",\"faisaient\",\"faisant\",\"fait\",\"faites\",\"façon\",\"feront\",\"fi\",\"flac\",\"floc\",\"fois\",\"font\",\"force\",\"furent\",\"fus\",\"fusse\",\"fussent\",\"fusses\",\"fussiez\",\"fussions\",\"fut\",\"fûmes\",\"fût\",\"fûtes\",\"g\",\"gens\",\"h\",\"ha\",\"haut\",\"hein\",\"hem\",\"hep\",\"hi\",\"ho\",\"holà\",\"hop\",\"hormis\",\"hors\",\"hou\",\"houp\",\"hue\",\"hui\",\"huit\",\"huitième\",\"hum\",\"hurrah\",\"hé\",\"hélas\",\"i\",\"ici\",\"il\",\"ils\",\"importe\",\"j\",\"je\",\"jusqu\",\"jusque\",\"juste\",\"k\",\"l\",\"la\",\"laisser\",\"laquelle\",\"las\",\"le\",\"lequel\",\"les\",\"lesquelles\",\"lesquels\",\"leur\",\"leurs\",\"longtemps\",\"lors\",\"lorsque\",\"lui\",\"lui-meme\",\"lui-même\",\"là\",\"lès\",\"m\",\"ma\",\"maint\",\"maintenant\",\"mais\",\"malgre\",\"malgré\",\"maximale\",\"me\",\"meme\",\"memes\",\"merci\",\"mes\",\"mien\",\"mienne\",\"miennes\",\"miens\",\"mille\",\"mince\",\"mine\",\"minimale\",\"moi\",\"moi-meme\",\"moi-même\",\"moindres\",\"moins\",\"mon\",\"mot\",\"moyennant\",\"multiple\",\"multiples\",\"même\",\"mêmes\",\"n\",\"na\",\"naturel\",\"naturelle\",\"naturelles\",\"ne\",\"neanmoins\",\"necessaire\",\"necessairement\",\"neuf\",\"neuvième\",\"ni\",\"nombreuses\",\"nombreux\",\"nommés\",\"non\",\"nos\",\"notamment\",\"notre\",\"nous\",\"nous-mêmes\",\"nouveau\",\"nouveaux\",\"nul\",\"néanmoins\",\"nôtre\",\"nôtres\",\"o\",\"oh\",\"ohé\",\"ollé\",\"olé\",\"on\",\"ont\",\"onze\",\"onzième\",\"ore\",\"ou\",\"ouf\",\"ouias\",\"oust\",\"ouste\",\"outre\",\"ouvert\",\"ouverte\",\"ouverts\",\"o|\",\"où\",\"p\",\"paf\",\"pan\",\"par\",\"parce\",\"parfois\",\"parle\",\"parlent\",\"parler\",\"parmi\",\"parole\",\"parseme\",\"partant\",\"particulier\",\"particulière\",\"particulièrement\",\"pas\",\"passé\",\"pendant\",\"pense\",\"permet\",\"personne\",\"personnes\",\"peu\",\"peut\",\"peuvent\",\"peux\",\"pff\",\"pfft\",\"pfut\",\"pif\",\"pire\",\"pièce\",\"plein\",\"plouf\",\"plupart\",\"plus\",\"plusieurs\",\"plutôt\",\"possessif\",\"possessifs\",\"possible\",\"possibles\",\"pouah\",\"pour\",\"pourquoi\",\"pourrais\",\"pourrait\",\"pouvait\",\"prealable\",\"precisement\",\"premier\",\"première\",\"premièrement\",\"pres\",\"probable\",\"probante\",\"procedant\",\"proche\",\"près\",\"psitt\",\"pu\",\"puis\",\"puisque\",\"pur\",\"pure\",\"q\",\"qu\",\"quand\",\"quant\",\"quant-à-soi\",\"quanta\",\"quarante\",\"quatorze\",\"quatre\",\"quatre-vingt\",\"quatrième\",\"quatrièmement\",\"que\",\"quel\",\"quelconque\",\"quelle\",\"quelles\",\"quelqu'un\",\"quelque\",\"quelques\",\"quels\",\"qui\",\"quiconque\",\"quinze\",\"quoi\",\"quoique\",\"r\",\"rare\",\"rarement\",\"rares\",\"relative\",\"relativement\",\"remarquable\",\"rend\",\"rendre\",\"restant\",\"reste\",\"restent\",\"restrictif\",\"retour\",\"revoici\",\"revoilà\",\"rien\",\"s\",\"sa\",\"sacrebleu\",\"sait\",\"sans\",\"sapristi\",\"sauf\",\"se\",\"sein\",\"seize\",\"selon\",\"semblable\",\"semblaient\",\"semble\",\"semblent\",\"sent\",\"sept\",\"septième\",\"sera\",\"serai\",\"seraient\",\"serais\",\"serait\",\"seras\",\"serez\",\"seriez\",\"serions\",\"serons\",\"seront\",\"ses\",\"seul\",\"seule\",\"seulement\",\"si\",\"sien\",\"sienne\",\"siennes\",\"siens\",\"sinon\",\"six\",\"sixième\",\"soi\",\"soi-même\",\"soient\",\"sois\",\"soit\",\"soixante\",\"sommes\",\"son\",\"sont\",\"sous\",\"souvent\",\"soyez\",\"soyons\",\"specifique\",\"specifiques\",\"speculatif\",\"stop\",\"strictement\",\"subtiles\",\"suffisant\",\"suffisante\",\"suffit\",\"suis\",\"suit\",\"suivant\",\"suivante\",\"suivantes\",\"suivants\",\"suivre\",\"sujet\",\"superpose\",\"sur\",\"surtout\",\"t\",\"ta\",\"tac\",\"tandis\",\"tant\",\"tardive\",\"te\",\"tel\",\"telle\",\"tellement\",\"telles\",\"tels\",\"tenant\",\"tend\",\"tenir\",\"tente\",\"tes\",\"tic\",\"tien\",\"tienne\",\"tiennes\",\"tiens\",\"toc\",\"toi\",\"toi-même\",\"ton\",\"touchant\",\"toujours\",\"tous\",\"tout\",\"toute\",\"toutefois\",\"toutes\",\"treize\",\"trente\",\"tres\",\"trois\",\"troisième\",\"troisièmement\",\"trop\",\"très\",\"tsoin\",\"tsouin\",\"tu\",\"té\",\"u\",\"un\",\"une\",\"unes\",\"uniformement\",\"unique\",\"uniques\",\"uns\",\"v\",\"va\",\"vais\",\"valeur\",\"vas\",\"vers\",\"via\",\"vif\",\"vifs\",\"vingt\",\"vivat\",\"vive\",\"vives\",\"vlan\",\"voici\",\"voie\",\"voient\",\"voilà\",\"voire\",\"vont\",\"vos\",\"votre\",\"vous\",\"vous-mêmes\",\"vu\",\"vé\",\"vôtre\",\"vôtres\",\"w\",\"x\",\"y\",\"z\",\"zut\",\"à\",\"â\",\"ça\",\"ès\",\"étaient\",\"étais\",\"était\",\"étant\",\"état\",\"étiez\",\"étions\",\"été\",\"étée\",\"étées\",\"étés\",\"êtes\",\"être\",\"ô\"]\n"
   ]
  },
  {
   "cell_type": "code",
   "execution_count": 48,
   "id": "bc8c946f-3e3a-4048-91d1-7bc19ad12a8a",
   "metadata": {},
   "outputs": [],
   "source": [
    "df['Avis.Pharmaceutique'] = df['Avis.Pharmaceutique'].apply(lambda x: ' '.join([word for word in x.split() if word not in (stop_word)]))"
   ]
  },
  {
   "cell_type": "code",
   "execution_count": 49,
   "id": "b7b7dc00-0a79-4dd1-a6fa-4bdba601a68c",
   "metadata": {},
   "outputs": [],
   "source": [
    "plt = pd.get_dummies(df.PLT.astype(str))"
   ]
  },
  {
   "cell_type": "code",
   "execution_count": 50,
   "id": "0bcfad79-3cc7-4ac4-a78b-dba54f388004",
   "metadata": {},
   "outputs": [
    {
     "data": {
      "text/html": [
       "<div>\n",
       "<style scoped>\n",
       "    .dataframe tbody tr th:only-of-type {\n",
       "        vertical-align: middle;\n",
       "    }\n",
       "\n",
       "    .dataframe tbody tr th {\n",
       "        vertical-align: top;\n",
       "    }\n",
       "\n",
       "    .dataframe thead th {\n",
       "        text-align: right;\n",
       "    }\n",
       "</style>\n",
       "<table border=\"1\" class=\"dataframe\">\n",
       "  <thead>\n",
       "    <tr style=\"text-align: right;\">\n",
       "      <th></th>\n",
       "      <th>1</th>\n",
       "      <th>10</th>\n",
       "      <th>11</th>\n",
       "      <th>2</th>\n",
       "      <th>3</th>\n",
       "      <th>4</th>\n",
       "      <th>5</th>\n",
       "      <th>6</th>\n",
       "      <th>7</th>\n",
       "      <th>8</th>\n",
       "      <th>9</th>\n",
       "    </tr>\n",
       "  </thead>\n",
       "  <tbody>\n",
       "    <tr>\n",
       "      <th>0</th>\n",
       "      <td>0</td>\n",
       "      <td>0</td>\n",
       "      <td>0</td>\n",
       "      <td>0</td>\n",
       "      <td>0</td>\n",
       "      <td>0</td>\n",
       "      <td>1</td>\n",
       "      <td>0</td>\n",
       "      <td>0</td>\n",
       "      <td>0</td>\n",
       "      <td>0</td>\n",
       "    </tr>\n",
       "    <tr>\n",
       "      <th>1</th>\n",
       "      <td>0</td>\n",
       "      <td>0</td>\n",
       "      <td>0</td>\n",
       "      <td>0</td>\n",
       "      <td>0</td>\n",
       "      <td>1</td>\n",
       "      <td>0</td>\n",
       "      <td>0</td>\n",
       "      <td>0</td>\n",
       "      <td>0</td>\n",
       "      <td>0</td>\n",
       "    </tr>\n",
       "    <tr>\n",
       "      <th>2</th>\n",
       "      <td>0</td>\n",
       "      <td>0</td>\n",
       "      <td>0</td>\n",
       "      <td>0</td>\n",
       "      <td>0</td>\n",
       "      <td>1</td>\n",
       "      <td>0</td>\n",
       "      <td>0</td>\n",
       "      <td>0</td>\n",
       "      <td>0</td>\n",
       "      <td>0</td>\n",
       "    </tr>\n",
       "    <tr>\n",
       "      <th>3</th>\n",
       "      <td>0</td>\n",
       "      <td>0</td>\n",
       "      <td>0</td>\n",
       "      <td>0</td>\n",
       "      <td>0</td>\n",
       "      <td>1</td>\n",
       "      <td>0</td>\n",
       "      <td>0</td>\n",
       "      <td>0</td>\n",
       "      <td>0</td>\n",
       "      <td>0</td>\n",
       "    </tr>\n",
       "    <tr>\n",
       "      <th>4</th>\n",
       "      <td>0</td>\n",
       "      <td>0</td>\n",
       "      <td>0</td>\n",
       "      <td>0</td>\n",
       "      <td>1</td>\n",
       "      <td>0</td>\n",
       "      <td>0</td>\n",
       "      <td>0</td>\n",
       "      <td>0</td>\n",
       "      <td>0</td>\n",
       "      <td>0</td>\n",
       "    </tr>\n",
       "  </tbody>\n",
       "</table>\n",
       "</div>"
      ],
      "text/plain": [
       "   1  10  11  2  3  4  5  6  7  8  9\n",
       "0  0   0   0  0  0  0  1  0  0  0  0\n",
       "1  0   0   0  0  0  1  0  0  0  0  0\n",
       "2  0   0   0  0  0  1  0  0  0  0  0\n",
       "3  0   0   0  0  0  1  0  0  0  0  0\n",
       "4  0   0   0  0  1  0  0  0  0  0  0"
      ]
     },
     "execution_count": 50,
     "metadata": {},
     "output_type": "execute_result"
    }
   ],
   "source": [
    "plt.head()"
   ]
  },
  {
   "cell_type": "code",
   "execution_count": 51,
   "id": "213c5114-a38c-4e76-8830-786728feb6e8",
   "metadata": {},
   "outputs": [],
   "source": [
    "plt_col_names = plt.columns"
   ]
  },
  {
   "cell_type": "code",
   "execution_count": 52,
   "id": "f855333e-0628-469d-8712-703fcfd28221",
   "metadata": {},
   "outputs": [
    {
     "data": {
      "text/html": [
       "<div>\n",
       "<style scoped>\n",
       "    .dataframe tbody tr th:only-of-type {\n",
       "        vertical-align: middle;\n",
       "    }\n",
       "\n",
       "    .dataframe tbody tr th {\n",
       "        vertical-align: top;\n",
       "    }\n",
       "\n",
       "    .dataframe thead th {\n",
       "        text-align: right;\n",
       "    }\n",
       "</style>\n",
       "<table border=\"1\" class=\"dataframe\">\n",
       "  <thead>\n",
       "    <tr style=\"text-align: right;\">\n",
       "      <th></th>\n",
       "      <th>Libellé.Prescription</th>\n",
       "      <th>Avis.Pharmaceutique</th>\n",
       "      <th>PLT</th>\n",
       "      <th>Length</th>\n",
       "    </tr>\n",
       "  </thead>\n",
       "  <tbody>\n",
       "    <tr>\n",
       "      <th>0</th>\n",
       "      <td>CONTRAMAL 100 MG/ML, GOUTTES BUV (TRAMADOL)</td>\n",
       "      <td>indication</td>\n",
       "      <td>5</td>\n",
       "      <td>26</td>\n",
       "    </tr>\n",
       "    <tr>\n",
       "      <th>1</th>\n",
       "      <td>IMOVANE 7.5 MG, CPR SÉCABLE (ZOPICLONE)</td>\n",
       "      <td>recommande imovane mg cp coucher eb</td>\n",
       "      <td>4</td>\n",
       "      <td>59</td>\n",
       "    </tr>\n",
       "    <tr>\n",
       "      <th>2</th>\n",
       "      <td>COLCHICINE 1 MG, CPR SÉCABLE (COLCHICINE)</td>\n",
       "      <td>vue dfg recommande administrer mg donnees gpr ...</td>\n",
       "      <td>4</td>\n",
       "      <td>113</td>\n",
       "    </tr>\n",
       "    <tr>\n",
       "      <th>3</th>\n",
       "      <td>PANTOPRAZOLE 40 MG, CPR GASTRO-RÉSISTANT (EUPA...</td>\n",
       "      <td>dose curative absence atcd gastrique retrouve ...</td>\n",
       "      <td>4</td>\n",
       "      <td>108</td>\n",
       "    </tr>\n",
       "    <tr>\n",
       "      <th>4</th>\n",
       "      <td>VANCOMYCINE 500 mg 1x/j</td>\n",
       "      <td>posologie infrat veuillez reevaluer posologie ...</td>\n",
       "      <td>3</td>\n",
       "      <td>77</td>\n",
       "    </tr>\n",
       "  </tbody>\n",
       "</table>\n",
       "</div>"
      ],
      "text/plain": [
       "                                Libellé.Prescription  \\\n",
       "0        CONTRAMAL 100 MG/ML, GOUTTES BUV (TRAMADOL)   \n",
       "1            IMOVANE 7.5 MG, CPR SÉCABLE (ZOPICLONE)   \n",
       "2          COLCHICINE 1 MG, CPR SÉCABLE (COLCHICINE)   \n",
       "3  PANTOPRAZOLE 40 MG, CPR GASTRO-RÉSISTANT (EUPA...   \n",
       "4                            VANCOMYCINE 500 mg 1x/j   \n",
       "\n",
       "                                 Avis.Pharmaceutique  PLT  Length  \n",
       "0                                         indication    5      26  \n",
       "1                recommande imovane mg cp coucher eb    4      59  \n",
       "2  vue dfg recommande administrer mg donnees gpr ...    4     113  \n",
       "3  dose curative absence atcd gastrique retrouve ...    4     108  \n",
       "4  posologie infrat veuillez reevaluer posologie ...    3      77  "
      ]
     },
     "execution_count": 52,
     "metadata": {},
     "output_type": "execute_result"
    }
   ],
   "source": [
    "df.head()"
   ]
  },
  {
   "cell_type": "markdown",
   "id": "97a79a2f-3681-4284-91a9-f15550f8b899",
   "metadata": {},
   "source": [
    "#### Frequency of word list"
   ]
  },
  {
   "cell_type": "code",
   "execution_count": 53,
   "id": "0ac52dce-8b7e-4d68-92c1-677a132d7224",
   "metadata": {},
   "outputs": [],
   "source": [
    "cv = CountVectorizer()\n",
    "cv_fit = cv.fit_transform(df['Avis.Pharmaceutique'])"
   ]
  },
  {
   "cell_type": "code",
   "execution_count": 54,
   "id": "a233e912-168c-44df-bb06-fd8578cc56aa",
   "metadata": {},
   "outputs": [
    {
     "data": {
      "text/plain": [
       "[('mg', 13380),\n",
       " ('cp', 4519),\n",
       " ('jour', 3751),\n",
       " ('propose', 3479),\n",
       " ('hus', 3252),\n",
       " ('proposons', 2776),\n",
       " ('cpr', 2342),\n",
       " ('reference', 2259),\n",
       " ('prescrire', 2176),\n",
       " ('refuse', 2041),\n",
       " ('posologie', 1972),\n",
       " ('motif', 1899),\n",
       " ('prescription', 1684),\n",
       " ('pantoprazole', 1597),\n",
       " ('andrea', 1534),\n",
       " ('agnes', 1525),\n",
       " ('revoir', 1411),\n",
       " ('ml', 1404),\n",
       " ('patient', 1324),\n",
       " ('substituer', 1207)]"
      ]
     },
     "execution_count": 54,
     "metadata": {},
     "output_type": "execute_result"
    }
   ],
   "source": [
    "word_list = cv.get_feature_names()\n",
    "count_list = cv_fit.toarray().sum(axis=0)\n",
    "dict_list = dict(zip(word_list,count_list))\n",
    "dict_list = sorted(dict_list.items(), key=lambda item: item[1],reverse=True)\n",
    "dict_list[:20]"
   ]
  },
  {
   "cell_type": "markdown",
   "id": "aeb1f28c-e079-4950-997e-ff15b5c71d0c",
   "metadata": {},
   "source": [
    "#### Simple Way"
   ]
  },
  {
   "cell_type": "code",
   "execution_count": 55,
   "id": "352a468a-7f32-4a54-bff9-1a359b919a80",
   "metadata": {},
   "outputs": [],
   "source": [
    "pipeline = Pipeline([\n",
    "    ('bow', CountVectorizer()),  # strings to token integer counts\n",
    "    ('tfidf', TfidfTransformer()),  # integer counts to weighted TF-IDF scores\n",
    "    ('classifier', MultinomialNB()),  # train on TF-IDF vectors w/ Naive Bayes classifier\n",
    "])"
   ]
  },
  {
   "cell_type": "code",
   "execution_count": 56,
   "id": "96f5dc70-050e-46b6-b5f0-0a6ae0d141d5",
   "metadata": {},
   "outputs": [],
   "source": [
    "X = df['Avis.Pharmaceutique']\n",
    "y = df['PLT']\n",
    "X_train, X_test, y_train, y_test = train_test_split(X, y,test_size=0.3,random_state = 42, stratify=y)"
   ]
  },
  {
   "cell_type": "code",
   "execution_count": 57,
   "id": "ea28b2db-9f95-4595-986c-ac391a5c6505",
   "metadata": {},
   "outputs": [
    {
     "data": {
      "text/plain": [
       "Pipeline(steps=[('bow', CountVectorizer()), ('tfidf', TfidfTransformer()),\n",
       "                ('classifier', MultinomialNB())])"
      ]
     },
     "execution_count": 57,
     "metadata": {},
     "output_type": "execute_result"
    }
   ],
   "source": [
    "pipeline.fit(X_train,y_train)"
   ]
  },
  {
   "cell_type": "code",
   "execution_count": 58,
   "id": "a3666ccc-bc04-4431-b605-ce8d285e64bc",
   "metadata": {},
   "outputs": [],
   "source": [
    "predictions = pipeline.predict(X_test)"
   ]
  },
  {
   "cell_type": "code",
   "execution_count": 59,
   "id": "a535c88b-9a5e-4fd6-a71c-fa92f2678ab6",
   "metadata": {},
   "outputs": [
    {
     "data": {
      "text/plain": [
       "array([1, 1, 1, ..., 1, 1, 1], dtype=int64)"
      ]
     },
     "execution_count": 59,
     "metadata": {},
     "output_type": "execute_result"
    }
   ],
   "source": [
    "predictions"
   ]
  },
  {
   "cell_type": "code",
   "execution_count": 60,
   "id": "44b734db-e2bc-4889-aedd-c433931e2b5e",
   "metadata": {},
   "outputs": [
    {
     "name": "stdout",
     "output_type": "stream",
     "text": [
      "[[3184    5    1  105    2   13    0   59    0    0   10]\n",
      " [ 121   94    0    3    0    0    0    7    0    0    2]\n",
      " [ 186    0   16   69    0    0    0   15    0    4    1]\n",
      " [ 181    1    0  696    1    0    0   35    0    2    3]\n",
      " [ 117    0    0   81   43    2    0    6    0    0    1]\n",
      " [  34    0    1   20    1  212    0   19    0    2    1]\n",
      " [   0    0    0    0    0    2    0    0    0    0    0]\n",
      " [ 279    0    0   54    0    1    0  544    0    1    5]\n",
      " [   0    0    0    1    0    0    0    5    0    0    0]\n",
      " [  45    0    2   85    1    9    0    7    0   71    1]\n",
      " [ 276    0    0   88    0    2    0   31    0    2   75]]\n",
      "              precision    recall  f1-score   support\n",
      "\n",
      "           1       0.72      0.94      0.82      3379\n",
      "           2       0.94      0.41      0.57       227\n",
      "           3       0.80      0.05      0.10       291\n",
      "           4       0.58      0.76      0.66       919\n",
      "           5       0.90      0.17      0.29       250\n",
      "           6       0.88      0.73      0.80       290\n",
      "           7       0.00      0.00      0.00         2\n",
      "           8       0.75      0.62      0.67       884\n",
      "           9       0.00      0.00      0.00         6\n",
      "          10       0.87      0.32      0.47       221\n",
      "          11       0.76      0.16      0.26       474\n",
      "\n",
      "    accuracy                           0.71      6943\n",
      "   macro avg       0.65      0.38      0.42      6943\n",
      "weighted avg       0.73      0.71      0.67      6943\n",
      "\n"
     ]
    },
    {
     "name": "stderr",
     "output_type": "stream",
     "text": [
      "C:\\Users\\murat\\anaconda3\\lib\\site-packages\\sklearn\\metrics\\_classification.py:1248: UndefinedMetricWarning: Precision and F-score are ill-defined and being set to 0.0 in labels with no predicted samples. Use `zero_division` parameter to control this behavior.\n",
      "  _warn_prf(average, modifier, msg_start, len(result))\n",
      "C:\\Users\\murat\\anaconda3\\lib\\site-packages\\sklearn\\metrics\\_classification.py:1248: UndefinedMetricWarning: Precision and F-score are ill-defined and being set to 0.0 in labels with no predicted samples. Use `zero_division` parameter to control this behavior.\n",
      "  _warn_prf(average, modifier, msg_start, len(result))\n",
      "C:\\Users\\murat\\anaconda3\\lib\\site-packages\\sklearn\\metrics\\_classification.py:1248: UndefinedMetricWarning: Precision and F-score are ill-defined and being set to 0.0 in labels with no predicted samples. Use `zero_division` parameter to control this behavior.\n",
      "  _warn_prf(average, modifier, msg_start, len(result))\n"
     ]
    }
   ],
   "source": [
    "print(confusion_matrix(y_test,predictions))\n",
    "print(classification_report(y_test,predictions))"
   ]
  },
  {
   "cell_type": "code",
   "execution_count": 61,
   "id": "7b41bb0a-29a0-4454-89ed-9ad9bcc62544",
   "metadata": {},
   "outputs": [
    {
     "name": "stdout",
     "output_type": "stream",
     "text": [
      "[[3184    5    1  105    2   13    0   59    0    0   10]\n",
      " [ 121   94    0    3    0    0    0    7    0    0    2]\n",
      " [ 186    0   16   69    0    0    0   15    0    4    1]\n",
      " [ 181    1    0  696    1    0    0   35    0    2    3]\n",
      " [ 117    0    0   81   43    2    0    6    0    0    1]\n",
      " [  34    0    1   20    1  212    0   19    0    2    1]\n",
      " [   0    0    0    0    0    2    0    0    0    0    0]\n",
      " [ 279    0    0   54    0    1    0  544    0    1    5]\n",
      " [   0    0    0    1    0    0    0    5    0    0    0]\n",
      " [  45    0    2   85    1    9    0    7    0   71    1]\n",
      " [ 276    0    0   88    0    2    0   31    0    2   75]]\n",
      "              precision    recall  f1-score   support\n",
      "\n",
      "           1       0.72      0.94      0.82      3379\n",
      "           2       0.94      0.41      0.57       227\n",
      "           3       0.80      0.05      0.10       291\n",
      "           4       0.58      0.76      0.66       919\n",
      "           5       0.90      0.17      0.29       250\n",
      "           6       0.88      0.73      0.80       290\n",
      "           7       0.00      0.00      0.00         2\n",
      "           8       0.75      0.62      0.67       884\n",
      "           9       0.00      0.00      0.00         6\n",
      "          10       0.87      0.32      0.47       221\n",
      "          11       0.76      0.16      0.26       474\n",
      "\n",
      "    accuracy                           0.71      6943\n",
      "   macro avg       0.65      0.38      0.42      6943\n",
      "weighted avg       0.73      0.71      0.67      6943\n",
      "\n"
     ]
    },
    {
     "name": "stderr",
     "output_type": "stream",
     "text": [
      "C:\\Users\\murat\\anaconda3\\lib\\site-packages\\sklearn\\metrics\\_classification.py:1248: UndefinedMetricWarning: Precision and F-score are ill-defined and being set to 0.0 in labels with no predicted samples. Use `zero_division` parameter to control this behavior.\n",
      "  _warn_prf(average, modifier, msg_start, len(result))\n",
      "C:\\Users\\murat\\anaconda3\\lib\\site-packages\\sklearn\\metrics\\_classification.py:1248: UndefinedMetricWarning: Precision and F-score are ill-defined and being set to 0.0 in labels with no predicted samples. Use `zero_division` parameter to control this behavior.\n",
      "  _warn_prf(average, modifier, msg_start, len(result))\n",
      "C:\\Users\\murat\\anaconda3\\lib\\site-packages\\sklearn\\metrics\\_classification.py:1248: UndefinedMetricWarning: Precision and F-score are ill-defined and being set to 0.0 in labels with no predicted samples. Use `zero_division` parameter to control this behavior.\n",
      "  _warn_prf(average, modifier, msg_start, len(result))\n"
     ]
    }
   ],
   "source": [
    "print(confusion_matrix(y_test,predictions))\n",
    "print(classification_report(y_test,predictions))"
   ]
  },
  {
   "cell_type": "code",
   "execution_count": 27,
   "id": "050ccbab-ca1b-4833-9167-bbbc97a9c054",
   "metadata": {},
   "outputs": [
    {
     "name": "stdout",
     "output_type": "stream",
     "text": [
      "[[5439  145]\n",
      " [ 554  805]]\n",
      "              precision    recall  f1-score   support\n",
      "\n",
      "           0       0.91      0.97      0.94      5584\n",
      "           1       0.85      0.59      0.70      1359\n",
      "\n",
      "    accuracy                           0.90      6943\n",
      "   macro avg       0.88      0.78      0.82      6943\n",
      "weighted avg       0.90      0.90      0.89      6943\n",
      "\n"
     ]
    }
   ],
   "source": [
    "print(confusion_matrix(y_test,predictions))\n",
    "print(classification_report(y_test,predictions))"
   ]
  },
  {
   "cell_type": "code",
   "execution_count": null,
   "id": "64b04448-e261-4918-bc65-1668f1eb0bcb",
   "metadata": {},
   "outputs": [],
   "source": []
  },
  {
   "cell_type": "code",
   "execution_count": null,
   "id": "f3d91f18-2e90-4a0f-9f05-c3bc3bba14f1",
   "metadata": {},
   "outputs": [],
   "source": []
  },
  {
   "cell_type": "code",
   "execution_count": null,
   "id": "86966cf7-454a-4048-bd27-8d24a4e74d2d",
   "metadata": {},
   "outputs": [],
   "source": [
    "\n",
    "#df['Avis.Pharmaceutique'].apply(lambda w : w for w in df['Avis.Pharmaceutique'].split() if not w in stop_word)\n",
    "#df['Avis.Pharmaceutique'] = df['Avis.Pharmaceutique'].apply(lambda x: ' '.join([word for word in x.split() if word not in (stop_word)]))\n"
   ]
  },
  {
   "cell_type": "code",
   "execution_count": null,
   "id": "838c99f0-0f35-4ec7-9ba5-7ae8aea2d4fe",
   "metadata": {},
   "outputs": [],
   "source": []
  },
  {
   "cell_type": "markdown",
   "id": "fe394cbc-e2f1-4b36-bf1f-f450d1b2a475",
   "metadata": {},
   "source": [
    "#### DEEP "
   ]
  },
  {
   "cell_type": "code",
   "execution_count": null,
   "id": "b79e2f3a-ecf1-4f9d-87dd-fa714301f774",
   "metadata": {},
   "outputs": [],
   "source": [
    "#pip install keras"
   ]
  },
  {
   "cell_type": "code",
   "execution_count": null,
   "id": "bac6ea55-1211-452d-960e-be08da4deab5",
   "metadata": {},
   "outputs": [],
   "source": [
    "#pip install tensorflow"
   ]
  },
  {
   "cell_type": "code",
   "execution_count": 86,
   "id": "9ea8e57e-2121-4618-bee6-6316be68d386",
   "metadata": {},
   "outputs": [],
   "source": [
    "import nltk\n",
    "#nltk.download('punkt')\n",
    "from keras.models import Sequential\n",
    "from keras.layers.core import Activation, Dropout, Dense\n",
    "from keras.layers import Flatten, LSTM, Conv1D\n",
    "from keras.layers import GlobalMaxPooling1D\n",
    "from keras.models import Model\n",
    "from tensorflow.keras.layers import Embedding\n",
    "from keras_preprocessing.sequence import pad_sequences\n",
    "from sklearn.metrics import classification_report,confusion_matrix\n",
    "from keras.preprocessing.text import one_hot\n",
    "from nltk.tokenize import word_tokenize\n",
    "from keras import layers\n"
   ]
  },
  {
   "cell_type": "code",
   "execution_count": 87,
   "id": "777cec13-aca7-4a39-9510-ded3f5c4b2ce",
   "metadata": {},
   "outputs": [],
   "source": [
    "#pip install nltk"
   ]
  },
  {
   "cell_type": "code",
   "execution_count": 88,
   "id": "5651153d-8bac-4f90-b9ee-229db6ba42c4",
   "metadata": {},
   "outputs": [],
   "source": [
    "X = df['Avis.Pharmaceutique']\n",
    "#y = df['PLT']\n",
    "y = plt\n",
    "X_train, X_test, y_train, y_test = train_test_split(X, y, test_size=0.20, random_state=42,stratify=y)"
   ]
  },
  {
   "cell_type": "code",
   "execution_count": null,
   "id": "5361081f-c0e1-495b-8d05-b39fa7c40760",
   "metadata": {},
   "outputs": [],
   "source": []
  },
  {
   "cell_type": "code",
   "execution_count": null,
   "id": "75cd02fe-bb07-432e-996b-a97e70cd4f03",
   "metadata": {},
   "outputs": [],
   "source": []
  },
  {
   "cell_type": "code",
   "execution_count": 89,
   "id": "014d28c4-9d43-4212-bde6-5de5c8cd7983",
   "metadata": {},
   "outputs": [
    {
     "name": "stdout",
     "output_type": "stream",
     "text": [
      "[32, 5, 6, 184, 374, 30, 28, 570, 3, 41]\n"
     ]
    }
   ],
   "source": [
    "from keras.preprocessing.text import Tokenizer\n",
    "tokenizer = Tokenizer(num_words=5000)\n",
    "tokenizer.fit_on_texts(X_train)\n",
    "\n",
    "X_train = tokenizer.texts_to_sequences(X_train)\n",
    "X_test = tokenizer.texts_to_sequences(X_test)\n",
    "\n",
    "vocab_size = len(tokenizer.word_index) + 1  # Adding 1 because of reserved 0 index\n",
    "\n",
    "print(X_train[2])\n"
   ]
  },
  {
   "cell_type": "code",
   "execution_count": null,
   "id": "6e229051-2671-4cf9-aa75-85590b55984b",
   "metadata": {},
   "outputs": [],
   "source": [
    "X_test = tokenizer.texts_to_sequences(X_test)\n",
    "X_test = pad_sequences(X_test, padding='post', maxlen=maxlen)"
   ]
  },
  {
   "cell_type": "code",
   "execution_count": null,
   "id": "8ca9523b-2b0f-4c4f-82f4-300f65270611",
   "metadata": {},
   "outputs": [],
   "source": []
  },
  {
   "cell_type": "code",
   "execution_count": 90,
   "id": "4dd63acd-e809-4fd9-a17d-4216cc09a0f2",
   "metadata": {},
   "outputs": [
    {
     "name": "stdout",
     "output_type": "stream",
     "text": [
      "[ 20 206   1   2   0   0   0   0   0   0   0   0   0   0   0   0   0   0\n",
      "   0   0   0   0   0   0   0   0   0   0   0   0   0   0   0   0   0   0\n",
      "   0   0   0   0]\n"
     ]
    }
   ],
   "source": [
    "maxlen = 40\n",
    "X_train = pad_sequences(X_train, padding='post', maxlen=maxlen)\n",
    "X_test = pad_sequences(X_test, padding='post', maxlen=maxlen)\n",
    "\n",
    "print(X_train[0, :])"
   ]
  },
  {
   "cell_type": "code",
   "execution_count": 91,
   "id": "7fb8fe44-5fc3-4af9-8a42-ccd421e50de7",
   "metadata": {},
   "outputs": [],
   "source": [
    "# from sklearn.feature_extraction.text import TfidfTransformer"
   ]
  },
  {
   "cell_type": "code",
   "execution_count": 92,
   "id": "e3029519-362f-4761-8e75-b6f8accefeb1",
   "metadata": {},
   "outputs": [],
   "source": [
    "# tfidf_transformer = TfidfTransformer().fit(X_train)\n",
    "# tfidf = tfidf_transformer.transform(X_train)\n",
    "# tfidf = tfidf.toarray()\n",
    "# tfidf_transformer_t = TfidfTransformer().fit(X_test)\n",
    "# tfidf_t = tfidf_transformer_t.transform(X_test)\n",
    "# tfidf_t = tfidf_t.toarray()"
   ]
  },
  {
   "cell_type": "code",
   "execution_count": 93,
   "id": "1fd3a00a-9a13-4947-8fff-f3fbf439f54f",
   "metadata": {},
   "outputs": [],
   "source": [
    "# ### TFID versio\n",
    "\n",
    "# history = model.fit(tfidf, y_train,\n",
    "#                     epochs=8,\n",
    "#                     verbose=1,\n",
    "#                     validation_data=(tfidf_t, y_test),\n",
    "#                     batch_size=10,class_weight={0:0.6,1:2.5})\n",
    "# loss, accuracy = model.evaluate(tfidf, y_train, verbose=False)\n",
    "# print(\"Training Accuracy: {:.4f}\".format(accuracy))\n",
    "# loss, accuracy = model.evaluate(tfidf_t, y_test, verbose=False)\n",
    "# print(\"Testing Accuracy:  {:.4f}\".format(accuracy))\n",
    "# plot_history(history)"
   ]
  },
  {
   "cell_type": "code",
   "execution_count": 94,
   "id": "4b76c3ed-e9d1-48d1-bfde-b63dfb848c1a",
   "metadata": {},
   "outputs": [
    {
     "name": "stdout",
     "output_type": "stream",
     "text": [
      "(18512, 40)\n"
     ]
    }
   ],
   "source": [
    "print(X_train.shape)"
   ]
  },
  {
   "cell_type": "code",
   "execution_count": 95,
   "id": "da92586b-0e4e-41fa-b83b-49ec8abaff77",
   "metadata": {},
   "outputs": [],
   "source": [
    "# y_train = np.asarray(y_train).astype('float32').reshape((-1,1))\n",
    "# y_test = np.asarray(y_test).astype('float32').reshape((-1,1))"
   ]
  },
  {
   "cell_type": "code",
   "execution_count": 96,
   "id": "3a1baff8-2581-4c33-9931-a6b34e245fc3",
   "metadata": {},
   "outputs": [],
   "source": [
    "# embedding_dim = 40\n",
    "\n",
    "# model = Sequential()\n",
    "# model.add(Embedding(vocab_size, embedding_dim, input_length=maxlen))\n",
    "# model.add(Conv1D(50, 5))\n",
    "# model.add(Flatten())\n",
    "# model.add(Dense(50, activation='relu'))\n",
    "# model.add(layers.Dense(1, activation='sigmoid'))\n",
    "# model.compile(optimizer='adam',\n",
    "#               loss='binary_crossentropy',\n",
    "#               metrics=['accuracy'])\n"
   ]
  },
  {
   "cell_type": "code",
   "execution_count": 97,
   "id": "c0dcccaa-133c-4256-9681-2395b9d1cd96",
   "metadata": {},
   "outputs": [],
   "source": [
    "# Multi label\n",
    "embedding_dim = 40\n",
    "\n",
    "model = Sequential()\n",
    "model.add(Embedding(vocab_size, embedding_dim, input_length=maxlen))\n",
    "model.add(Conv1D(50, 5))\n",
    "model.add(Dense(120, activation='relu'))\n",
    "model.add(Dropout(0.2))\n",
    "model.add(Dense(100, activation='relu'))\n",
    "model.add(Dropout(0.2))\n",
    "#model.add(Flatten())\n",
    "model.add(Dense(50, activation='relu'))\n",
    "model.add(Flatten())\n",
    "model.add(layers.Dense(11, activation='softmax'))\n",
    "model.compile(optimizer='adam',\n",
    "              loss='binary_crossentropy',\n",
    "              metrics=['accuracy'])"
   ]
  },
  {
   "cell_type": "code",
   "execution_count": 98,
   "id": "108e32dd-ba2b-4eee-b4f7-6debf8c54bba",
   "metadata": {},
   "outputs": [
    {
     "name": "stdout",
     "output_type": "stream",
     "text": [
      "Model: \"sequential_5\"\n",
      "_________________________________________________________________\n",
      " Layer (type)                Output Shape              Param #   \n",
      "=================================================================\n",
      " embedding_4 (Embedding)     (None, 40, 40)            228600    \n",
      "                                                                 \n",
      " conv1d_3 (Conv1D)           (None, 36, 50)            10050     \n",
      "                                                                 \n",
      " dense_12 (Dense)            (None, 36, 120)           6120      \n",
      "                                                                 \n",
      " dropout_6 (Dropout)         (None, 36, 120)           0         \n",
      "                                                                 \n",
      " dense_13 (Dense)            (None, 36, 100)           12100     \n",
      "                                                                 \n",
      " dropout_7 (Dropout)         (None, 36, 100)           0         \n",
      "                                                                 \n",
      " dense_14 (Dense)            (None, 36, 50)            5050      \n",
      "                                                                 \n",
      " flatten_4 (Flatten)         (None, 1800)              0         \n",
      "                                                                 \n",
      " dense_15 (Dense)            (None, 11)                19811     \n",
      "                                                                 \n",
      "=================================================================\n",
      "Total params: 281,731\n",
      "Trainable params: 281,731\n",
      "Non-trainable params: 0\n",
      "_________________________________________________________________\n"
     ]
    }
   ],
   "source": [
    "model.summary()"
   ]
  },
  {
   "cell_type": "code",
   "execution_count": 106,
   "id": "ffd2b6c5-6a96-4de2-ae3a-e233da17072b",
   "metadata": {},
   "outputs": [
    {
     "name": "stdout",
     "output_type": "stream",
     "text": [
      "Model: \"sequential_7\"\n",
      "_________________________________________________________________\n",
      " Layer (type)                Output Shape              Param #   \n",
      "=================================================================\n",
      " embedding_6 (Embedding)     (None, 40, 50)            285750    \n",
      "                                                                 \n",
      " lstm_2 (LSTM)               (None, 40, 128)           91648     \n",
      "                                                                 \n",
      " dropout_12 (Dropout)        (None, 40, 128)           0         \n",
      "                                                                 \n",
      " flatten_6 (Flatten)         (None, 5120)              0         \n",
      "                                                                 \n",
      " dense_20 (Dense)            (None, 128)               655488    \n",
      "                                                                 \n",
      " dropout_13 (Dropout)        (None, 128)               0         \n",
      "                                                                 \n",
      " dense_21 (Dense)            (None, 64)                8256      \n",
      "                                                                 \n",
      " dropout_14 (Dropout)        (None, 64)                0         \n",
      "                                                                 \n",
      " dense_22 (Dense)            (None, 32)                2080      \n",
      "                                                                 \n",
      " dropout_15 (Dropout)        (None, 32)                0         \n",
      "                                                                 \n",
      " dense_23 (Dense)            (None, 11)                363       \n",
      "                                                                 \n",
      "=================================================================\n",
      "Total params: 1,043,585\n",
      "Trainable params: 1,043,585\n",
      "Non-trainable params: 0\n",
      "_________________________________________________________________\n"
     ]
    }
   ],
   "source": [
    "\n",
    "embedding_dim = 50\n",
    "\n",
    "model = Sequential()\n",
    "model.add(layers.Embedding(input_dim=vocab_size, \n",
    "                           output_dim=embedding_dim, \n",
    "                           input_length=40))\n",
    "model.add(LSTM(128,input_shape=(X_train.shape),activation='relu',return_sequences=True))\n",
    "model.add(Dropout(0.2))\n",
    "model.add(layers.Flatten())\n",
    "model.add(layers.Dense(128, activation='relu'))\n",
    "model.add(Dropout(0.2))\n",
    "model.add(layers.Dense(64, activation='relu'))\n",
    "model.add(Dropout(0.2))\n",
    "model.add(layers.Dense(32, activation='relu'))\n",
    "model.add(Dropout(0.2))\n",
    "model.add(layers.Dense(11, activation='softmax'))\n",
    "model.compile(optimizer='adam',\n",
    "              loss='binary_crossentropy',\n",
    "              metrics=['accuracy'])\n",
    "model.summary()"
   ]
  },
  {
   "cell_type": "code",
   "execution_count": 107,
   "id": "480db16b-71bf-4fa6-88db-1d1f171f64bc",
   "metadata": {},
   "outputs": [
    {
     "name": "stdout",
     "output_type": "stream",
     "text": [
      "Epoch 1/15\n",
      "1852/1852 [==============================] - 29s 15ms/step - loss: 0.4845 - accuracy: 0.5615 - val_loss: 0.1340 - val_accuracy: 0.6729\n",
      "Epoch 2/15\n",
      "1852/1852 [==============================] - 28s 15ms/step - loss: 0.1262 - accuracy: 0.7066 - val_loss: 0.1198 - val_accuracy: 0.7265\n",
      "Epoch 3/15\n",
      "1852/1852 [==============================] - 28s 15ms/step - loss: 0.1068 - accuracy: 0.7577 - val_loss: 0.1161 - val_accuracy: 0.7501\n",
      "Epoch 4/15\n",
      "1852/1852 [==============================] - 28s 15ms/step - loss: 0.0940 - accuracy: 0.7953 - val_loss: 0.1147 - val_accuracy: 0.7585\n",
      "Epoch 5/15\n",
      "1852/1852 [==============================] - 28s 15ms/step - loss: 0.0847 - accuracy: 0.8190 - val_loss: 0.1191 - val_accuracy: 0.7712\n",
      "Epoch 6/15\n",
      "1852/1852 [==============================] - 28s 15ms/step - loss: 0.0780 - accuracy: 0.8355 - val_loss: 0.1244 - val_accuracy: 0.7758\n",
      "Epoch 7/15\n",
      "1852/1852 [==============================] - 28s 15ms/step - loss: 0.0709 - accuracy: 0.8526 - val_loss: 0.1241 - val_accuracy: 0.7697\n",
      "Epoch 8/15\n",
      "1852/1852 [==============================] - 28s 15ms/step - loss: 0.0674 - accuracy: 0.8594 - val_loss: 0.1370 - val_accuracy: 0.7745\n",
      "Epoch 9/15\n",
      "1852/1852 [==============================] - 28s 15ms/step - loss: 0.0638 - accuracy: 0.8693 - val_loss: 0.1343 - val_accuracy: 0.7747\n",
      "Epoch 10/15\n",
      "1852/1852 [==============================] - 30s 16ms/step - loss: 0.0593 - accuracy: 0.8775 - val_loss: 0.1475 - val_accuracy: 0.7758\n",
      "Epoch 11/15\n",
      "1852/1852 [==============================] - 29s 16ms/step - loss: 0.0575 - accuracy: 0.8812 - val_loss: 0.1420 - val_accuracy: 0.7766\n",
      "Epoch 12/15\n",
      "1852/1852 [==============================] - 29s 15ms/step - loss: 0.0539 - accuracy: 0.8893 - val_loss: 0.1565 - val_accuracy: 0.7695\n",
      "Epoch 13/15\n",
      "1852/1852 [==============================] - 29s 15ms/step - loss: 0.0513 - accuracy: 0.8976 - val_loss: 0.1450 - val_accuracy: 0.7725\n",
      "Epoch 14/15\n",
      "1852/1852 [==============================] - 29s 16ms/step - loss: 0.0481 - accuracy: 0.9003 - val_loss: 0.1627 - val_accuracy: 0.7758\n",
      "Epoch 15/15\n",
      "1852/1852 [==============================] - 28s 15ms/step - loss: 0.0464 - accuracy: 0.9016 - val_loss: 0.3211 - val_accuracy: 0.7766\n"
     ]
    }
   ],
   "source": [
    "# Multi\n",
    "history = model.fit(X_train, y_train,\n",
    "                    epochs=15,\n",
    "                    verbose=1,\n",
    "                    validation_data=(X_test, y_test),\n",
    "                    batch_size=10,)\n",
    "loss, accuracy = model.evaluate(X_train, y_train, verbose=False)\n",
    "#"
   ]
  },
  {
   "cell_type": "code",
   "execution_count": null,
   "id": "4612ef20-ec06-4fc6-bf39-65e6c70f7b7c",
   "metadata": {
    "tags": []
   },
   "outputs": [],
   "source": [
    "# Binary, \n",
    "\n",
    "# history = model.fit(X_train, y_train,\n",
    "#                     epochs=10,\n",
    "#                     verbose=1,\n",
    "#                     validation_data=(X_test, y_test),\n",
    "#                     batch_size=10,class_weight={0:0.6,1:2.5})\n",
    "# loss, accuracy = model.evaluate(X_train, y_train, verbose=False)\n",
    "# print(\"Training Accuracy: {:.4f}\".format(accuracy))\n",
    "# loss, accuracy = model.evaluate(X_test, y_test, verbose=False)\n",
    "# print(\"Testing Accuracy:  {:.4f}\".format(accuracy))\n",
    "# plot_history(history)"
   ]
  },
  {
   "cell_type": "code",
   "execution_count": 89,
   "id": "64abba23-6ead-495f-99dd-f9152daa62e9",
   "metadata": {},
   "outputs": [
    {
     "name": "stdout",
     "output_type": "stream",
     "text": [
      "145/145 [==============================] - 0s 1ms/step\n"
     ]
    }
   ],
   "source": [
    "#predictions = model.predict(X_test.tolist())"
   ]
  },
  {
   "cell_type": "code",
   "execution_count": 108,
   "id": "abf63d83-a506-46d6-afc1-ca6c08a3aa14",
   "metadata": {},
   "outputs": [
    {
     "name": "stdout",
     "output_type": "stream",
     "text": [
      "145/145 [==============================] - 1s 6ms/step\n"
     ]
    }
   ],
   "source": [
    "pred = model.predict(X_test)"
   ]
  },
  {
   "cell_type": "code",
   "execution_count": 109,
   "id": "d21fd7ad-9279-49d8-a4d3-19eae645357b",
   "metadata": {},
   "outputs": [
    {
     "data": {
      "text/html": [
       "<div>\n",
       "<style scoped>\n",
       "    .dataframe tbody tr th:only-of-type {\n",
       "        vertical-align: middle;\n",
       "    }\n",
       "\n",
       "    .dataframe tbody tr th {\n",
       "        vertical-align: top;\n",
       "    }\n",
       "\n",
       "    .dataframe thead th {\n",
       "        text-align: right;\n",
       "    }\n",
       "</style>\n",
       "<table border=\"1\" class=\"dataframe\">\n",
       "  <thead>\n",
       "    <tr style=\"text-align: right;\">\n",
       "      <th></th>\n",
       "      <th>1</th>\n",
       "      <th>10</th>\n",
       "      <th>11</th>\n",
       "      <th>2</th>\n",
       "      <th>3</th>\n",
       "      <th>4</th>\n",
       "      <th>5</th>\n",
       "      <th>6</th>\n",
       "      <th>7</th>\n",
       "      <th>8</th>\n",
       "      <th>9</th>\n",
       "      <th>P</th>\n",
       "    </tr>\n",
       "  </thead>\n",
       "  <tbody>\n",
       "    <tr>\n",
       "      <th>0</th>\n",
       "      <td>0.043097</td>\n",
       "      <td>0.008236</td>\n",
       "      <td>0.666212</td>\n",
       "      <td>7.343922e-04</td>\n",
       "      <td>0.082204</td>\n",
       "      <td>0.123059</td>\n",
       "      <td>2.341915e-03</td>\n",
       "      <td>1.527170e-03</td>\n",
       "      <td>1.161110e-07</td>\n",
       "      <td>0.072565</td>\n",
       "      <td>2.280963e-05</td>\n",
       "      <td>11</td>\n",
       "    </tr>\n",
       "    <tr>\n",
       "      <th>1</th>\n",
       "      <td>0.004550</td>\n",
       "      <td>0.000097</td>\n",
       "      <td>0.000431</td>\n",
       "      <td>8.078399e-07</td>\n",
       "      <td>0.991486</td>\n",
       "      <td>0.003420</td>\n",
       "      <td>3.786215e-07</td>\n",
       "      <td>8.895019e-08</td>\n",
       "      <td>1.040111e-15</td>\n",
       "      <td>0.000015</td>\n",
       "      <td>7.993828e-13</td>\n",
       "      <td>3</td>\n",
       "    </tr>\n",
       "    <tr>\n",
       "      <th>2</th>\n",
       "      <td>0.038707</td>\n",
       "      <td>0.143689</td>\n",
       "      <td>0.600332</td>\n",
       "      <td>5.433036e-04</td>\n",
       "      <td>0.112537</td>\n",
       "      <td>0.069494</td>\n",
       "      <td>2.622039e-03</td>\n",
       "      <td>2.369120e-03</td>\n",
       "      <td>3.223272e-07</td>\n",
       "      <td>0.029673</td>\n",
       "      <td>3.280154e-05</td>\n",
       "      <td>11</td>\n",
       "    </tr>\n",
       "    <tr>\n",
       "      <th>3</th>\n",
       "      <td>0.703995</td>\n",
       "      <td>0.000706</td>\n",
       "      <td>0.014434</td>\n",
       "      <td>4.039581e-02</td>\n",
       "      <td>0.135997</td>\n",
       "      <td>0.072802</td>\n",
       "      <td>1.222487e-03</td>\n",
       "      <td>3.920927e-04</td>\n",
       "      <td>1.237376e-05</td>\n",
       "      <td>0.030017</td>\n",
       "      <td>2.645544e-05</td>\n",
       "      <td>1</td>\n",
       "    </tr>\n",
       "    <tr>\n",
       "      <th>4</th>\n",
       "      <td>0.000115</td>\n",
       "      <td>0.998995</td>\n",
       "      <td>0.000519</td>\n",
       "      <td>1.361130e-06</td>\n",
       "      <td>0.000252</td>\n",
       "      <td>0.000103</td>\n",
       "      <td>5.077200e-06</td>\n",
       "      <td>4.950882e-06</td>\n",
       "      <td>2.298602e-12</td>\n",
       "      <td>0.000006</td>\n",
       "      <td>1.065086e-09</td>\n",
       "      <td>10</td>\n",
       "    </tr>\n",
       "  </tbody>\n",
       "</table>\n",
       "</div>"
      ],
      "text/plain": [
       "          1        10        11             2         3         4  \\\n",
       "0  0.043097  0.008236  0.666212  7.343922e-04  0.082204  0.123059   \n",
       "1  0.004550  0.000097  0.000431  8.078399e-07  0.991486  0.003420   \n",
       "2  0.038707  0.143689  0.600332  5.433036e-04  0.112537  0.069494   \n",
       "3  0.703995  0.000706  0.014434  4.039581e-02  0.135997  0.072802   \n",
       "4  0.000115  0.998995  0.000519  1.361130e-06  0.000252  0.000103   \n",
       "\n",
       "              5             6             7         8             9   P  \n",
       "0  2.341915e-03  1.527170e-03  1.161110e-07  0.072565  2.280963e-05  11  \n",
       "1  3.786215e-07  8.895019e-08  1.040111e-15  0.000015  7.993828e-13   3  \n",
       "2  2.622039e-03  2.369120e-03  3.223272e-07  0.029673  3.280154e-05  11  \n",
       "3  1.222487e-03  3.920927e-04  1.237376e-05  0.030017  2.645544e-05   1  \n",
       "4  5.077200e-06  4.950882e-06  2.298602e-12  0.000006  1.065086e-09  10  "
      ]
     },
     "execution_count": 109,
     "metadata": {},
     "output_type": "execute_result"
    }
   ],
   "source": [
    "predi = pd.DataFrame(pred)\n",
    "predi.columns = plt_col_names\n",
    "predi['P'] = predi.idxmax(axis=1)\n",
    "predi.head()"
   ]
  },
  {
   "cell_type": "code",
   "execution_count": 110,
   "id": "16177230-facc-409c-b287-c0a31c2a81fc",
   "metadata": {},
   "outputs": [],
   "source": [
    "y_test_t = y_test.idxmax(axis=1)"
   ]
  },
  {
   "cell_type": "code",
   "execution_count": 111,
   "id": "c5cb3f65-1e99-49d7-9ff5-68616a4fdb3f",
   "metadata": {},
   "outputs": [
    {
     "name": "stdout",
     "output_type": "stream",
     "text": [
      "              precision    recall  f1-score   support\n",
      "\n",
      "           1       0.89      0.88      0.88      2253\n",
      "          10       0.74      0.70      0.72       148\n",
      "          11       0.51      0.63      0.56       316\n",
      "           2       0.66      0.74      0.70       151\n",
      "           3       0.43      0.34      0.38       194\n",
      "           4       0.76      0.73      0.74       613\n",
      "           5       0.55      0.63      0.59       166\n",
      "           6       0.82      0.80      0.81       193\n",
      "           7       0.00      0.00      0.00         2\n",
      "           8       0.74      0.72      0.73       589\n",
      "           9       0.00      0.00      0.00         4\n",
      "\n",
      "    accuracy                           0.78      4629\n",
      "   macro avg       0.55      0.56      0.56      4629\n",
      "weighted avg       0.78      0.78      0.78      4629\n",
      "\n",
      "[[1987    5   57   33   34   41   30   14    0   52    0]\n",
      " [   6  103   12    2    5    5    9    2    0    4    0]\n",
      " [  44    5  198    3   10   22    9    0    0   25    0]\n",
      " [  28    0    2  111    1    1    4    1    0    3    0]\n",
      " [  47   11   23    3   65   26    4    0    0   15    0]\n",
      " [  42    7   40    3   26  446   11    3    0   35    0]\n",
      " [  21    0    8    4    3   16  104    7    0    3    0]\n",
      " [   9    2    3    2    1    2    5  154    0   15    0]\n",
      " [   1    0    0    1    0    0    0    0    0    0    0]\n",
      " [  53    6   47    5    7   29   11    4    0  427    0]\n",
      " [   0    0    0    0    0    0    1    3    0    0    0]]\n"
     ]
    },
    {
     "name": "stderr",
     "output_type": "stream",
     "text": [
      "C:\\Users\\murat\\anaconda3\\lib\\site-packages\\sklearn\\metrics\\_classification.py:1248: UndefinedMetricWarning: Precision and F-score are ill-defined and being set to 0.0 in labels with no predicted samples. Use `zero_division` parameter to control this behavior.\n",
      "  _warn_prf(average, modifier, msg_start, len(result))\n",
      "C:\\Users\\murat\\anaconda3\\lib\\site-packages\\sklearn\\metrics\\_classification.py:1248: UndefinedMetricWarning: Precision and F-score are ill-defined and being set to 0.0 in labels with no predicted samples. Use `zero_division` parameter to control this behavior.\n",
      "  _warn_prf(average, modifier, msg_start, len(result))\n",
      "C:\\Users\\murat\\anaconda3\\lib\\site-packages\\sklearn\\metrics\\_classification.py:1248: UndefinedMetricWarning: Precision and F-score are ill-defined and being set to 0.0 in labels with no predicted samples. Use `zero_division` parameter to control this behavior.\n",
      "  _warn_prf(average, modifier, msg_start, len(result))\n"
     ]
    }
   ],
   "source": [
    "print(classification_report(y_test_t,predi['P']))\n",
    "print(confusion_matrix(y_test_t,predi['P']))"
   ]
  },
  {
   "cell_type": "markdown",
   "id": "965e9364-9b33-49f9-a62b-5acc39c675ea",
   "metadata": {},
   "source": [
    "### Validation Data"
   ]
  },
  {
   "cell_type": "code",
   "execution_count": 156,
   "id": "9fc6978e-13bb-4691-9553-8beb25246911",
   "metadata": {},
   "outputs": [],
   "source": [
    "df_val = pd.read_csv('valid_set.csv.gz',compression=\"gzip\", sep=\";\")"
   ]
  },
  {
   "cell_type": "code",
   "execution_count": 157,
   "id": "6aada934-a06b-4ef2-8dbc-fd2843c12c22",
   "metadata": {},
   "outputs": [],
   "source": [
    "def clean_text (df):\n",
    "    df.dropna(inplace=True)\n",
    "    df['Avis.Pharmaceutique'] = df['Avis.Pharmaceutique'].apply(lambda x : unidecode.unidecode(x)) # Remove é etc and ponctuation\n",
    "    df['Avis.Pharmaceutique'] = df['Avis.Pharmaceutique'].apply(lambda x : preprocess_text(x))\n",
    "    df['Avis.Pharmaceutique'] = df['Avis.Pharmaceutique'].str.lower()\n",
    "    df['Avis.Pharmaceutique'] = df['Avis.Pharmaceutique'].apply(lambda x: ' '.join([word for word in x.split() if word not in (stop_word)]))\n",
    "    return df"
   ]
  },
  {
   "cell_type": "code",
   "execution_count": 158,
   "id": "1d32feae-2ef6-468d-9831-9c9b3ac3418f",
   "metadata": {},
   "outputs": [],
   "source": [
    "df_v = clean_text(df_val)"
   ]
  },
  {
   "cell_type": "code",
   "execution_count": 159,
   "id": "3da645e6-dda3-4498-b57b-cd7b12fcab3e",
   "metadata": {},
   "outputs": [],
   "source": [
    "df_v = df_v['Avis.Pharmaceutique']"
   ]
  },
  {
   "cell_type": "code",
   "execution_count": 160,
   "id": "55b2e5f0-9dfc-4e97-9a53-245b9954fc02",
   "metadata": {},
   "outputs": [],
   "source": [
    "X_v = tokenizer.texts_to_sequences(df_v)\n",
    "X_v = pad_sequences(X_v, padding='post', maxlen=maxlen)"
   ]
  },
  {
   "cell_type": "code",
   "execution_count": 161,
   "id": "c5e4e6d9-09a3-4073-ad91-5f934cf04f42",
   "metadata": {},
   "outputs": [
    {
     "data": {
      "text/plain": [
       "array([[ 57, 210, 757, ...,   0,   0,   0],\n",
       "       [  4,  65,  84, ...,   0,   0,   0],\n",
       "       [  8,   5,   4, ...,   0,   0,   0],\n",
       "       ...,\n",
       "       [  6, 390, 201, ...,   0,   0,   0],\n",
       "       [ 27, 243,   6, ...,   0,   0,   0],\n",
       "       [ 62,   1, 124, ...,   0,   0,   0]])"
      ]
     },
     "execution_count": 161,
     "metadata": {},
     "output_type": "execute_result"
    }
   ],
   "source": [
    "X_v"
   ]
  },
  {
   "cell_type": "code",
   "execution_count": 162,
   "id": "737b1e8a-5073-4a4b-b3da-60b5a1cd8c7e",
   "metadata": {},
   "outputs": [
    {
     "name": "stdout",
     "output_type": "stream",
     "text": [
      "128/128 [==============================] - 1s 6ms/step\n"
     ]
    }
   ],
   "source": [
    "pred_v = model.predict(X_v)"
   ]
  },
  {
   "cell_type": "code",
   "execution_count": 163,
   "id": "dc56774d-bf9c-42bd-8138-9026b009bcde",
   "metadata": {},
   "outputs": [
    {
     "data": {
      "text/html": [
       "<div>\n",
       "<style scoped>\n",
       "    .dataframe tbody tr th:only-of-type {\n",
       "        vertical-align: middle;\n",
       "    }\n",
       "\n",
       "    .dataframe tbody tr th {\n",
       "        vertical-align: top;\n",
       "    }\n",
       "\n",
       "    .dataframe thead th {\n",
       "        text-align: right;\n",
       "    }\n",
       "</style>\n",
       "<table border=\"1\" class=\"dataframe\">\n",
       "  <thead>\n",
       "    <tr style=\"text-align: right;\">\n",
       "      <th></th>\n",
       "      <th>1</th>\n",
       "      <th>10</th>\n",
       "      <th>11</th>\n",
       "      <th>2</th>\n",
       "      <th>3</th>\n",
       "      <th>4</th>\n",
       "      <th>5</th>\n",
       "      <th>6</th>\n",
       "      <th>7</th>\n",
       "      <th>8</th>\n",
       "      <th>9</th>\n",
       "      <th>Predictions</th>\n",
       "    </tr>\n",
       "  </thead>\n",
       "  <tbody>\n",
       "    <tr>\n",
       "      <th>0</th>\n",
       "      <td>1.752227e-13</td>\n",
       "      <td>2.039549e-18</td>\n",
       "      <td>1.644568e-24</td>\n",
       "      <td>7.713969e-24</td>\n",
       "      <td>6.003013e-33</td>\n",
       "      <td>6.062264e-20</td>\n",
       "      <td>1.947168e-19</td>\n",
       "      <td>1.000000e+00</td>\n",
       "      <td>4.940790e-25</td>\n",
       "      <td>1.576730e-14</td>\n",
       "      <td>1.779579e-25</td>\n",
       "      <td>6</td>\n",
       "    </tr>\n",
       "    <tr>\n",
       "      <th>1</th>\n",
       "      <td>2.861907e-02</td>\n",
       "      <td>9.647001e-04</td>\n",
       "      <td>1.825855e-03</td>\n",
       "      <td>9.605933e-01</td>\n",
       "      <td>3.726687e-04</td>\n",
       "      <td>4.315861e-03</td>\n",
       "      <td>1.344373e-03</td>\n",
       "      <td>2.513776e-04</td>\n",
       "      <td>1.628812e-04</td>\n",
       "      <td>8.510332e-04</td>\n",
       "      <td>6.987815e-04</td>\n",
       "      <td>2</td>\n",
       "    </tr>\n",
       "    <tr>\n",
       "      <th>2</th>\n",
       "      <td>1.000000e+00</td>\n",
       "      <td>2.887128e-20</td>\n",
       "      <td>1.793845e-16</td>\n",
       "      <td>3.558812e-14</td>\n",
       "      <td>2.419227e-14</td>\n",
       "      <td>4.629391e-14</td>\n",
       "      <td>5.367340e-22</td>\n",
       "      <td>3.095553e-23</td>\n",
       "      <td>3.718449e-34</td>\n",
       "      <td>3.126978e-13</td>\n",
       "      <td>0.000000e+00</td>\n",
       "      <td>1</td>\n",
       "    </tr>\n",
       "    <tr>\n",
       "      <th>3</th>\n",
       "      <td>3.187413e-16</td>\n",
       "      <td>3.828002e-21</td>\n",
       "      <td>7.073447e-16</td>\n",
       "      <td>1.892341e-20</td>\n",
       "      <td>5.567656e-19</td>\n",
       "      <td>1.000000e+00</td>\n",
       "      <td>2.492634e-14</td>\n",
       "      <td>6.318689e-26</td>\n",
       "      <td>0.000000e+00</td>\n",
       "      <td>5.713979e-16</td>\n",
       "      <td>0.000000e+00</td>\n",
       "      <td>4</td>\n",
       "    </tr>\n",
       "    <tr>\n",
       "      <th>4</th>\n",
       "      <td>1.000000e+00</td>\n",
       "      <td>4.218015e-24</td>\n",
       "      <td>7.324268e-20</td>\n",
       "      <td>9.778635e-17</td>\n",
       "      <td>4.427495e-17</td>\n",
       "      <td>3.886053e-17</td>\n",
       "      <td>6.852697e-27</td>\n",
       "      <td>2.607744e-28</td>\n",
       "      <td>0.000000e+00</td>\n",
       "      <td>1.797661e-16</td>\n",
       "      <td>0.000000e+00</td>\n",
       "      <td>1</td>\n",
       "    </tr>\n",
       "  </tbody>\n",
       "</table>\n",
       "</div>"
      ],
      "text/plain": [
       "              1            10            11             2             3  \\\n",
       "0  1.752227e-13  2.039549e-18  1.644568e-24  7.713969e-24  6.003013e-33   \n",
       "1  2.861907e-02  9.647001e-04  1.825855e-03  9.605933e-01  3.726687e-04   \n",
       "2  1.000000e+00  2.887128e-20  1.793845e-16  3.558812e-14  2.419227e-14   \n",
       "3  3.187413e-16  3.828002e-21  7.073447e-16  1.892341e-20  5.567656e-19   \n",
       "4  1.000000e+00  4.218015e-24  7.324268e-20  9.778635e-17  4.427495e-17   \n",
       "\n",
       "              4             5             6             7             8  \\\n",
       "0  6.062264e-20  1.947168e-19  1.000000e+00  4.940790e-25  1.576730e-14   \n",
       "1  4.315861e-03  1.344373e-03  2.513776e-04  1.628812e-04  8.510332e-04   \n",
       "2  4.629391e-14  5.367340e-22  3.095553e-23  3.718449e-34  3.126978e-13   \n",
       "3  1.000000e+00  2.492634e-14  6.318689e-26  0.000000e+00  5.713979e-16   \n",
       "4  3.886053e-17  6.852697e-27  2.607744e-28  0.000000e+00  1.797661e-16   \n",
       "\n",
       "              9 Predictions  \n",
       "0  1.779579e-25           6  \n",
       "1  6.987815e-04           2  \n",
       "2  0.000000e+00           1  \n",
       "3  0.000000e+00           4  \n",
       "4  0.000000e+00           1  "
      ]
     },
     "execution_count": 163,
     "metadata": {},
     "output_type": "execute_result"
    }
   ],
   "source": [
    "predi = pd.DataFrame(pred_v)\n",
    "predi.columns = plt_col_names\n",
    "predi['Predictions'] = predi.idxmax(axis=1)\n",
    "predi.head()"
   ]
  },
  {
   "cell_type": "code",
   "execution_count": null,
   "id": "222468d4-780f-4c02-904a-40d4aa9681d9",
   "metadata": {},
   "outputs": [
    {
     "data": {
      "text/plain": [
       "Index(['1', '10', '11', '2', '3', '4', '5', '6', '7', '8', '9', 'Predictions'], dtype='object')"
      ]
     },
     "execution_count": 164,
     "metadata": {},
     "output_type": "execute_result"
    }
   ],
   "source": [
    "predi.columns"
   ]
  },
  {
   "cell_type": "code",
   "execution_count": 165,
   "id": "1a6e97a2-80b6-408e-bd16-86f2a47d39aa",
   "metadata": {},
   "outputs": [],
   "source": [
    "predi = predi.drop(['1', '10', '11', '2', '3', '4', '5', '6', '7', '8', '9'],axis=1)"
   ]
  },
  {
   "cell_type": "code",
   "execution_count": 169,
   "id": "c3b9b3b4-3f1e-43be-b7e5-cb8a1a9698b8",
   "metadata": {},
   "outputs": [
    {
     "data": {
      "text/plain": [
       "Predictions\n",
       "1              1977\n",
       "4               549\n",
       "8               500\n",
       "11              326\n",
       "6               166\n",
       "5               151\n",
       "2               141\n",
       "3               138\n",
       "10              124\n",
       "9                 2\n",
       "dtype: int64"
      ]
     },
     "execution_count": 169,
     "metadata": {},
     "output_type": "execute_result"
    }
   ],
   "source": [
    "predi.value_counts()"
   ]
  },
  {
   "cell_type": "code",
   "execution_count": 171,
   "id": "dc6bb399-1e4b-4168-884c-01d4e0d38a97",
   "metadata": {},
   "outputs": [],
   "source": [
    "predi.to_csv('Validation_prediction_Multi_labels')"
   ]
  },
  {
   "cell_type": "code",
   "execution_count": 172,
   "id": "8233986c-160b-4aea-8f0a-02e365e4f333",
   "metadata": {},
   "outputs": [
    {
     "data": {
      "text/html": [
       "<div>\n",
       "<style scoped>\n",
       "    .dataframe tbody tr th:only-of-type {\n",
       "        vertical-align: middle;\n",
       "    }\n",
       "\n",
       "    .dataframe tbody tr th {\n",
       "        vertical-align: top;\n",
       "    }\n",
       "\n",
       "    .dataframe thead th {\n",
       "        text-align: right;\n",
       "    }\n",
       "</style>\n",
       "<table border=\"1\" class=\"dataframe\">\n",
       "  <thead>\n",
       "    <tr style=\"text-align: right;\">\n",
       "      <th></th>\n",
       "      <th>Unnamed: 0</th>\n",
       "      <th>Predictions</th>\n",
       "    </tr>\n",
       "  </thead>\n",
       "  <tbody>\n",
       "    <tr>\n",
       "      <th>0</th>\n",
       "      <td>0</td>\n",
       "      <td>6</td>\n",
       "    </tr>\n",
       "    <tr>\n",
       "      <th>1</th>\n",
       "      <td>1</td>\n",
       "      <td>2</td>\n",
       "    </tr>\n",
       "    <tr>\n",
       "      <th>2</th>\n",
       "      <td>2</td>\n",
       "      <td>1</td>\n",
       "    </tr>\n",
       "    <tr>\n",
       "      <th>3</th>\n",
       "      <td>3</td>\n",
       "      <td>4</td>\n",
       "    </tr>\n",
       "    <tr>\n",
       "      <th>4</th>\n",
       "      <td>4</td>\n",
       "      <td>1</td>\n",
       "    </tr>\n",
       "    <tr>\n",
       "      <th>...</th>\n",
       "      <td>...</td>\n",
       "      <td>...</td>\n",
       "    </tr>\n",
       "    <tr>\n",
       "      <th>4069</th>\n",
       "      <td>4069</td>\n",
       "      <td>1</td>\n",
       "    </tr>\n",
       "    <tr>\n",
       "      <th>4070</th>\n",
       "      <td>4070</td>\n",
       "      <td>1</td>\n",
       "    </tr>\n",
       "    <tr>\n",
       "      <th>4071</th>\n",
       "      <td>4071</td>\n",
       "      <td>2</td>\n",
       "    </tr>\n",
       "    <tr>\n",
       "      <th>4072</th>\n",
       "      <td>4072</td>\n",
       "      <td>1</td>\n",
       "    </tr>\n",
       "    <tr>\n",
       "      <th>4073</th>\n",
       "      <td>4073</td>\n",
       "      <td>1</td>\n",
       "    </tr>\n",
       "  </tbody>\n",
       "</table>\n",
       "<p>4074 rows × 2 columns</p>\n",
       "</div>"
      ],
      "text/plain": [
       "      Unnamed: 0  Predictions\n",
       "0              0            6\n",
       "1              1            2\n",
       "2              2            1\n",
       "3              3            4\n",
       "4              4            1\n",
       "...          ...          ...\n",
       "4069        4069            1\n",
       "4070        4070            1\n",
       "4071        4071            2\n",
       "4072        4072            1\n",
       "4073        4073            1\n",
       "\n",
       "[4074 rows x 2 columns]"
      ]
     },
     "execution_count": 172,
     "metadata": {},
     "output_type": "execute_result"
    }
   ],
   "source": [
    "pd.read_csv(\"Validation_prediction_Multi_labels\")"
   ]
  },
  {
   "cell_type": "markdown",
   "id": "9220d5b1-b7c2-4d2e-9992-6e40e2b1162d",
   "metadata": {},
   "source": [
    "#### Test "
   ]
  },
  {
   "cell_type": "code",
   "execution_count": 176,
   "id": "8658bfa1-5588-4c39-8c6a-b6c6aea839d4",
   "metadata": {},
   "outputs": [
    {
     "ename": "ValueError",
     "evalue": "The truth value of an array with more than one element is ambiguous. Use a.any() or a.all()",
     "output_type": "error",
     "traceback": [
      "\u001b[1;31m---------------------------------------------------------------------------\u001b[0m",
      "\u001b[1;31mValueError\u001b[0m                                Traceback (most recent call last)",
      "\u001b[1;32m~\\AppData\\Local\\Temp/ipykernel_13820/2569954079.py\u001b[0m in \u001b[0;36m<module>\u001b[1;34m\u001b[0m\n\u001b[1;32m----> 1\u001b[1;33m \u001b[0mpred\u001b[0m \u001b[1;33m=\u001b[0m \u001b[1;33m[\u001b[0m\u001b[1;36m1\u001b[0m \u001b[1;32mif\u001b[0m \u001b[0mp\u001b[0m \u001b[1;33m>\u001b[0m \u001b[1;36m0.5\u001b[0m \u001b[1;32melse\u001b[0m \u001b[1;36m0\u001b[0m \u001b[1;32mfor\u001b[0m \u001b[0mp\u001b[0m \u001b[1;32min\u001b[0m \u001b[0mpred\u001b[0m \u001b[1;33m]\u001b[0m\u001b[1;33m\u001b[0m\u001b[1;33m\u001b[0m\u001b[0m\n\u001b[0m",
      "\u001b[1;32m~\\AppData\\Local\\Temp/ipykernel_13820/2569954079.py\u001b[0m in \u001b[0;36m<listcomp>\u001b[1;34m(.0)\u001b[0m\n\u001b[1;32m----> 1\u001b[1;33m \u001b[0mpred\u001b[0m \u001b[1;33m=\u001b[0m \u001b[1;33m[\u001b[0m\u001b[1;36m1\u001b[0m \u001b[1;32mif\u001b[0m \u001b[0mp\u001b[0m \u001b[1;33m>\u001b[0m \u001b[1;36m0.5\u001b[0m \u001b[1;32melse\u001b[0m \u001b[1;36m0\u001b[0m \u001b[1;32mfor\u001b[0m \u001b[0mp\u001b[0m \u001b[1;32min\u001b[0m \u001b[0mpred\u001b[0m \u001b[1;33m]\u001b[0m\u001b[1;33m\u001b[0m\u001b[1;33m\u001b[0m\u001b[0m\n\u001b[0m",
      "\u001b[1;31mValueError\u001b[0m: The truth value of an array with more than one element is ambiguous. Use a.any() or a.all()"
     ]
    }
   ],
   "source": [
    "# pred = [1 if p > 0.5 else 0 for p in pred ]"
   ]
  },
  {
   "cell_type": "code",
   "execution_count": 92,
   "id": "644ca1a4-529f-4884-9a56-f40e007874d9",
   "metadata": {
    "tags": []
   },
   "outputs": [
    {
     "name": "stdout",
     "output_type": "stream",
     "text": [
      "              precision    recall  f1-score   support\n",
      "\n",
      "           0       0.95      0.89      0.92      3723\n",
      "           1       0.65      0.81      0.72       906\n",
      "\n",
      "    accuracy                           0.88      4629\n",
      "   macro avg       0.80      0.85      0.82      4629\n",
      "weighted avg       0.89      0.88      0.88      4629\n",
      "\n",
      "[[3330  393]\n",
      " [ 174  732]]\n"
     ]
    }
   ],
   "source": [
    "# print(classification_report(y_test,pred))\n",
    "# print(confusion_matrix(y_test,pred))"
   ]
  },
  {
   "cell_type": "code",
   "execution_count": null,
   "id": "af43cd80-6aaa-4f78-941a-30934bff5cd7",
   "metadata": {},
   "outputs": [],
   "source": []
  },
  {
   "cell_type": "markdown",
   "id": "58e63797-28e3-47e6-92c0-8d701537cc51",
   "metadata": {},
   "source": [
    "### Text processing (test)"
   ]
  },
  {
   "cell_type": "code",
   "execution_count": 81,
   "id": "dddff6aa-3933-4cc0-90b3-5326d45b1c2d",
   "metadata": {},
   "outputs": [],
   "source": [
    "X = df['Avis.Pharmaceutique']\n",
    "y = df['PLT']\n",
    "\n",
    "X_train, X_test, y_train, y_test = train_test_split(X, y, test_size=0.20, random_state=42)"
   ]
  },
  {
   "cell_type": "code",
   "execution_count": 82,
   "id": "ca9608d8-66fe-4d49-89c9-737710454691",
   "metadata": {},
   "outputs": [],
   "source": [
    "corpus = X_train\n",
    "corpus_test = X_test\n",
    "all_words = []\n",
    "for sent in corpus:\n",
    "    tokenize_word = word_tokenize(sent)\n",
    "    for word in tokenize_word:\n",
    "        all_words.append(word)\n",
    "all_words_test = []       \n",
    "for sent in corpus_test:\n",
    "    tokenize_word = word_tokenize(sent)\n",
    "    for word in tokenize_word:\n",
    "        all_words_test.append(word)"
   ]
  },
  {
   "cell_type": "code",
   "execution_count": 83,
   "id": "192ced33-0f08-413d-a17c-260e9d3d9c8a",
   "metadata": {},
   "outputs": [
    {
     "name": "stdout",
     "output_type": "stream",
     "text": [
      "5769\n"
     ]
    }
   ],
   "source": [
    "unique_words = set(all_words)\n",
    "unique_words_t = set(all_words_test)\n",
    "print(len(unique_words))"
   ]
  },
  {
   "cell_type": "code",
   "execution_count": 84,
   "id": "177f04a2-dad0-434a-aaf6-c47c3d8fed7a",
   "metadata": {},
   "outputs": [],
   "source": [
    "vocab_length = len(unique_words)\n",
    "vocab_length_t = len(unique_words_t)\n"
   ]
  },
  {
   "cell_type": "code",
   "execution_count": 113,
   "id": "b079bbdd-d82a-4e96-89c0-a09846ef26f9",
   "metadata": {},
   "outputs": [],
   "source": [
    "embedded_sentences = [one_hot(sent, vocab_length) for sent in corpus]\n",
    "embedded_sentences_t = [one_hot(sent, vocab_length_t) for sent in corpus_test]"
   ]
  },
  {
   "cell_type": "code",
   "execution_count": 114,
   "id": "d11288fb-b8b3-4c38-af75-ca480a297df9",
   "metadata": {},
   "outputs": [],
   "source": [
    "word_count = lambda sentence: len(word_tokenize(sentence))\n",
    "longest_sentence = max(corpus, key=word_count)\n",
    "length_long_sentence = len(word_tokenize(longest_sentence))"
   ]
  },
  {
   "cell_type": "code",
   "execution_count": 115,
   "id": "0480ffe5-d44f-4575-8e58-177e382a12a4",
   "metadata": {},
   "outputs": [
    {
     "data": {
      "text/plain": [
       "31"
      ]
     },
     "execution_count": 115,
     "metadata": {},
     "output_type": "execute_result"
    }
   ],
   "source": [
    "len(word_tokenize(longest_sentence))"
   ]
  },
  {
   "cell_type": "code",
   "execution_count": 116,
   "id": "2113665e-a337-48ce-8c3c-9b8e73d7386c",
   "metadata": {},
   "outputs": [
    {
     "name": "stdout",
     "output_type": "stream",
     "text": [
      "[[1958 1026 4821 ...    0    0    0]\n",
      " [ 792 2708 3983 ...    0    0    0]\n",
      " [2230 4869 5531 ...    0    0    0]\n",
      " ...\n",
      " [3966 2953 2551 ...    0    0    0]\n",
      " [5409 5105 4749 ...    0    0    0]\n",
      " [2230 2953 2551 ...    0    0    0]]\n"
     ]
    }
   ],
   "source": [
    "padded_sentences = pad_sequences(embedded_sentences, length_long_sentence, padding='post')\n",
    "padded_sentences_t = pad_sequences(embedded_sentences_t, length_long_sentence, padding='post')\n",
    "print(padded_sentences)"
   ]
  },
  {
   "cell_type": "code",
   "execution_count": 117,
   "id": "2ba66d7f-8f70-4556-9b63-3d8c089dc1d8",
   "metadata": {},
   "outputs": [
    {
     "name": "stdout",
     "output_type": "stream",
     "text": [
      "(18512, 31)\n",
      "(4629, 31)\n"
     ]
    }
   ],
   "source": [
    "print(padded_sentences.shape)\n",
    "print(padded_sentences_t.shape)"
   ]
  },
  {
   "cell_type": "code",
   "execution_count": 118,
   "id": "1bae1f89-4c35-4abd-8cd9-6bc91b37520c",
   "metadata": {},
   "outputs": [],
   "source": [
    "model=Sequential()\n",
    "model.add(Dense(32,activation='relu'))\n",
    "model.add(Dropout(0.2))\n",
    "model.add(Dense(1,activation='softmax'))\n",
    "model.compile(loss='sparse_categorical_crossentropy',optimizer='adam',metrics=['accuracy'])"
   ]
  },
  {
   "cell_type": "code",
   "execution_count": 137,
   "id": "c23bafa2-1b7d-4b06-b642-38de02e17834",
   "metadata": {},
   "outputs": [
    {
     "name": "stdout",
     "output_type": "stream",
     "text": [
      "Model: \"sequential_24\"\n",
      "_________________________________________________________________\n",
      " Layer (type)                Output Shape              Param #   \n",
      "=================================================================\n",
      " embedding_22 (Embedding)    (None, 31, 45)            259605    \n",
      "                                                                 \n",
      " lstm_4 (LSTM)               (None, 31, 128)           89088     \n",
      "                                                                 \n",
      " dropout_9 (Dropout)         (None, 31, 128)           0         \n",
      "                                                                 \n",
      " dense_42 (Dense)            (None, 31, 32)            4128      \n",
      "                                                                 \n",
      " dropout_10 (Dropout)        (None, 31, 32)            0         \n",
      "                                                                 \n",
      " dense_43 (Dense)            (None, 31, 1)             33        \n",
      "                                                                 \n",
      "=================================================================\n",
      "Total params: 352,854\n",
      "Trainable params: 352,854\n",
      "Non-trainable params: 0\n",
      "_________________________________________________________________\n",
      "None\n"
     ]
    }
   ],
   "source": [
    "embedding_vector_features=45\n",
    "model=Sequential()\n",
    "model.add(Embedding(vocab_length,embedding_vector_features,input_length=length_long_sentence))\n",
    "model.add(LSTM(128,input_shape=(padded_sentences.shape),activation='relu',return_sequences=True))\n",
    "model.add(Dropout(0.2))\n",
    "#model.add(LSTM(128,activation='relu'))\n",
    "#model.add(Dropout(0.2))\n",
    "# for units in [128,128,64,32]:\n",
    "\n",
    "# model.add(Dense(units,activation='relu'))\n",
    "\n",
    "# model.add(Dropout(0.2))\n",
    "model.add(Dense(32,activation='relu'))\n",
    "model.add(Dropout(0.2))\n",
    "model.add(Dense(1,activation='softmax'))\n",
    "model.compile(loss='sparse_categorical_crossentropy',optimizer='adam',metrics=['accuracy'])\n",
    "\n",
    "print(model.summary())"
   ]
  },
  {
   "cell_type": "code",
   "execution_count": 248,
   "id": "214ce619-d721-48db-b84e-8709ab373618",
   "metadata": {},
   "outputs": [],
   "source": [
    "model = Sequential()\n",
    "model.add(Embedding(vocab_length, 20, input_length=length_long_sentence))\n",
    "model.add(Flatten())\n",
    "#model.add(Dense(120, activation='relu'))\n",
    "#model.add(Dropout(0.2))\n",
    "#model.add(Dense(units=60,activation='relu'))\n",
    "#model.add(Dropout(0.5))\n",
    "#model.add(Dense(units=15,activation='relu'))\n",
    "#model.add(Dropout(0.5))\n",
    "model.add(Dense(1, activation='sigmoid'))"
   ]
  },
  {
   "cell_type": "code",
   "execution_count": 135,
   "id": "b47c9298-63ec-4e2a-b736-fd9f00a0f645",
   "metadata": {},
   "outputs": [
    {
     "name": "stdout",
     "output_type": "stream",
     "text": [
      "Model: \"sequential_23\"\n",
      "_________________________________________________________________\n",
      " Layer (type)                Output Shape              Param #   \n",
      "=================================================================\n",
      " embedding_21 (Embedding)    (None, 31, 50)            288450    \n",
      "                                                                 \n",
      " lstm_3 (LSTM)               (None, 31, 128)           91648     \n",
      "                                                                 \n",
      " dropout_7 (Dropout)         (None, 31, 128)           0         \n",
      "                                                                 \n",
      " flatten_20 (Flatten)        (None, 3968)              0         \n",
      "                                                                 \n",
      " dense_40 (Dense)            (None, 20)                79380     \n",
      "                                                                 \n",
      " dropout_8 (Dropout)         (None, 20)                0         \n",
      "                                                                 \n",
      " dense_41 (Dense)            (None, 10)                210       \n",
      "                                                                 \n",
      "=================================================================\n",
      "Total params: 459,688\n",
      "Trainable params: 459,688\n",
      "Non-trainable params: 0\n",
      "_________________________________________________________________\n"
     ]
    }
   ],
   "source": [
    "from keras.models import Sequential\n",
    "from keras import layers\n",
    "\n",
    "embedding_dim = 50\n",
    "\n",
    "model = Sequential()\n",
    "model.add(layers.Embedding(input_dim=vocab_length, \n",
    "                           output_dim=embedding_dim, \n",
    "                           input_length=length_long_sentence))\n",
    "model.add(LSTM(128,input_shape=(padded_sentences.shape),activation='relu',return_sequences=True))\n",
    "model.add(Dropout(0.2))\n",
    "model.add(layers.Flatten())\n",
    "model.add(layers.Dense(20, activation='relu'))\n",
    "model.add(Dropout(0.2))\n",
    "model.add(layers.Dense(10, activation='softmax'))\n",
    "model.compile(optimizer='adam',\n",
    "              loss='binary_crossentropy',\n",
    "              metrics=['accuracy'])\n",
    "model.summary()"
   ]
  },
  {
   "cell_type": "code",
   "execution_count": 62,
   "id": "80a3f34b-d395-4f6e-a657-d8f27edcf2d2",
   "metadata": {},
   "outputs": [
    {
     "name": "stdout",
     "output_type": "stream",
     "text": [
      "Model: \"sequential_7\"\n",
      "_________________________________________________________________\n",
      " Layer (type)                Output Shape              Param #   \n",
      "=================================================================\n",
      " embedding_5 (Embedding)     (None, 31, 50)            288450    \n",
      "                                                                 \n",
      " lstm_1 (LSTM)               (None, 31, 128)           91648     \n",
      "                                                                 \n",
      " dropout_3 (Dropout)         (None, 31, 128)           0         \n",
      "                                                                 \n",
      " flatten_4 (Flatten)         (None, 3968)              0         \n",
      "                                                                 \n",
      " dense_8 (Dense)             (None, 10)                39690     \n",
      "                                                                 \n",
      " dropout_4 (Dropout)         (None, 10)                0         \n",
      "                                                                 \n",
      " dense_9 (Dense)             (None, 1)                 11        \n",
      "                                                                 \n",
      "=================================================================\n",
      "Total params: 419,799\n",
      "Trainable params: 419,799\n",
      "Non-trainable params: 0\n",
      "_________________________________________________________________\n",
      "None\n"
     ]
    }
   ],
   "source": [
    "model.compile(optimizer='adam', loss='binary_crossentropy', metrics=['accuracy'])\n",
    "print(model.summary())\n",
    "#model.compile(loss='binary_crossentropy',optimizer='adam')"
   ]
  },
  {
   "cell_type": "code",
   "execution_count": 63,
   "id": "911085d3-ce59-4437-a2a8-9647eb6071b4",
   "metadata": {},
   "outputs": [
    {
     "name": "stdout",
     "output_type": "stream",
     "text": [
      "Epoch 1/20\n",
      "579/579 [==============================] - 12s 18ms/step - loss: 1.0500 - accuracy: 0.8663\n",
      "Epoch 2/20\n",
      "579/579 [==============================] - 11s 18ms/step - loss: 0.2136 - accuracy: 0.9129\n",
      "Epoch 3/20\n",
      "579/579 [==============================] - 11s 19ms/step - loss: 0.8119 - accuracy: 0.9187\n",
      "Epoch 4/20\n",
      "579/579 [==============================] - 11s 19ms/step - loss: 0.1850 - accuracy: 0.9283\n",
      "Epoch 5/20\n",
      "579/579 [==============================] - 11s 19ms/step - loss: 0.1598 - accuracy: 0.9404\n",
      "Epoch 6/20\n",
      "579/579 [==============================] - 11s 19ms/step - loss: 0.1474 - accuracy: 0.9472\n",
      "Epoch 7/20\n",
      "579/579 [==============================] - 11s 19ms/step - loss: 0.1376 - accuracy: 0.9485\n",
      "Epoch 8/20\n",
      "579/579 [==============================] - 11s 19ms/step - loss: 0.1274 - accuracy: 0.9505\n",
      "Epoch 9/20\n",
      "579/579 [==============================] - 11s 19ms/step - loss: 0.1222 - accuracy: 0.9529\n",
      "Epoch 10/20\n",
      "579/579 [==============================] - 11s 20ms/step - loss: 0.1151 - accuracy: 0.9562\n",
      "Epoch 11/20\n",
      "579/579 [==============================] - 12s 20ms/step - loss: 0.1092 - accuracy: 0.9590\n",
      "Epoch 12/20\n",
      "579/579 [==============================] - 12s 20ms/step - loss: 0.1045 - accuracy: 0.9598\n",
      "Epoch 13/20\n",
      "579/579 [==============================] - 12s 20ms/step - loss: 0.0992 - accuracy: 0.9613\n",
      "Epoch 14/20\n",
      "579/579 [==============================] - 11s 20ms/step - loss: 0.0945 - accuracy: 0.9633\n",
      "Epoch 15/20\n",
      "579/579 [==============================] - 11s 20ms/step - loss: 0.0888 - accuracy: 0.9653\n",
      "Epoch 16/20\n",
      "579/579 [==============================] - 12s 20ms/step - loss: 0.0879 - accuracy: 0.9657\n",
      "Epoch 17/20\n",
      "579/579 [==============================] - 12s 20ms/step - loss: 0.0821 - accuracy: 0.9667\n",
      "Epoch 18/20\n",
      "579/579 [==============================] - 11s 20ms/step - loss: 0.0783 - accuracy: 0.9673\n",
      "Epoch 19/20\n",
      "579/579 [==============================] - 12s 20ms/step - loss: 0.0751 - accuracy: 0.9676\n",
      "Epoch 20/20\n",
      "579/579 [==============================] - 12s 20ms/step - loss: 0.0731 - accuracy: 0.9710\n"
     ]
    },
    {
     "data": {
      "text/plain": [
       "<keras.callbacks.History at 0x2283ef15b80>"
      ]
     },
     "execution_count": 63,
     "metadata": {},
     "output_type": "execute_result"
    }
   ],
   "source": [
    "model.fit(padded_sentences, y_train, epochs=20,verbose=1)"
   ]
  },
  {
   "cell_type": "code",
   "execution_count": 37,
   "id": "54aa3b20-73e2-4d98-a9cf-ac2baf618720",
   "metadata": {},
   "outputs": [],
   "source": [
    "from sklearn.utils import class_weight"
   ]
  },
  {
   "cell_type": "code",
   "execution_count": 38,
   "id": "a7de58ba-fee4-4d5f-89a6-a3ebd88bbba2",
   "metadata": {
    "collapsed": true,
    "jupyter": {
     "outputs_hidden": true
    },
    "tags": []
   },
   "outputs": [
    {
     "name": "stderr",
     "output_type": "stream",
     "text": [
      "C:\\Users\\murat\\anaconda3\\lib\\site-packages\\sklearn\\utils\\validation.py:70: FutureWarning: Pass classes=[0 1], y=       1  10  11  2  3  4  5  6  7  8  9\n",
      "8530   1   0   0  0  0  0  0  0  0  0  0\n",
      "14784  1   0   0  0  0  0  0  0  0  0  0\n",
      "10216  1   0   0  0  0  0  0  0  0  0  0\n",
      "8573   0   0   0  0  0  1  0  0  0  0  0\n",
      "300    1   0   0  0  0  0  0  0  0  0  0\n",
      "...   ..  ..  .. .. .. .. .. .. .. .. ..\n",
      "12222  1   0   0  0  0  0  0  0  0  0  0\n",
      "21924  0   0   0  0  0  1  0  0  0  0  0\n",
      "5453   1   0   0  0  0  0  0  0  0  0  0\n",
      "881    0   0   0  0  1  0  0  0  0  0  0\n",
      "16090  1   0   0  0  0  0  0  0  0  0  0\n",
      "\n",
      "[18512 rows x 11 columns] as keyword args. From version 1.0 (renaming of 0.25) passing these as positional arguments will result in an error\n",
      "  warnings.warn(f\"Pass {args_msg} as keyword args. From version \"\n"
     ]
    },
    {
     "ename": "ValueError",
     "evalue": "classes should include all valid labels that can be in y",
     "output_type": "error",
     "traceback": [
      "\u001b[1;31m---------------------------------------------------------------------------\u001b[0m",
      "\u001b[1;31mValueError\u001b[0m                                Traceback (most recent call last)",
      "\u001b[1;32m~\\AppData\\Local\\Temp/ipykernel_13820/3805493083.py\u001b[0m in \u001b[0;36m<module>\u001b[1;34m\u001b[0m\n\u001b[1;32m----> 1\u001b[1;33m class_weights = class_weight.compute_class_weight('balanced',\n\u001b[0m\u001b[0;32m      2\u001b[0m                                                  \u001b[0mnp\u001b[0m\u001b[1;33m.\u001b[0m\u001b[0munique\u001b[0m\u001b[1;33m(\u001b[0m\u001b[0my_train\u001b[0m\u001b[1;33m)\u001b[0m\u001b[1;33m,\u001b[0m\u001b[1;33m\u001b[0m\u001b[1;33m\u001b[0m\u001b[0m\n\u001b[0;32m      3\u001b[0m                                                  y_train)\n",
      "\u001b[1;32m~\\anaconda3\\lib\\site-packages\\sklearn\\utils\\validation.py\u001b[0m in \u001b[0;36minner_f\u001b[1;34m(*args, **kwargs)\u001b[0m\n\u001b[0;32m     72\u001b[0m                           \"will result in an error\", FutureWarning)\n\u001b[0;32m     73\u001b[0m             \u001b[0mkwargs\u001b[0m\u001b[1;33m.\u001b[0m\u001b[0mupdate\u001b[0m\u001b[1;33m(\u001b[0m\u001b[0mzip\u001b[0m\u001b[1;33m(\u001b[0m\u001b[0msig\u001b[0m\u001b[1;33m.\u001b[0m\u001b[0mparameters\u001b[0m\u001b[1;33m,\u001b[0m \u001b[0margs\u001b[0m\u001b[1;33m)\u001b[0m\u001b[1;33m)\u001b[0m\u001b[1;33m\u001b[0m\u001b[1;33m\u001b[0m\u001b[0m\n\u001b[1;32m---> 74\u001b[1;33m             \u001b[1;32mreturn\u001b[0m \u001b[0mf\u001b[0m\u001b[1;33m(\u001b[0m\u001b[1;33m**\u001b[0m\u001b[0mkwargs\u001b[0m\u001b[1;33m)\u001b[0m\u001b[1;33m\u001b[0m\u001b[1;33m\u001b[0m\u001b[0m\n\u001b[0m\u001b[0;32m     75\u001b[0m         \u001b[1;32mreturn\u001b[0m \u001b[0minner_f\u001b[0m\u001b[1;33m\u001b[0m\u001b[1;33m\u001b[0m\u001b[0m\n\u001b[0;32m     76\u001b[0m \u001b[1;33m\u001b[0m\u001b[0m\n",
      "\u001b[1;32m~\\anaconda3\\lib\\site-packages\\sklearn\\utils\\class_weight.py\u001b[0m in \u001b[0;36mcompute_class_weight\u001b[1;34m(class_weight, classes, y)\u001b[0m\n\u001b[0;32m     42\u001b[0m \u001b[1;33m\u001b[0m\u001b[0m\n\u001b[0;32m     43\u001b[0m     \u001b[1;32mif\u001b[0m \u001b[0mset\u001b[0m\u001b[1;33m(\u001b[0m\u001b[0my\u001b[0m\u001b[1;33m)\u001b[0m \u001b[1;33m-\u001b[0m \u001b[0mset\u001b[0m\u001b[1;33m(\u001b[0m\u001b[0mclasses\u001b[0m\u001b[1;33m)\u001b[0m\u001b[1;33m:\u001b[0m\u001b[1;33m\u001b[0m\u001b[1;33m\u001b[0m\u001b[0m\n\u001b[1;32m---> 44\u001b[1;33m         raise ValueError(\"classes should include all valid labels that can \"\n\u001b[0m\u001b[0;32m     45\u001b[0m                          \"be in y\")\n\u001b[0;32m     46\u001b[0m     \u001b[1;32mif\u001b[0m \u001b[0mclass_weight\u001b[0m \u001b[1;32mis\u001b[0m \u001b[1;32mNone\u001b[0m \u001b[1;32mor\u001b[0m \u001b[0mlen\u001b[0m\u001b[1;33m(\u001b[0m\u001b[0mclass_weight\u001b[0m\u001b[1;33m)\u001b[0m \u001b[1;33m==\u001b[0m \u001b[1;36m0\u001b[0m\u001b[1;33m:\u001b[0m\u001b[1;33m\u001b[0m\u001b[1;33m\u001b[0m\u001b[0m\n",
      "\u001b[1;31mValueError\u001b[0m: classes should include all valid labels that can be in y"
     ]
    }
   ],
   "source": [
    "class_weights = class_weight.compute_class_weight('balanced',\n",
    "                                                 np.unique(y_train),\n",
    "                                                 y_train)"
   ]
  },
  {
   "cell_type": "code",
   "execution_count": 39,
   "id": "5994f002-7afe-44b2-b782-e5502eb2301e",
   "metadata": {
    "collapsed": true,
    "jupyter": {
     "outputs_hidden": true
    },
    "tags": []
   },
   "outputs": [
    {
     "ename": "NameError",
     "evalue": "name 'class_weights' is not defined",
     "output_type": "error",
     "traceback": [
      "\u001b[1;31m---------------------------------------------------------------------------\u001b[0m",
      "\u001b[1;31mNameError\u001b[0m                                 Traceback (most recent call last)",
      "\u001b[1;32m~\\AppData\\Local\\Temp/ipykernel_13820/1539182981.py\u001b[0m in \u001b[0;36m<module>\u001b[1;34m\u001b[0m\n\u001b[1;32m----> 1\u001b[1;33m \u001b[0mclass_weights\u001b[0m\u001b[1;33m\u001b[0m\u001b[1;33m\u001b[0m\u001b[0m\n\u001b[0m",
      "\u001b[1;31mNameError\u001b[0m: name 'class_weights' is not defined"
     ]
    }
   ],
   "source": [
    "class_weights"
   ]
  },
  {
   "cell_type": "code",
   "execution_count": 67,
   "id": "0e3d221b-4a78-416c-a520-005d66d79705",
   "metadata": {},
   "outputs": [
    {
     "name": "stdout",
     "output_type": "stream",
     "text": [
      "Training Accuracy: 0.9690\n",
      "Testing Accuracy:  0.4025\n"
     ]
    }
   ],
   "source": [
    "history = model.fit(padded_sentences, y_train,\n",
    "                    epochs=12,\n",
    "                    verbose=False,\n",
    "                    validation_data=(padded_sentences_t, y_test),\n",
    "                    batch_size=10,class_weight={0:0.6,1:2.5})\n",
    "loss, accuracy = model.evaluate(padded_sentences, y_train, verbose=False)\n",
    "print(\"Training Accuracy: {:.4f}\".format(accuracy))\n",
    "loss, accuracy = model.evaluate(padded_sentences_t, y_test, verbose=False)\n",
    "print(\"Testing Accuracy:  {:.4f}\".format(accuracy))\n",
    "#plot_history(history)"
   ]
  },
  {
   "cell_type": "code",
   "execution_count": 40,
   "id": "130838e8-c898-46bf-a8d6-7fcc2ea3fe02",
   "metadata": {},
   "outputs": [],
   "source": [
    "import matplotlib.pyplot as plt"
   ]
  },
  {
   "cell_type": "code",
   "execution_count": 41,
   "id": "5ae05476-3cfa-4c72-8ff7-151f2a2349af",
   "metadata": {
    "jupyter": {
     "source_hidden": true
    },
    "tags": []
   },
   "outputs": [],
   "source": [
    "def plot_history(history):\n",
    "    acc = history.history['accuracy']\n",
    "    val_acc = history.history['val_accuracy']\n",
    "    loss = history.history['loss']\n",
    "    val_loss = history.history['val_loss']\n",
    "    x = range(1, len(acc) + 1)\n",
    "\n",
    "    plt.figure(figsize=(12, 5))\n",
    "    plt.subplot(1, 2, 1)\n",
    "    plt.plot(x, acc, 'b', label='Training acc')\n",
    "    plt.plot(x, val_acc, 'r', label='Validation acc')\n",
    "    plt.title('Training and validation accuracy')\n",
    "    plt.legend()\n",
    "    plt.subplot(1, 2, 2)\n",
    "    plt.plot(x, loss, 'b', label='Training loss')\n",
    "    plt.plot(x, val_loss, 'r', label='Validation loss')\n",
    "    plt.title('Training and validation loss')\n",
    "    plt.legend()"
   ]
  },
  {
   "cell_type": "code",
   "execution_count": 70,
   "id": "acb46ecd-6470-4f99-8d05-a2da024675ff",
   "metadata": {
    "collapsed": true,
    "jupyter": {
     "outputs_hidden": true,
     "source_hidden": true
    },
    "tags": []
   },
   "outputs": [
    {
     "data": {
      "image/png": "[encoded data removed]",
      "text/plain": [
       "<Figure size 864x360 with 2 Axes>"
      ]
     },
     "metadata": {
      "needs_background": "light"
     },
     "output_type": "display_data"
    }
   ],
   "source": [
    "plot_history(history)"
   ]
  },
  {
   "cell_type": "code",
   "execution_count": null,
   "id": "e969c2bd-fb4a-40ac-931e-f47645423e0d",
   "metadata": {},
   "outputs": [],
   "source": []
  },
  {
   "cell_type": "code",
   "execution_count": null,
   "id": "bdb82a29-5a18-42bd-8b22-7014155001d1",
   "metadata": {},
   "outputs": [],
   "source": []
  },
  {
   "cell_type": "code",
   "execution_count": null,
   "id": "9f68d6e6-dade-4d72-82d0-97b3d52a4aff",
   "metadata": {},
   "outputs": [],
   "source": []
  },
  {
   "cell_type": "code",
   "execution_count": null,
   "id": "9e270ce9-1636-4872-a73d-a0ac8f70b2c3",
   "metadata": {},
   "outputs": [],
   "source": []
  },
  {
   "cell_type": "code",
   "execution_count": null,
   "id": "5c62a8d9-2435-48ce-9996-ad7d7e7fa61e",
   "metadata": {},
   "outputs": [],
   "source": []
  },
  {
   "cell_type": "markdown",
   "id": "8386fa85-fc0e-4806-8a35-57533e1077a8",
   "metadata": {},
   "source": [
    "#### XLNet"
   ]
  },
  {
   "cell_type": "code",
   "execution_count": 342,
   "id": "b53d99f6-b50d-4ca0-a1cf-fa3f1bc4ff16",
   "metadata": {},
   "outputs": [],
   "source": [
    "#! pip uninstall torch torchvision -y\n",
    "#! pip install torch==1.6.0+cu101 torchvision==0.7.0+cu101 -f https://download.pytorch.org/whl/torch_stable.html\n",
    "#! pip install torch==1.9.0+cu111 torchvision==0.10.0+cu111 torchaudio==0.9.0 -f https://download.pytorch.org/whl/torch_stable.html\n",
    "#! pip install -U transformers\n",
    "#! pip install -U simpletransformers \n",
    "# pip install torch"
   ]
  },
  {
   "cell_type": "code",
   "execution_count": 343,
   "id": "16c357e5-8c9b-4346-a3e7-4912f4153064",
   "metadata": {},
   "outputs": [],
   "source": [
    "#pip install torch==1.11.0+cu113 torchvision==0.12.0+cu113 torchaudio==0.11.0 --extra-index-url https://download.pytorch.org/whl/cu113\n"
   ]
  },
  {
   "cell_type": "code",
   "execution_count": 344,
   "id": "87378418-524d-4e50-b18e-d3af0bcc18a3",
   "metadata": {},
   "outputs": [
    {
     "data": {
      "text/plain": [
       "((18512, 2), (4629, 2))"
      ]
     },
     "execution_count": 344,
     "metadata": {},
     "output_type": "execute_result"
    }
   ],
   "source": [
    "# splitting the data into training and eval dataset\n",
    "X = df['Avis.Pharmaceutique']\n",
    "y = df['PLT']\n",
    "\n",
    "from sklearn.model_selection import train_test_split\n",
    "X_train, X_test, y_train, y_test = train_test_split(X, y, test_size=0.2, random_state=42, stratify=y)\n",
    "\n",
    "train_df = pd.DataFrame(X_train)\n",
    "train_df['PLT'] = y_train\n",
    "\n",
    "eval_df = pd.DataFrame(X_test)\n",
    "eval_df['PLT'] = y_test\n",
    "\n",
    "train_df.shape, eval_df.shape"
   ]
  },
  {
   "cell_type": "code",
   "execution_count": 345,
   "id": "849a9e3d-e72a-4242-8235-cf121ed2185a",
   "metadata": {},
   "outputs": [
    {
     "data": {
      "text/html": [
       "<div>\n",
       "<style scoped>\n",
       "    .dataframe tbody tr th:only-of-type {\n",
       "        vertical-align: middle;\n",
       "    }\n",
       "\n",
       "    .dataframe tbody tr th {\n",
       "        vertical-align: top;\n",
       "    }\n",
       "\n",
       "    .dataframe thead th {\n",
       "        text-align: right;\n",
       "    }\n",
       "</style>\n",
       "<table border=\"1\" class=\"dataframe\">\n",
       "  <thead>\n",
       "    <tr style=\"text-align: right;\">\n",
       "      <th></th>\n",
       "      <th>Avis.Pharmaceutique</th>\n",
       "      <th>PLT</th>\n",
       "    </tr>\n",
       "  </thead>\n",
       "  <tbody>\n",
       "    <tr>\n",
       "      <th>12044</th>\n",
       "      <td>gelules mg</td>\n",
       "      <td>0.0</td>\n",
       "    </tr>\n",
       "    <tr>\n",
       "      <th>6531</th>\n",
       "      <td>absence donnee efficacite tolerance cp ecrases...</td>\n",
       "      <td>0.0</td>\n",
       "    </tr>\n",
       "    <tr>\n",
       "      <th>1121</th>\n",
       "      <td>indication trouvee reevaluer necessite</td>\n",
       "      <td>1.0</td>\n",
       "    </tr>\n",
       "    <tr>\n",
       "      <th>1734</th>\n",
       "      <td>reference hus propose movicol dotation service lb</td>\n",
       "      <td>0.0</td>\n",
       "    </tr>\n",
       "    <tr>\n",
       "      <th>12951</th>\n",
       "      <td>coversyl mg perindopril mg cpr equivalence dos...</td>\n",
       "      <td>0.0</td>\n",
       "    </tr>\n",
       "    <tr>\n",
       "      <th>...</th>\n",
       "      <td>...</td>\n",
       "      <td>...</td>\n",
       "    </tr>\n",
       "    <tr>\n",
       "      <th>7607</th>\n",
       "      <td>patient esidrex hydrochlorothiazide mg cp hd</td>\n",
       "      <td>0.0</td>\n",
       "    </tr>\n",
       "    <tr>\n",
       "      <th>5592</th>\n",
       "      <td>fin jours ttt agnes</td>\n",
       "      <td>0.0</td>\n",
       "    </tr>\n",
       "    <tr>\n",
       "      <th>1470</th>\n",
       "      <td>indique atarax hydroxysine risque majore torsa...</td>\n",
       "      <td>1.0</td>\n",
       "    </tr>\n",
       "    <tr>\n",
       "      <th>18503</th>\n",
       "      <td>substituer gel larmes</td>\n",
       "      <td>0.0</td>\n",
       "    </tr>\n",
       "    <tr>\n",
       "      <th>17293</th>\n",
       "      <td>attention risque tachycardie problemes endormi...</td>\n",
       "      <td>0.0</td>\n",
       "    </tr>\n",
       "  </tbody>\n",
       "</table>\n",
       "<p>18512 rows × 2 columns</p>\n",
       "</div>"
      ],
      "text/plain": [
       "                                     Avis.Pharmaceutique  PLT\n",
       "12044                                         gelules mg  0.0\n",
       "6531   absence donnee efficacite tolerance cp ecrases...  0.0\n",
       "1121              indication trouvee reevaluer necessite  1.0\n",
       "1734   reference hus propose movicol dotation service lb  0.0\n",
       "12951  coversyl mg perindopril mg cpr equivalence dos...  0.0\n",
       "...                                                  ...  ...\n",
       "7607        patient esidrex hydrochlorothiazide mg cp hd  0.0\n",
       "5592                                 fin jours ttt agnes  0.0\n",
       "1470   indique atarax hydroxysine risque majore torsa...  1.0\n",
       "18503                              substituer gel larmes  0.0\n",
       "17293  attention risque tachycardie problemes endormi...  0.0\n",
       "\n",
       "[18512 rows x 2 columns]"
      ]
     },
     "execution_count": 345,
     "metadata": {},
     "output_type": "execute_result"
    }
   ],
   "source": [
    "train_df"
   ]
  },
  {
   "cell_type": "code",
   "execution_count": 346,
   "id": "fd305552-19d2-479e-aa30-f6efafc77066",
   "metadata": {},
   "outputs": [
    {
     "data": {
      "text/plain": [
       "\"\\nargs = {\\n   'output_dir': 'outputs/',\\n   'cache_dir': 'cache/',\\n   'fp16': True,\\n   'fp16_opt_level': 'O1',\\n   'max_seq_length': 256,\\n   'train_batch_size': 8,\\n   'eval_batch_size': 8,\\n   'gradient_accumulation_steps': 1,\\n   'num_train_epochs': 3,\\n   'weight_decay': 0,\\n   'learning_rate': 4e-5,\\n   'adam_epsilon': 1e-8,\\n   'warmup_ratio': 0.06,\\n   'warmup_steps': 0,\\n   'max_grad_norm': 1.0,\\n   'logging_steps': 50,\\n   'evaluate_during_training': False,\\n   'save_steps': 2000,\\n   'eval_all_checkpoints': True,\\n   'use_tensorboard': True,\\n   'overwrite_output_dir': True,\\n   'reprocess_input_data': False,\\n}\\n\""
      ]
     },
     "execution_count": 346,
     "metadata": {},
     "output_type": "execute_result"
    }
   ],
   "source": [
    "from simpletransformers.classification import ClassificationModel\n",
    "import pandas as pd\n",
    "import logging\n",
    "import sklearn\n",
    "\n",
    "\n",
    "logging.basicConfig(level=logging.INFO)\n",
    "transformers_logger = logging.getLogger(\"transformers\")\n",
    "transformers_logger.setLevel(logging.WARNING)\n",
    "\n",
    "# They are lot of arguments to play with\n",
    "'''\n",
    "args = {\n",
    "   'output_dir': 'outputs/',\n",
    "   'cache_dir': 'cache/',\n",
    "   'fp16': True,\n",
    "   'fp16_opt_level': 'O1',\n",
    "   'max_seq_length': 256,\n",
    "   'train_batch_size': 8,\n",
    "   'eval_batch_size': 8,\n",
    "   'gradient_accumulation_steps': 1,\n",
    "   'num_train_epochs': 3,\n",
    "   'weight_decay': 0,\n",
    "   'learning_rate': 4e-5,\n",
    "   'adam_epsilon': 1e-8,\n",
    "   'warmup_ratio': 0.06,\n",
    "   'warmup_steps': 0,\n",
    "   'max_grad_norm': 1.0,\n",
    "   'logging_steps': 50,\n",
    "   'evaluate_during_training': False,\n",
    "   'save_steps': 2000,\n",
    "   'eval_all_checkpoints': True,\n",
    "   'use_tensorboard': True,\n",
    "   'overwrite_output_dir': True,\n",
    "   'reprocess_input_data': False,\n",
    "}\n",
    "'''\n",
    "\n"
   ]
  },
  {
   "cell_type": "code",
   "execution_count": 347,
   "id": "fa761ce1-559d-4fbb-914d-4ba836826fa3",
   "metadata": {},
   "outputs": [],
   "source": [
    "import torch\n",
    "torch.cuda.empty_cache()"
   ]
  },
  {
   "cell_type": "code",
   "execution_count": 348,
   "id": "18d6d7e6-9353-43e3-aab9-ff059d8322e2",
   "metadata": {},
   "outputs": [
    {
     "data": {
      "text/plain": [
       "True"
      ]
     },
     "execution_count": 348,
     "metadata": {},
     "output_type": "execute_result"
    }
   ],
   "source": [
    "torch.cuda.is_available()"
   ]
  },
  {
   "cell_type": "code",
   "execution_count": 349,
   "id": "4f793226-2320-4916-a6b5-a095dcadc10d",
   "metadata": {},
   "outputs": [
    {
     "data": {
      "text/plain": [
       "tensor([0.], device='cuda:0')"
      ]
     },
     "execution_count": 349,
     "metadata": {},
     "output_type": "execute_result"
    }
   ],
   "source": [
    "torch.zeros(1).cuda()\n"
   ]
  },
  {
   "cell_type": "code",
   "execution_count": 362,
   "id": "bc33cf58-eb46-4ccb-9b57-653220f9adf1",
   "metadata": {
    "collapsed": true,
    "jupyter": {
     "outputs_hidden": true
    },
    "tags": []
   },
   "outputs": [
    {
     "name": "stderr",
     "output_type": "stream",
     "text": [
      "Some weights of the model checkpoint at xlnet-base-cased were not used when initializing XLNetForSequenceClassification: ['lm_loss.bias', 'lm_loss.weight']\n",
      "- This IS expected if you are initializing XLNetForSequenceClassification from the checkpoint of a model trained on another task or with another architecture (e.g. initializing a BertForSequenceClassification model from a BertForPreTraining model).\n",
      "- This IS NOT expected if you are initializing XLNetForSequenceClassification from the checkpoint of a model that you expect to be exactly identical (initializing a BertForSequenceClassification model from a BertForSequenceClassification model).\n",
      "Some weights of XLNetForSequenceClassification were not initialized from the model checkpoint at xlnet-base-cased and are newly initialized: ['sequence_summary.summary.weight', 'sequence_summary.summary.bias', 'logits_proj.bias', 'logits_proj.weight']\n",
      "You should probably TRAIN this model on a down-stream task to be able to use it for predictions and inference.\n",
      "C:\\Users\\murat\\anaconda3\\lib\\site-packages\\simpletransformers\\classification\\classification_model.py:612: UserWarning: Dataframe headers not specified. Falling back to using column 0 as text and column 1 as labels.\n",
      "  warnings.warn(\n",
      "INFO:simpletransformers.classification.classification_utils: Converting to features started. Cache is not used.\n"
     ]
    },
    {
     "data": {
      "application/vnd.jupyter.widget-view+json": {
       "model_id": "dfb5aaf678e64a54968fc3d339c839fe",
       "version_major": 2,
       "version_minor": 0
      },
      "text/plain": [
       "  0%|          | 0/18512 [00:00<?, ?it/s]"
      ]
     },
     "metadata": {},
     "output_type": "display_data"
    },
    {
     "name": "stderr",
     "output_type": "stream",
     "text": [
      "INFO:simpletransformers.classification.classification_utils: Saving features into cached file cache_dir/cached_train_xlnet_40_2_2\n"
     ]
    },
    {
     "data": {
      "application/vnd.jupyter.widget-view+json": {
       "model_id": "e1d1ab7a26ff4e5eb770e8adc11c520c",
       "version_major": 2,
       "version_minor": 0
      },
      "text/plain": [
       "Epoch:   0%|          | 0/4 [00:00<?, ?it/s]"
      ]
     },
     "metadata": {},
     "output_type": "display_data"
    },
    {
     "data": {
      "application/vnd.jupyter.widget-view+json": {
       "model_id": "34a51dcadfcd4fa99947c81ed34418b5",
       "version_major": 2,
       "version_minor": 0
      },
      "text/plain": [
       "Running Epoch 0 of 4:   0%|          | 0/579 [00:00<?, ?it/s]"
      ]
     },
     "metadata": {},
     "output_type": "display_data"
    },
    {
     "name": "stderr",
     "output_type": "stream",
     "text": [
      "C:\\Users\\murat\\anaconda3\\lib\\site-packages\\torch\\optim\\lr_scheduler.py:131: UserWarning: Detected call of `lr_scheduler.step()` before `optimizer.step()`. In PyTorch 1.1.0 and later, you should call them in the opposite order: `optimizer.step()` before `lr_scheduler.step()`.  Failure to do this will result in PyTorch skipping the first value of the learning rate schedule. See more details at https://pytorch.org/docs/stable/optim.html#how-to-adjust-learning-rate\n",
      "  warnings.warn(\"Detected call of `lr_scheduler.step()` before `optimizer.step()`. \"\n"
     ]
    },
    {
     "data": {
      "application/vnd.jupyter.widget-view+json": {
       "model_id": "bdfdc391eca2446a8e750f0b56a45822",
       "version_major": 2,
       "version_minor": 0
      },
      "text/plain": [
       "Running Epoch 1 of 4:   0%|          | 0/579 [00:00<?, ?it/s]"
      ]
     },
     "metadata": {},
     "output_type": "display_data"
    },
    {
     "data": {
      "application/vnd.jupyter.widget-view+json": {
       "model_id": "17b0b58d11c94c3182f95126183338a9",
       "version_major": 2,
       "version_minor": 0
      },
      "text/plain": [
       "Running Epoch 2 of 4:   0%|          | 0/579 [00:00<?, ?it/s]"
      ]
     },
     "metadata": {},
     "output_type": "display_data"
    },
    {
     "data": {
      "application/vnd.jupyter.widget-view+json": {
       "model_id": "bbe1949e8c4348af82e221190c86d937",
       "version_major": 2,
       "version_minor": 0
      },
      "text/plain": [
       "Running Epoch 3 of 4:   0%|          | 0/579 [00:00<?, ?it/s]"
      ]
     },
     "metadata": {},
     "output_type": "display_data"
    },
    {
     "name": "stderr",
     "output_type": "stream",
     "text": [
      "INFO:simpletransformers.classification.classification_model: Training of xlnet model complete. Saved to outputs/.\n",
      "C:\\Users\\murat\\anaconda3\\lib\\site-packages\\simpletransformers\\classification\\classification_model.py:1454: UserWarning: Dataframe headers not specified. Falling back to using column 0 as text and column 1 as labels.\n",
      "  warnings.warn(\n",
      "INFO:simpletransformers.classification.classification_utils: Converting to features started. Cache is not used.\n"
     ]
    },
    {
     "data": {
      "application/vnd.jupyter.widget-view+json": {
       "model_id": "a1195fd7450d4f9aa8767c85d80a29b3",
       "version_major": 2,
       "version_minor": 0
      },
      "text/plain": [
       "  0%|          | 0/4629 [00:00<?, ?it/s]"
      ]
     },
     "metadata": {},
     "output_type": "display_data"
    },
    {
     "name": "stderr",
     "output_type": "stream",
     "text": [
      "INFO:simpletransformers.classification.classification_utils: Saving features into cached file cache_dir/cached_dev_xlnet_40_2_2\n"
     ]
    },
    {
     "data": {
      "application/vnd.jupyter.widget-view+json": {
       "model_id": "f804bf5488f54e5cbab619b05660899c",
       "version_major": 2,
       "version_minor": 0
      },
      "text/plain": [
       "Running Evaluation:   0%|          | 0/579 [00:00<?, ?it/s]"
      ]
     },
     "metadata": {},
     "output_type": "display_data"
    },
    {
     "name": "stderr",
     "output_type": "stream",
     "text": [
      "INFO:simpletransformers.classification.classification_model:{'mcc': 0.7472234254911528, 'tp': 772, 'tn': 3466, 'fp': 257, 'fn': 134, 'auroc': 0.9656051903358337, 'auprc': 0.9045677631277477, 'acc': 0.9155325124216893, 'eval_loss': 0.30021490547617025}\n"
     ]
    }
   ],
   "source": [
    "from simpletransformers.classification import ClassificationModel, ClassificationArgs\n",
    "model_args = ClassificationArgs(num_train_epochs=4,overwrite_output_dir=True,train_batch_size=32,max_seq_length=40)\n",
    "# Create a ClassificationModel\n",
    "model = ClassificationModel('xlnet', 'xlnet-base-cased', args=model_args,weight=[0.6,2.5]) # You can set class weights by using the optional weight argument\n",
    "\n",
    "# Train the model\n",
    "model.train_model(train_df)\n",
    "\n",
    "# Evaluate the model\n",
    "result, model_outputs, wrong_predictions = model.eval_model(eval_df, acc=sklearn.metrics.accuracy_score)"
   ]
  },
  {
   "cell_type": "code",
   "execution_count": null,
   "id": "2fb39592-dd24-4067-aa8a-a384e09d431e",
   "metadata": {},
   "outputs": [],
   "source": []
  },
  {
   "cell_type": "code",
   "execution_count": 363,
   "id": "e5c2571b-f252-4cca-9891-a9a9125a57ae",
   "metadata": {},
   "outputs": [
    {
     "name": "stderr",
     "output_type": "stream",
     "text": [
      "INFO:simpletransformers.classification.classification_utils: Converting to features started. Cache is not used.\n"
     ]
    },
    {
     "data": {
      "application/vnd.jupyter.widget-view+json": {
       "model_id": "c536f46480ef4ab39c8161954e2b5db3",
       "version_major": 2,
       "version_minor": 0
      },
      "text/plain": [
       "  0%|          | 0/4629 [00:00<?, ?it/s]"
      ]
     },
     "metadata": {},
     "output_type": "display_data"
    },
    {
     "data": {
      "application/vnd.jupyter.widget-view+json": {
       "model_id": "29b195f7fa454af69b5347620b7edf0e",
       "version_major": 2,
       "version_minor": 0
      },
      "text/plain": [
       "  0%|          | 0/579 [00:00<?, ?it/s]"
      ]
     },
     "metadata": {},
     "output_type": "display_data"
    }
   ],
   "source": [
    "predictions, raw_outputs = model.predict(X_test.tolist())"
   ]
  },
  {
   "cell_type": "code",
   "execution_count": null,
   "id": "05936e53-b7ea-4fe3-b618-13ce190be9d3",
   "metadata": {},
   "outputs": [],
   "source": [
    "predictions"
   ]
  },
  {
   "cell_type": "code",
   "execution_count": 364,
   "id": "8fd39ba9-13cb-49f0-b9f8-d08fed95e0f5",
   "metadata": {},
   "outputs": [
    {
     "name": "stdout",
     "output_type": "stream",
     "text": [
      "              precision    recall  f1-score   support\n",
      "\n",
      "         0.0       0.96      0.93      0.95      3723\n",
      "         1.0       0.75      0.85      0.80       906\n",
      "\n",
      "    accuracy                           0.92      4629\n",
      "   macro avg       0.86      0.89      0.87      4629\n",
      "weighted avg       0.92      0.92      0.92      4629\n",
      "\n",
      "[[3466  257]\n",
      " [ 134  772]]\n"
     ]
    }
   ],
   "source": [
    "print(classification_report(y_test,predictions))\n",
    "print(confusion_matrix(y_test,predictions))"
   ]
  },
  {
   "cell_type": "code",
   "execution_count": null,
   "id": "a98b7277-4e7c-4172-b300-a2163eb58200",
   "metadata": {},
   "outputs": [],
   "source": [
    "#### Without numbers"
   ]
  },
  {
   "cell_type": "code",
   "execution_count": 31,
   "id": "9fbe5ca5-846b-4238-bb82-73254e28cbfd",
   "metadata": {
    "collapsed": true,
    "jupyter": {
     "outputs_hidden": true
    },
    "tags": []
   },
   "outputs": [
    {
     "name": "stderr",
     "output_type": "stream",
     "text": [
      "Some weights of the model checkpoint at roberta-base were not used when initializing RobertaForSequenceClassification: ['lm_head.layer_norm.bias', 'roberta.pooler.dense.bias', 'roberta.pooler.dense.weight', 'lm_head.decoder.weight', 'lm_head.layer_norm.weight', 'lm_head.dense.bias', 'lm_head.dense.weight', 'lm_head.bias']\n",
      "- This IS expected if you are initializing RobertaForSequenceClassification from the checkpoint of a model trained on another task or with another architecture (e.g. initializing a BertForSequenceClassification model from a BertForPreTraining model).\n",
      "- This IS NOT expected if you are initializing RobertaForSequenceClassification from the checkpoint of a model that you expect to be exactly identical (initializing a BertForSequenceClassification model from a BertForSequenceClassification model).\n",
      "Some weights of RobertaForSequenceClassification were not initialized from the model checkpoint at roberta-base and are newly initialized: ['classifier.out_proj.weight', 'classifier.dense.weight', 'classifier.dense.bias', 'classifier.out_proj.bias']\n",
      "You should probably TRAIN this model on a down-stream task to be able to use it for predictions and inference.\n",
      "C:\\Users\\murat\\anaconda3\\lib\\site-packages\\simpletransformers\\classification\\classification_model.py:612: UserWarning: Dataframe headers not specified. Falling back to using column 0 as text and column 1 as labels.\n",
      "  warnings.warn(\n",
      "INFO:simpletransformers.classification.classification_utils: Converting to features started. Cache is not used.\n"
     ]
    },
    {
     "data": {
      "application/vnd.jupyter.widget-view+json": {
       "model_id": "142ef730a5e84a36a1c01b4753662603",
       "version_major": 2,
       "version_minor": 0
      },
      "text/plain": [
       "  0%|          | 0/18512 [00:00<?, ?it/s]"
      ]
     },
     "metadata": {},
     "output_type": "display_data"
    },
    {
     "name": "stderr",
     "output_type": "stream",
     "text": [
      "INFO:simpletransformers.classification.classification_utils: Saving features into cached file cache_dir/cached_train_roberta_40_2_2\n"
     ]
    },
    {
     "data": {
      "application/vnd.jupyter.widget-view+json": {
       "model_id": "851da92ab52344a2b8f9359a70ee1f3c",
       "version_major": 2,
       "version_minor": 0
      },
      "text/plain": [
       "Epoch:   0%|          | 0/4 [00:00<?, ?it/s]"
      ]
     },
     "metadata": {},
     "output_type": "display_data"
    },
    {
     "data": {
      "application/vnd.jupyter.widget-view+json": {
       "model_id": "f6ca383a890b4ad09e2473ff902a8b4d",
       "version_major": 2,
       "version_minor": 0
      },
      "text/plain": [
       "Running Epoch 0 of 4:   0%|          | 0/579 [00:00<?, ?it/s]"
      ]
     },
     "metadata": {},
     "output_type": "display_data"
    },
    {
     "data": {
      "application/vnd.jupyter.widget-view+json": {
       "model_id": "8fe6cb69d4904abd8f91358e64716072",
       "version_major": 2,
       "version_minor": 0
      },
      "text/plain": [
       "Running Epoch 1 of 4:   0%|          | 0/579 [00:00<?, ?it/s]"
      ]
     },
     "metadata": {},
     "output_type": "display_data"
    },
    {
     "data": {
      "application/vnd.jupyter.widget-view+json": {
       "model_id": "f53bed380cdb4bc88b64d3d816ec20c1",
       "version_major": 2,
       "version_minor": 0
      },
      "text/plain": [
       "Running Epoch 2 of 4:   0%|          | 0/579 [00:00<?, ?it/s]"
      ]
     },
     "metadata": {},
     "output_type": "display_data"
    },
    {
     "data": {
      "application/vnd.jupyter.widget-view+json": {
       "model_id": "e0632c445ce54f45969da07da0d5e132",
       "version_major": 2,
       "version_minor": 0
      },
      "text/plain": [
       "Running Epoch 3 of 4:   0%|          | 0/579 [00:00<?, ?it/s]"
      ]
     },
     "metadata": {},
     "output_type": "display_data"
    },
    {
     "name": "stderr",
     "output_type": "stream",
     "text": [
      "INFO:simpletransformers.classification.classification_model: Training of roberta model complete. Saved to outputs/.\n",
      "C:\\Users\\murat\\anaconda3\\lib\\site-packages\\simpletransformers\\classification\\classification_model.py:1454: UserWarning: Dataframe headers not specified. Falling back to using column 0 as text and column 1 as labels.\n",
      "  warnings.warn(\n",
      "INFO:simpletransformers.classification.classification_utils: Converting to features started. Cache is not used.\n"
     ]
    },
    {
     "data": {
      "application/vnd.jupyter.widget-view+json": {
       "model_id": "d5ff58a8fc9941b9986584911e92fd7a",
       "version_major": 2,
       "version_minor": 0
      },
      "text/plain": [
       "  0%|          | 0/4629 [00:00<?, ?it/s]"
      ]
     },
     "metadata": {},
     "output_type": "display_data"
    },
    {
     "name": "stderr",
     "output_type": "stream",
     "text": [
      "INFO:simpletransformers.classification.classification_utils: Saving features into cached file cache_dir/cached_dev_roberta_40_2_2\n"
     ]
    },
    {
     "data": {
      "application/vnd.jupyter.widget-view+json": {
       "model_id": "b438ddf6145c45ee82e565ce0f9a610d",
       "version_major": 2,
       "version_minor": 0
      },
      "text/plain": [
       "Running Evaluation:   0%|          | 0/579 [00:00<?, ?it/s]"
      ]
     },
     "metadata": {},
     "output_type": "display_data"
    },
    {
     "name": "stderr",
     "output_type": "stream",
     "text": [
      "INFO:simpletransformers.classification.classification_model:{'mcc': 0.7573027732510283, 'tp': 700, 'tn': 3584, 'fp': 139, 'fn': 206, 'auroc': 0.9626615531755053, 'auprc': 0.8931586617957168, 'acc': 0.9254698639014906, 'eval_loss': 0.22275299306344465}\n"
     ]
    }
   ],
   "source": [
    "# Create a ClassificationModel\n",
    "model = ClassificationModel(\"roberta\", \"roberta-base\", args={'num_train_epochs':4, 'train_batch_size':32, 'max_seq_length':40,'overwrite_output_dir': True}) # You can set class weights by using the optional weight argument\n",
    "\n",
    "# Train the model\n",
    "model.train_model(train_df)\n",
    "\n",
    "# Evaluate the model\n",
    "result, model_outputs, wrong_predictions = model.eval_model(eval_df, acc=sklearn.metrics.accuracy_score)"
   ]
  },
  {
   "cell_type": "code",
   "execution_count": 32,
   "id": "67260892-36b0-4b95-a105-f572bf7ed1a7",
   "metadata": {
    "collapsed": true,
    "jupyter": {
     "outputs_hidden": true
    },
    "tags": []
   },
   "outputs": [
    {
     "name": "stderr",
     "output_type": "stream",
     "text": [
      "INFO:simpletransformers.classification.classification_utils: Converting to features started. Cache is not used.\n"
     ]
    },
    {
     "data": {
      "application/vnd.jupyter.widget-view+json": {
       "model_id": "f2579c2ad6034ea3b3ccf304cfaf6f0a",
       "version_major": 2,
       "version_minor": 0
      },
      "text/plain": [
       "  0%|          | 0/4629 [00:00<?, ?it/s]"
      ]
     },
     "metadata": {},
     "output_type": "display_data"
    },
    {
     "data": {
      "application/vnd.jupyter.widget-view+json": {
       "model_id": "eb44bbcede184e9f8e41b05896dc4e0f",
       "version_major": 2,
       "version_minor": 0
      },
      "text/plain": [
       "  0%|          | 0/579 [00:00<?, ?it/s]"
      ]
     },
     "metadata": {},
     "output_type": "display_data"
    }
   ],
   "source": [
    "predictions, raw_outputs = model.predict(X_test.tolist())"
   ]
  },
  {
   "cell_type": "code",
   "execution_count": 33,
   "id": "f2e15b90-57ff-4b43-bb67-1e870713fff6",
   "metadata": {},
   "outputs": [
    {
     "name": "stdout",
     "output_type": "stream",
     "text": [
      "              precision    recall  f1-score   support\n",
      "\n",
      "           0       0.95      0.96      0.95      3723\n",
      "           1       0.83      0.77      0.80       906\n",
      "\n",
      "    accuracy                           0.93      4629\n",
      "   macro avg       0.89      0.87      0.88      4629\n",
      "weighted avg       0.92      0.93      0.92      4629\n",
      "\n",
      "[[3584  139]\n",
      " [ 206  700]]\n"
     ]
    }
   ],
   "source": [
    "print(classification_report(y_test,predictions))\n",
    "print(confusion_matrix(y_test,predictions))"
   ]
  },
  {
   "cell_type": "code",
   "execution_count": null,
   "id": "af6dfd70-c1d3-4408-8b01-91d59bc2c09b",
   "metadata": {},
   "outputs": [],
   "source": []
  }
 ],
 "metadata": {
  "kernelspec": {
   "display_name": "Python 3 (ipykernel)",
   "language": "python",
   "name": "python3"
  },
  "language_info": {
   "codemirror_mode": {
    "name": "ipython",
    "version": 3
   },
   "file_extension": ".py",
   "mimetype": "text/x-python",
   "name": "python",
   "nbconvert_exporter": "python",
   "pygments_lexer": "ipython3",
   "version": "3.9.7"
  }
 },
 "nbformat": 4,
 "nbformat_minor": 5
}
